{
 "cells": [
  {
   "cell_type": "markdown",
   "metadata": {},
   "source": [
    "# 1. Introduction et préparation"
   ]
  },
  {
   "cell_type": "markdown",
   "metadata": {},
   "source": [
    "## 1.1. Importation des packages"
   ]
  },
  {
   "cell_type": "code",
   "execution_count": 1,
   "metadata": {},
   "outputs": [],
   "source": [
    "import pandas as pd\n",
    "import numpy as np\n",
    "import seaborn as sn\n",
    "import time\n",
    "import matplotlib.pyplot as plt\n",
    "from collections import defaultdict\n",
    "from sklearn import ensemble \n",
    "from sklearn.preprocessing import LabelEncoder, StandardScaler\n",
    "from sklearn.linear_model import SGDClassifier\n",
    "from sklearn import model_selection, naive_bayes, svm\n",
    "from sklearn.metrics import accuracy_score, f1_score, classification_report, precision_score, recall_score\n",
    "from sklearn.feature_extraction.text import TfidfVectorizer, CountVectorizer\n",
    "from sklearn.model_selection import train_test_split, cross_val_score\n",
    "# KNN classifier\n",
    "from sklearn.neighbors import KNeighborsClassifier\n",
    "# Evaluation Metrics\n",
    "from sklearn.metrics import confusion_matrix as cm\n",
    "from sklearn.decomposition import TruncatedSVD\n",
    "from sklearn.model_selection import GridSearchCV\n",
    "from sklearn.linear_model import LogisticRegression\n",
    "from sklearn.svm import LinearSVC\n",
    "from sklearn.pipeline import Pipeline\n",
    "from tqdm import tqdm_notebook, tnrange\n",
    "from sklearn.model_selection import train_test_split\n",
    "import yellowbrick\n",
    "from yellowbrick.text import TSNEVisualizer\n",
    "from tqdm._tqdm_notebook import tqdm_notebook as tqdm\n",
    "import time\n",
    "np.random.seed(10)"
   ]
  },
  {
   "cell_type": "markdown",
   "metadata": {},
   "source": [
    "## 1.2. Chargement des données"
   ]
  },
  {
   "cell_type": "raw",
   "metadata": {},
   "source": [
    "On va charger les données que l'on a déjà nettoyer et pré-traiter, on vérifie une nouvelle fois que l'on se débarasse des lignes ne possédant pas de commentaires "
   ]
  },
  {
   "cell_type": "code",
   "execution_count": 2,
   "metadata": {},
   "outputs": [
    {
     "data": {
      "text/plain": [
       "5    39167\n",
       "4    39143\n",
       "3    39081\n",
       "1    39019\n",
       "2    38957\n",
       "Name: Positivité, dtype: int64"
      ]
     },
     "execution_count": 2,
     "metadata": {},
     "output_type": "execute_result"
    }
   ],
   "source": [
    "amazon = pd.read_csv(r'C:\\Users\\Bastien\\Desktop\\Data - Rapport\\0. Base de données\\1. Saved versions\\amazon_reviews_balanced_prepro.csv',sep=',',encoding='utf-8')\n",
    "amazon = amazon.dropna(subset=['CleanedText'])\n",
    "amazon = amazon.loc[:, ~amazon.columns.str.contains('^Unnamed')]\n",
    "amazon['Positivité'].value_counts()"
   ]
  },
  {
   "cell_type": "markdown",
   "metadata": {},
   "source": [
    "## 1.3. Séparation des données en jeu de tests et d'entrainements"
   ]
  },
  {
   "cell_type": "raw",
   "metadata": {},
   "source": [
    "Avant de procéder à la séparation des données, on va mélanger nos commentaires dans chacune des notations (5,4,3,2,1). Cela est réalisé dans le but d'utiliser seulement une partie de nos commentaires (pour éviter des temps d'entrainements trop longs de nos modèles) pour sélectionner notre modèle, après quoi nous pourrons augmenter le nombre de données. Si l'on veut ne conserver qu'une partie de ces données, il est important de mélanger chaque catégorie avant de les sélectionner. "
   ]
  },
  {
   "cell_type": "code",
   "execution_count": 3,
   "metadata": {},
   "outputs": [],
   "source": [
    "import random\n",
    "def shuffle(df):\n",
    "    index = list(df.index)\n",
    "    random.shuffle(index)\n",
    "    df = df.loc[index]\n",
    "    df = df.reset_index()\n",
    "    df = df.loc[:, ~df.columns.str.contains('^index')]\n",
    "    return df"
   ]
  },
  {
   "cell_type": "code",
   "execution_count": 4,
   "metadata": {},
   "outputs": [],
   "source": [
    "rating_5 = amazon[amazon['Positivité']==5]\n",
    "rating_4 = amazon[amazon['Positivité']==4]\n",
    "rating_3 = amazon[amazon['Positivité']==3]\n",
    "rating_2 = amazon[amazon['Positivité']==2]\n",
    "rating_1 = amazon[amazon['Positivité']==1]\n",
    "\n",
    "rating_5 = shuffle(rating_5)\n",
    "rating_4 = shuffle(rating_4)\n",
    "rating_3 = shuffle(rating_3)\n",
    "rating_2 = shuffle(rating_2)\n",
    "rating_1 = shuffle(rating_1)"
   ]
  },
  {
   "cell_type": "code",
   "execution_count": 5,
   "metadata": {},
   "outputs": [],
   "source": [
    "rating_5 = rating_5[0:6000]\n",
    "rating_4 = rating_4[0:6000]\n",
    "rating_3 = rating_3[0:6000]\n",
    "rating_2 = rating_2[0:6000]\n",
    "rating_1 = rating_1[0:6000]"
   ]
  },
  {
   "cell_type": "raw",
   "metadata": {},
   "source": [
    "Une fois les données mélanger, nous séparons chaque catégorie en jeux d'entraînement et de test. Une fois fait, nous assemblons les jeux (d'entrainement et de cible de chaque catégorie) et nous obtenons nos jeux finalisés. "
   ]
  },
  {
   "cell_type": "code",
   "execution_count": 6,
   "metadata": {},
   "outputs": [],
   "source": [
    "X_train_5, X_test_5, y_train_5, y_test_5 = train_test_split(rating_5['CleanedText_With_Stop'], rating_5['Positivité'], test_size = 0.3, shuffle = False)\n",
    "X_train_4, X_test_4, y_train_4, y_test_4 = train_test_split(rating_4['CleanedText_With_Stop'], rating_4['Positivité'], test_size = 0.3, shuffle = False)\n",
    "X_train_3, X_test_3, y_train_3, y_test_3 = train_test_split(rating_3['CleanedText_With_Stop'], rating_3['Positivité'], test_size = 0.3, shuffle = False)\n",
    "X_train_2, X_test_2, y_train_2, y_test_2 = train_test_split(rating_2['CleanedText_With_Stop'], rating_2['Positivité'], test_size = 0.3, shuffle = False)\n",
    "X_train_1, X_test_1, y_train_1, y_test_1 = train_test_split(rating_1['CleanedText_With_Stop'], rating_1['Positivité'], test_size = 0.3, shuffle = False)\n",
    "\n",
    "X_train = pd.concat([X_train_5,X_train_4,X_train_3,X_train_2,X_train_1],axis=0,ignore_index=True)\n",
    "X_test = pd.concat([X_test_5,X_test_4,X_test_3,X_test_2,X_test_1],axis=0,ignore_index=True)\n",
    "Y_train = pd.concat([y_train_5,y_train_4,y_train_3,y_train_2,y_train_1],axis=0,ignore_index=True)\n",
    "Y_test = pd.concat([y_test_5,y_test_4,y_test_3,y_test_2,y_test_1],axis=0,ignore_index=True)"
   ]
  },
  {
   "cell_type": "code",
   "execution_count": 7,
   "metadata": {},
   "outputs": [
    {
     "data": {
      "text/plain": [
       "(21000,)"
      ]
     },
     "execution_count": 7,
     "metadata": {},
     "output_type": "execute_result"
    }
   ],
   "source": [
    "X_train.shape"
   ]
  },
  {
   "cell_type": "markdown",
   "metadata": {},
   "source": [
    "# 2. Détermination de la forme des variables d'entrées"
   ]
  },
  {
   "cell_type": "markdown",
   "metadata": {},
   "source": [
    "## 2.1. Introduction au problème - la présentation et le pré-traitement des données est disponioble dans les notebooks précédents (0. et 1.)"
   ]
  },
  {
   "cell_type": "raw",
   "metadata": {},
   "source": [
    "Dans le problème de Natural Language Processing (NLP) dans lequel nous nous trouvon, avant de comparer différents modèles de classification pour en extraire le meilleur, il faut déterminer la façon dont nous traitons nos \"jetons\" (mots) et la forme que prennent les données en entrée. Nous allons donc sélectionner un classifieur dont le coût en durée d'entrainements est assez faible pour déterminer les paramètres suivant : \n",
    "\n",
    "    - Doit-on utiliser les listes de \"jetons\" associées à chaque commentaires avec les mots stop ou celles dépourvues de mot ? \n",
    "Inclure les \"mots stops\" permettent d'englober tous les mots et donc de mieux inclure le sens de la phrase (des mots         comme never, not sont exclus). Les exclure permet en revanche de diminuer la longueur des vecteurs et la complexité du travail de classification. \n",
    "      \n",
    "    - Doit-on utiliser (lorque les vecteurs de mots et de commentaires sont longs > 100 variables), réaliser une réduction de dimension ? Le faire pourrait diminuer la performance (perte de données) mais aussi diminuer le coût de calcul. \n",
    "    \n",
    "    - Quel représentation de mots choisir ? La fréquence d'apparition (CountVectorizer), Fréquence Tf-IDF (TfIdfVectorizer), Word2Vec et GloVe qui sont assez connus voir les derniers embeddings découverts (Doc2Vec, BERT...)\n",
    "    \n",
    "    Bien que ce projet ait pour but d'en découvrir un certain nombre, tous les embeddings et configuration ne seront pas testées mais nous nous concentrerons sur la performance sur nos données. \n",
    "    \n",
    "    Petite Note sur la performance : la performance obtenues peut sembler faible par rapport à d'autres modèles de classification. Voici quelques pistes que l'on pourra éventuellement vérifiées : \n",
    "    - il s'agit de sentiment classification et non de classer des catégories (comme on pourrait le faire avec les catégories automobile, cellulaire, chaussures et vêtements). Chaque catégorie a souvent un vocabulaire très propre et très différent de la catégorie suivante ce qui explique de meilleures performances\n",
    "    - Contrairement à de nombreux algorithmes, le sentiment analysis ne se fait pas en fonction de deux catégories (positif/négatif) mais bien 5 (notes etoiles) ce qui complexifie e travail de traduction\n",
    "    \n",
    "    \n",
    "Stratégie : Nous nous proposons d'abord à l'aide de Régressions logistiques d'identifier la forme des données d'entrée avant de comparer les classifieurs possibles (sur lesquels nous pourrons essayer des techniques de préparation dont la performance n'était pas mauvaise). "
   ]
  },
  {
   "cell_type": "markdown",
   "metadata": {},
   "source": [
    "## 2.2. Fonction pour la régréssions logistique et pour la mesure de performance "
   ]
  },
  {
   "cell_type": "code",
   "execution_count": 389,
   "metadata": {},
   "outputs": [],
   "source": [
    "def LogReg(model_name,C_range,penalty_range,X_train,Y_train,X_test,Y_test,truncated):\n",
    "    start = time.time()\n",
    "    if truncated == True :\n",
    "        lsa = TruncatedSVD(n_components=100, n_iter=10, random_state=3)\n",
    "        #scl = StandardScaler(with_mean=True)\n",
    "        logreg = LogisticRegression()\n",
    "        #clf = Pipeline([('svd',lsa),('scl', scl), ('lr', logreg)])\n",
    "        clf = Pipeline([('svd',lsa), ('lr', logreg)])\n",
    "    elif truncated == False :\n",
    "        #scl = StandardScaler(with_mean=True)\n",
    "        logreg = LogisticRegression()\n",
    "        #clf = Pipeline([('scl', scl), ('lr', logreg)])\n",
    "        clf = Pipeline([('lr', logreg)])\n",
    "        \n",
    "    params = {'lr__C': C_range, 'lr__penalty': penalty_range}\n",
    "    gs = GridSearchCV(estimator=clf, param_grid=params, scoring='f1_macro',verbose=10, n_jobs=-1, iid=True, refit=True, cv=5)\n",
    "    gs.fit(X_train, Y_train)  \n",
    "    print(\"Best score: %0.3f\" % gs.best_score_)\n",
    "    print(\"Best parameters set:\")\n",
    "    best_parameters = gs.best_estimator_.get_params()\n",
    "    for param_name in sorted(params.keys()):\n",
    "        print(\"\\t%s: %r\" % (param_name, best_parameters[param_name]))\n",
    "    end = time.time()\n",
    "    best_model = gs.best_estimator_\n",
    "    best_model.fit(X_train,Y_train)\n",
    "    Y_pred = best_model.predict(X_test)\n",
    "    \n",
    "    acc = accuracy_score(Y_test, Y_pred)\n",
    "    prec = precision_score(Y_test, Y_pred, average='macro')\n",
    "    rec = recall_score(Y_test, Y_pred, average='macro')\n",
    "    f1 = f1_score(Y_test, Y_pred, average='macro')\n",
    "    print(classification_report(Y_test, Y_pred))\n",
    "\n",
    "    table = [[model_name,acc,prec,rec,f1,(end-start)/60]]\n",
    "\n",
    "    table = pd.DataFrame(table, columns = [\"Modèle\", \"Accuracy\",\"Precision\",'Recall',\"F1-score\",\"Computing time (minutes)\"]) \n",
    "    return table, Y_pred"
   ]
  },
  {
   "cell_type": "code",
   "execution_count": 9,
   "metadata": {},
   "outputs": [],
   "source": [
    "def confusion_matrix_p(Y_test,Y_pred):\n",
    "    df_cm = pd.DataFrame(cm(Y_test,Y_pred))\n",
    "    plt.figure(figsize = (10,7))\n",
    "    sn.heatmap(df_cm, annot=True)"
   ]
  },
  {
   "cell_type": "markdown",
   "metadata": {},
   "source": [
    "## 2.3. Détermination Avec/Sans Stopwords \n",
    "#### Paramètres Stables : CountVectorizer - Réductions de dimensions"
   ]
  },
  {
   "cell_type": "markdown",
   "metadata": {},
   "source": [
    "### 2.3.1. On conserve les stopwords"
   ]
  },
  {
   "cell_type": "code",
   "execution_count": 10,
   "metadata": {},
   "outputs": [],
   "source": [
    "# Vectorisation avec la méthode du comptage\n",
    "count = CountVectorizer()\n",
    "count.fit(X_train) # On entraîne le vectorizer seulement sur le jeu d'entraînement\n",
    "X_train_count = count.transform(X_train)\n",
    "X_test_count = count.transform(X_test)"
   ]
  },
  {
   "cell_type": "code",
   "execution_count": 160,
   "metadata": {},
   "outputs": [
    {
     "name": "stdout",
     "output_type": "stream",
     "text": [
      "Fitting 5 folds for each of 8 candidates, totalling 40 fits\n"
     ]
    },
    {
     "name": "stderr",
     "output_type": "stream",
     "text": [
      "[Parallel(n_jobs=-1)]: Using backend LokyBackend with 4 concurrent workers.\n",
      "[Parallel(n_jobs=-1)]: Done   5 tasks      | elapsed:   35.8s\n",
      "[Parallel(n_jobs=-1)]: Done  10 tasks      | elapsed:   56.0s\n",
      "[Parallel(n_jobs=-1)]: Done  17 tasks      | elapsed:  1.5min\n",
      "[Parallel(n_jobs=-1)]: Done  24 tasks      | elapsed:  1.9min\n",
      "[Parallel(n_jobs=-1)]: Done  33 tasks      | elapsed:  2.8min\n",
      "[Parallel(n_jobs=-1)]: Done  38 out of  40 | elapsed:  3.1min remaining:    9.7s\n",
      "[Parallel(n_jobs=-1)]: Done  40 out of  40 | elapsed:  3.2min finished\n",
      "C:\\Users\\Bastien\\Anaconda3\\lib\\site-packages\\sklearn\\linear_model\\logistic.py:432: FutureWarning: Default solver will be changed to 'lbfgs' in 0.22. Specify a solver to silence this warning.\n",
      "  FutureWarning)\n",
      "C:\\Users\\Bastien\\Anaconda3\\lib\\site-packages\\sklearn\\linear_model\\logistic.py:469: FutureWarning: Default multi_class will be changed to 'auto' in 0.22. Specify the multi_class option to silence this warning.\n",
      "  \"this warning.\", FutureWarning)\n"
     ]
    },
    {
     "name": "stdout",
     "output_type": "stream",
     "text": [
      "Best score: 0.389\n",
      "Best parameters set:\n",
      "\tlr__C: 1\n",
      "\tlr__penalty: 'l2'\n"
     ]
    },
    {
     "name": "stderr",
     "output_type": "stream",
     "text": [
      "C:\\Users\\Bastien\\Anaconda3\\lib\\site-packages\\sklearn\\linear_model\\logistic.py:432: FutureWarning: Default solver will be changed to 'lbfgs' in 0.22. Specify a solver to silence this warning.\n",
      "  FutureWarning)\n",
      "C:\\Users\\Bastien\\Anaconda3\\lib\\site-packages\\sklearn\\linear_model\\logistic.py:469: FutureWarning: Default multi_class will be changed to 'auto' in 0.22. Specify the multi_class option to silence this warning.\n",
      "  \"this warning.\", FutureWarning)\n"
     ]
    }
   ],
   "source": [
    "LR_Count_w_stop = LogReg(\"Logistic Regression + StopWords + Count + Truncated\",[0.1,1,10,100],['l1', 'l2'],X_train_count,Y_train,X_test_count,Y_test,truncated=True)"
   ]
  },
  {
   "cell_type": "code",
   "execution_count": 161,
   "metadata": {},
   "outputs": [
    {
     "data": {
      "text/html": [
       "<div>\n",
       "<style scoped>\n",
       "    .dataframe tbody tr th:only-of-type {\n",
       "        vertical-align: middle;\n",
       "    }\n",
       "\n",
       "    .dataframe tbody tr th {\n",
       "        vertical-align: top;\n",
       "    }\n",
       "\n",
       "    .dataframe thead th {\n",
       "        text-align: right;\n",
       "    }\n",
       "</style>\n",
       "<table border=\"1\" class=\"dataframe\">\n",
       "  <thead>\n",
       "    <tr style=\"text-align: right;\">\n",
       "      <th></th>\n",
       "      <th>Modèle</th>\n",
       "      <th>Accuracy</th>\n",
       "      <th>Precision</th>\n",
       "      <th>Recall</th>\n",
       "      <th>F1-score</th>\n",
       "      <th>Computing time (minutes)</th>\n",
       "    </tr>\n",
       "  </thead>\n",
       "  <tbody>\n",
       "    <tr>\n",
       "      <th>0</th>\n",
       "      <td>Logistic Regression + StopWords + Count + Trun...</td>\n",
       "      <td>0.413778</td>\n",
       "      <td>0.399883</td>\n",
       "      <td>0.413778</td>\n",
       "      <td>0.395995</td>\n",
       "      <td>3.330849</td>\n",
       "    </tr>\n",
       "  </tbody>\n",
       "</table>\n",
       "</div>"
      ],
      "text/plain": [
       "                                              Modèle  Accuracy  Precision  \\\n",
       "0  Logistic Regression + StopWords + Count + Trun...  0.413778   0.399883   \n",
       "\n",
       "     Recall  F1-score  Computing time (minutes)  \n",
       "0  0.413778  0.395995                  3.330849  "
      ]
     },
     "execution_count": 161,
     "metadata": {},
     "output_type": "execute_result"
    }
   ],
   "source": [
    "LR_Count_w_stop[0]"
   ]
  },
  {
   "cell_type": "code",
   "execution_count": 162,
   "metadata": {},
   "outputs": [
    {
     "name": "stdout",
     "output_type": "stream",
     "text": [
      "None\n"
     ]
    },
    {
     "data": {
      "image/png": "[encoded data removed]",
      "text/plain": [
       "<Figure size 720x504 with 2 Axes>"
      ]
     },
     "metadata": {
      "needs_background": "light"
     },
     "output_type": "display_data"
    }
   ],
   "source": [
    "print(confusion_matrix_p(Y_test,LR_Count_w_stop[1]))"
   ]
  },
  {
   "cell_type": "markdown",
   "metadata": {},
   "source": [
    "### 2.3.2. On enleve les stopwords"
   ]
  },
  {
   "cell_type": "code",
   "execution_count": 163,
   "metadata": {},
   "outputs": [],
   "source": [
    "X_train_no_sw_5 = rating_5['CleanedText'][X_train_5.index]\n",
    "X_test_no_sw_5 = rating_5['CleanedText'][X_test_5.index]\n",
    "\n",
    "X_train_no_sw_4 = rating_4['CleanedText'][X_train_4.index]\n",
    "X_test_no_sw_4 = rating_4['CleanedText'][X_test_4.index]\n",
    "\n",
    "X_train_no_sw_3 = rating_3['CleanedText'][X_train_3.index]\n",
    "X_test_no_sw_3 = rating_3['CleanedText'][X_test_3.index]\n",
    "\n",
    "X_train_no_sw_2 = rating_2['CleanedText'][X_train_2.index]\n",
    "X_test_no_sw_2 = rating_2['CleanedText'][X_test_2.index]\n",
    "\n",
    "X_train_no_sw_1 = rating_1['CleanedText'][X_train_1.index]\n",
    "X_test_no_sw_1 = rating_1['CleanedText'][X_test_1.index]"
   ]
  },
  {
   "cell_type": "code",
   "execution_count": 331,
   "metadata": {
    "scrolled": true
   },
   "outputs": [
    {
     "data": {
      "text/plain": [
       "0       ['plastic', 'process', 'use', 'make', 'pry', '...\n",
       "1       ['slightly', 'disappointing', 'buy', 'day', 'u...\n",
       "2       ['order', 'pack', 'regular', 'hanes', 'size', ...\n",
       "3       ['shoe', 'beautiful', 'love', 'retro', 'style'...\n",
       "4       ['fit', 'describe', 'arrive', 'however', 'wash...\n",
       "5       ['white', 'look', 'like', 'spray', 'paint', 'e...\n",
       "6       ['look', 'fairy', 'tail', 'lovely', 'image', '...\n",
       "7       ['pant', 'exact', 'size', 'brand', 'fit', 'gre...\n",
       "8       ['pretty', 'nice', 'knife', 'one', 'major', 'i...\n",
       "9       ['seem', 'decent', 'case', 'material', 'good',...\n",
       "10      ['benn', 'playing', 'cord', 'change', 'phone',...\n",
       "11      ['glass', 'fit', 'comfortably', 'still', 'fogg...\n",
       "12      ['fabric', 'heavier', 'expect', 'fall', 'fabri...\n",
       "13      ['mine', 'come', 'broken', 'plastic', 'brittle...\n",
       "14      ['first', 'one', 'receive', 'use', 'scratch', ...\n",
       "15      ['goggles', 'ok', 'would', 'recommend', 'use',...\n",
       "16      ['take', 'three', 'find', 'one', 'work', 'stil...\n",
       "17      ['well', 'get', 'gun', 'time', 'order', 'tone'...\n",
       "18      ['last', 'long', 'scratch', 'already', 'use', ...\n",
       "19      ['hard', 'find', 'fingerless', 'glove', 'fit',...\n",
       "20      ['intend', 'pocket', 'organizer', 'edc', 'tool...\n",
       "21      ['zeees', 'power', 'bank', 'sport', 'feature',...\n",
       "22      ['dont', 'know', 'tool', 'wasnt', 'exactly', '...\n",
       "23      ['attempt', 'make', 'good', 'bundy', 'cord', '...\n",
       "24      ['would', 'pick', 'knife', 'need', 'one', 'def...\n",
       "25      ['theory', 'product', 'make', 'sense', 'practi...\n",
       "26      ['order', 'size', 'medium', 'true', 'size', 's...\n",
       "27      ['buy', 'watch', 'expect', 'metal', 'band', 'i...\n",
       "28      ['case', 'make', 'well', 'personally', 'like',...\n",
       "29      ['care', 'look', 'lamp', 'saw', 'real', 'life'...\n",
       "                              ...                        \n",
       "4170    ['return', 'hat', 'like', 'lot', 'reviewer', '...\n",
       "4171    ['excite', 'able', 'try', 'grip', 'iphone', 't...\n",
       "4172    ['lifeproof', 'warranty', 'case', 'nothing', '...\n",
       "4173    ['product', 'come', 'stylus', 'arrive', 'home'...\n",
       "4174    ['buy', 'review', 'say', 'would', 'damage', 'c...\n",
       "4175    ['week', 'rid', 'get', 'huge', 'gash', 'side',...\n",
       "4176    ['every', 'time', 'wear', 'another', 'ring', '...\n",
       "4177    ['pretty', 'color', 'huge', 'heel', 'cut', 'we...\n",
       "4178    ['last', 'hour', 'max', 'full', 'charge', 'wou...\n",
       "4179    ['would', 'inexpensive', 'option', 'non', 'dim...\n",
       "4180    ['charge', 'certainly', 'lovely', 'display', '...\n",
       "4181    ['size', 'refer', 'cushion', 'part', 'shoe', '...\n",
       "4182    ['attract', 'shoe', 'fringe', 'detail', 'thoug...\n",
       "4183    ['look', 'cute', 'hard', 'get', 'volume', 'eve...\n",
       "4184    ['hae', 'look', 'around', 'gotten', 'something...\n",
       "4185    ['look', 'terrible', 'size', 'foot', 'could', ...\n",
       "4186    ['buy', 'go', 'stylus', 'brand', 'discover', '...\n",
       "4187    ['worn', 'pant', 'time', 'like', 'leg', 'pocke...\n",
       "4188    ['good', 'pas', 'first', 'notice', 'gold', 'ba...\n",
       "4189    ['first', 'battery', 'lasted', 'maybe', 'month...\n",
       "4190    ['ramp', 'keep', 'slide', 'pavement', 'put', '...\n",
       "4191    ['come', 'really', 'fast', 'open', 'notice', '...\n",
       "4192    ['leather', 'choker', 'own', 'year', 'soft', '...\n",
       "4193    ['send', 'unit', 'back', 'basis', 'line', 'dis...\n",
       "4194    ['easy', 'assemble', 'need', 'tool', 'take', '...\n",
       "4195    ['well', 'problem', 'everyone', 'else', 'wrap'...\n",
       "4196    ['mount', 'small', 'ultrafire', 'flashlight', ...\n",
       "4197    ['purse', 'hard', 'take', 'long', 'time', 'bre...\n",
       "4198    ['buy', 'medium', 'huge', 'compare', 'heat', '...\n",
       "4199                            ['fit', 'camero', 'good']\n",
       "Name: CleanedText, Length: 4200, dtype: object"
      ]
     },
     "execution_count": 331,
     "metadata": {},
     "output_type": "execute_result"
    }
   ],
   "source": [
    "X_train_no_sw_2"
   ]
  },
  {
   "cell_type": "code",
   "execution_count": 332,
   "metadata": {
    "scrolled": true
   },
   "outputs": [
    {
     "data": {
      "text/plain": [
       "0       ['the', 'plastic', 'or', 'process', 'use', 'to...\n",
       "1       ['slightly', 'disappoint', 'this', 'buy', 'a',...\n",
       "2       ['i', 'order', 'a', 'pack', 'of', 'regular', '...\n",
       "3       ['shoe', 'be', 'beautiful', 'love', 'this', 'r...\n",
       "4       ['fit', 'a', 'described', 'when', 'arrive', 'h...\n",
       "5       ['the', 'white', 'look', 'like', 'it', 'be', '...\n",
       "6       ['this', 'look', 'fairy', 'tail', 'lovely', 'i...\n",
       "7       ['i', 'have', 'other', 'pant', 'in', 'this', '...\n",
       "8       ['pretty', 'nice', 'knife', 'with', 'one', 'ma...\n",
       "9       ['seem', 'to', 'be', 'a', 'decent', 'case', 'm...\n",
       "10      ['i', 'have', 'benn', 'play', 'with', 'this', ...\n",
       "11      ['the', 'glass', 'fit', 'comfortably', 'but', ...\n",
       "12      ['the', 'fabric', 'be', 'heavy', 'than', 'i', ...\n",
       "13      ['mine', 'come', 'broken', 'the', 'plastic', '...\n",
       "14      ['the', 'first', 'one', 'i', 'receive', 'be', ...\n",
       "15      ['these', 'goggles', 'be', 'ok', 'i', 'would',...\n",
       "16      ['it', 'take', 'three', 'until', 'i', 'find', ...\n",
       "17      ['well', 'i', 'get', 'the', 'gun', 'on', 'time...\n",
       "18      ['it', 'do', 'not', 'last', 'long', 'i', 'have...\n",
       "19      ['it', 'should', 'not', 'be', 'so', 'hard', 't...\n",
       "20      ['this', 'be', 'intend', 'to', 'be', 'a', 'poc...\n",
       "21      ['the', 'zeees', 'power', 'bank', 'sport', 'so...\n",
       "22      ['dont', 'know', 'if', 'it', 'be', 'me', 'or',...\n",
       "23      ['this', 'be', 'an', 'attempt', 'to', 'make', ...\n",
       "24      ['just', 'so', 'so', 'i', 'would', 'not', 'pic...\n",
       "25      ['in', 'theory', 'this', 'product', 'make', 's...\n",
       "26      ['i', 'order', 'a', 'size', 'medium', 'i', 'be...\n",
       "27      ['i', 'buy', 'this', 'watch', 'expect', 'a', '...\n",
       "28      ['the', 'case', 'itself', 'be', 'make', 'very'...\n",
       "29      ['i', 'do', 'not', 'care', 'for', 'the', 'look...\n",
       "                              ...                        \n",
       "4170    ['i', 'return', 'this', 'hat', 'because', 'lik...\n",
       "4171    ['i', 'be', 'excite', 'to', 'be', 'able', 'to'...\n",
       "4172    ['lifeproof', 'only', 'have', 'a', 'warranty',...\n",
       "4173    ['this', 'product', 'come', 'with', 'a', 'styl...\n",
       "4174    ['i', 'buy', 'this', 'with', 'review', 'say', ...\n",
       "4175    ['after', 'about', 'week', 'of', 'rid', 'it', ...\n",
       "4176    ['every', 'time', 'i', 'wear', 'it', 'another'...\n",
       "4177    ['such', 'a', 'pretty', 'color', 'but', 'huge'...\n",
       "4178    ['this', 'last', 'for', 'about', 'hour', 'max'...\n",
       "4179    ['while', 'this', 'would', 'be', 'an', 'inexpe...\n",
       "4180    ['the', 'charge', 'certainly', 'have', 'a', 'l...\n",
       "4181    ['the', 'size', 'refer', 'to', 'the', 'cushion...\n",
       "4182    ['i', 'be', 'attract', 'to', 'these', 'shoe', ...\n",
       "4183    ['it', 'look', 'cute', 'but', 'it', 'be', 'har...\n",
       "4184    ['i', 'should', 'hae', 'look', 'around', 'and'...\n",
       "4185    ['these', 'look', 'terrible', 'on', 'my', 'siz...\n",
       "4186    ['i', 'buy', 'these', 'after', 'go', 'through'...\n",
       "4187    ['i', 'have', 'wear', 'these', 'pant', 'a', 'f...\n",
       "4188    ['for', 'these', 'be', 'too', 'good', 'to', 'p...\n",
       "4189    ['the', 'first', 'battery', 'last', 'maybe', '...\n",
       "4190    ['the', 'ramp', 'keep', 'slide', 'on', 'the', ...\n",
       "4191    ['it', 'come', 'really', 'fast', 'when', 'i', ...\n",
       "4192    ['i', 'have', 'a', 'leather', 'choker', 'that'...\n",
       "4193    ['we', 'have', 'to', 'send', 'this', 'unit', '...\n",
       "4194    ['this', 'be', 'easy', 'to', 'assemble', 'and'...\n",
       "4195    ['well', 'i', 'have', 'the', 'same', 'problem'...\n",
       "4196    ['the', 'mount', 'be', 'too', 'small', 'for', ...\n",
       "4197    ['this', 'purse', 'be', 'too', 'hard', 'it', '...\n",
       "4198    ['buy', 'a', 'medium', 'and', 'it', 'be', 'hug...\n",
       "4199    ['do', 'not', 'fit', 'to', 'my', 'camero', 'go...\n",
       "Name: CleanedText_With_Stop, Length: 4200, dtype: object"
      ]
     },
     "execution_count": 332,
     "metadata": {},
     "output_type": "execute_result"
    }
   ],
   "source": [
    "X_train_2"
   ]
  },
  {
   "cell_type": "code",
   "execution_count": 164,
   "metadata": {},
   "outputs": [],
   "source": [
    "X_train_no_sw = pd.concat([X_train_no_sw_5,X_train_no_sw_4,X_train_no_sw_3,X_train_no_sw_2,X_train_no_sw_1],axis=0,ignore_index=True)\n",
    "X_test_no_sw = pd.concat([X_test_no_sw_5,X_test_no_sw_4,X_test_no_sw_3,X_test_no_sw_2,X_test_no_sw_1],axis=0,ignore_index=True)"
   ]
  },
  {
   "cell_type": "code",
   "execution_count": 165,
   "metadata": {},
   "outputs": [],
   "source": [
    "# Vectorisation avec la méthode du comptage\n",
    "count = CountVectorizer()\n",
    "count.fit(X_train_no_sw) # On entraîne le vectorizer seulement sur le jeu d'entraînement\n",
    "X_train_wo_count = count.transform(X_train_no_sw)\n",
    "X_test_wo_count = count.transform(X_test_no_sw)"
   ]
  },
  {
   "cell_type": "code",
   "execution_count": 166,
   "metadata": {},
   "outputs": [
    {
     "name": "stdout",
     "output_type": "stream",
     "text": [
      "Fitting 5 folds for each of 8 candidates, totalling 40 fits\n"
     ]
    },
    {
     "name": "stderr",
     "output_type": "stream",
     "text": [
      "[Parallel(n_jobs=-1)]: Using backend LokyBackend with 4 concurrent workers.\n",
      "[Parallel(n_jobs=-1)]: Done   5 tasks      | elapsed:   31.4s\n",
      "[Parallel(n_jobs=-1)]: Done  10 tasks      | elapsed:   51.9s\n",
      "[Parallel(n_jobs=-1)]: Done  17 tasks      | elapsed:  1.4min\n",
      "[Parallel(n_jobs=-1)]: Done  24 tasks      | elapsed:  1.8min\n",
      "[Parallel(n_jobs=-1)]: Done  33 tasks      | elapsed:  2.6min\n",
      "[Parallel(n_jobs=-1)]: Done  38 out of  40 | elapsed:  2.9min remaining:    9.0s\n",
      "[Parallel(n_jobs=-1)]: Done  40 out of  40 | elapsed:  2.9min finished\n",
      "C:\\Users\\Bastien\\Anaconda3\\lib\\site-packages\\sklearn\\linear_model\\logistic.py:432: FutureWarning: Default solver will be changed to 'lbfgs' in 0.22. Specify a solver to silence this warning.\n",
      "  FutureWarning)\n",
      "C:\\Users\\Bastien\\Anaconda3\\lib\\site-packages\\sklearn\\linear_model\\logistic.py:469: FutureWarning: Default multi_class will be changed to 'auto' in 0.22. Specify the multi_class option to silence this warning.\n",
      "  \"this warning.\", FutureWarning)\n"
     ]
    },
    {
     "name": "stdout",
     "output_type": "stream",
     "text": [
      "Best score: 0.368\n",
      "Best parameters set:\n",
      "\tlr__C: 0.1\n",
      "\tlr__penalty: 'l2'\n"
     ]
    },
    {
     "name": "stderr",
     "output_type": "stream",
     "text": [
      "C:\\Users\\Bastien\\Anaconda3\\lib\\site-packages\\sklearn\\linear_model\\logistic.py:432: FutureWarning: Default solver will be changed to 'lbfgs' in 0.22. Specify a solver to silence this warning.\n",
      "  FutureWarning)\n",
      "C:\\Users\\Bastien\\Anaconda3\\lib\\site-packages\\sklearn\\linear_model\\logistic.py:469: FutureWarning: Default multi_class will be changed to 'auto' in 0.22. Specify the multi_class option to silence this warning.\n",
      "  \"this warning.\", FutureWarning)\n"
     ]
    }
   ],
   "source": [
    "LR_Count = LogReg(\"Logistic Regression Without Stopwords + Count\",[0.1,1,10,100],['l1', 'l2'],X_train_wo_count,Y_train,X_test_wo_count,Y_test,truncated=True)"
   ]
  },
  {
   "cell_type": "code",
   "execution_count": 167,
   "metadata": {},
   "outputs": [
    {
     "data": {
      "text/html": [
       "<div>\n",
       "<style scoped>\n",
       "    .dataframe tbody tr th:only-of-type {\n",
       "        vertical-align: middle;\n",
       "    }\n",
       "\n",
       "    .dataframe tbody tr th {\n",
       "        vertical-align: top;\n",
       "    }\n",
       "\n",
       "    .dataframe thead th {\n",
       "        text-align: right;\n",
       "    }\n",
       "</style>\n",
       "<table border=\"1\" class=\"dataframe\">\n",
       "  <thead>\n",
       "    <tr style=\"text-align: right;\">\n",
       "      <th></th>\n",
       "      <th>Modèle</th>\n",
       "      <th>Accuracy</th>\n",
       "      <th>Precision</th>\n",
       "      <th>Recall</th>\n",
       "      <th>F1-score</th>\n",
       "      <th>Computing time (minutes)</th>\n",
       "    </tr>\n",
       "  </thead>\n",
       "  <tbody>\n",
       "    <tr>\n",
       "      <th>0</th>\n",
       "      <td>Logistic Regression Without Stopwords + Count</td>\n",
       "      <td>0.385222</td>\n",
       "      <td>0.371288</td>\n",
       "      <td>0.385222</td>\n",
       "      <td>0.364317</td>\n",
       "      <td>3.050929</td>\n",
       "    </tr>\n",
       "  </tbody>\n",
       "</table>\n",
       "</div>"
      ],
      "text/plain": [
       "                                          Modèle  Accuracy  Precision  \\\n",
       "0  Logistic Regression Without Stopwords + Count  0.385222   0.371288   \n",
       "\n",
       "     Recall  F1-score  Computing time (minutes)  \n",
       "0  0.385222  0.364317                  3.050929  "
      ]
     },
     "execution_count": 167,
     "metadata": {},
     "output_type": "execute_result"
    }
   ],
   "source": [
    "LR_Count[0]"
   ]
  },
  {
   "cell_type": "code",
   "execution_count": 168,
   "metadata": {},
   "outputs": [
    {
     "name": "stdout",
     "output_type": "stream",
     "text": [
      "None\n"
     ]
    },
    {
     "data": {
      "image/png": "[encoded data removed]",
      "text/plain": [
       "<Figure size 720x504 with 2 Axes>"
      ]
     },
     "metadata": {
      "needs_background": "light"
     },
     "output_type": "display_data"
    }
   ],
   "source": [
    "print(confusion_matrix_p(Y_test,LR_Count[1]))"
   ]
  },
  {
   "cell_type": "markdown",
   "metadata": {},
   "source": [
    "## 2.4. Détermination Réduction de dimension ou non \n",
    "#### Paramètres Stables : Conservation des stopwords - CountVectorizer"
   ]
  },
  {
   "cell_type": "raw",
   "metadata": {},
   "source": [
    "On a déjà réalisé le modèle de régression logistique avec CountVectorizer, sans réduction de dimension et en conservant les stopwords (voir 2.3.1). On teste donc le même modèle avec un TruncatedSVD. "
   ]
  },
  {
   "cell_type": "code",
   "execution_count": 169,
   "metadata": {},
   "outputs": [
    {
     "name": "stdout",
     "output_type": "stream",
     "text": [
      "Fitting 5 folds for each of 8 candidates, totalling 40 fits\n"
     ]
    },
    {
     "name": "stderr",
     "output_type": "stream",
     "text": [
      "[Parallel(n_jobs=-1)]: Using backend LokyBackend with 4 concurrent workers.\n",
      "[Parallel(n_jobs=-1)]: Done   5 tasks      | elapsed:    3.0s\n",
      "[Parallel(n_jobs=-1)]: Done  10 tasks      | elapsed:   10.4s\n",
      "[Parallel(n_jobs=-1)]: Done  17 tasks      | elapsed:   41.7s\n",
      "[Parallel(n_jobs=-1)]: Done  24 tasks      | elapsed:   58.8s\n",
      "[Parallel(n_jobs=-1)]: Done  33 tasks      | elapsed:  2.7min\n",
      "[Parallel(n_jobs=-1)]: Done  38 out of  40 | elapsed:  4.3min remaining:   13.5s\n",
      "[Parallel(n_jobs=-1)]: Done  40 out of  40 | elapsed:  5.0min finished\n",
      "C:\\Users\\Bastien\\Anaconda3\\lib\\site-packages\\sklearn\\linear_model\\logistic.py:432: FutureWarning: Default solver will be changed to 'lbfgs' in 0.22. Specify a solver to silence this warning.\n",
      "  FutureWarning)\n",
      "C:\\Users\\Bastien\\Anaconda3\\lib\\site-packages\\sklearn\\linear_model\\logistic.py:469: FutureWarning: Default multi_class will be changed to 'auto' in 0.22. Specify the multi_class option to silence this warning.\n",
      "  \"this warning.\", FutureWarning)\n"
     ]
    },
    {
     "name": "stdout",
     "output_type": "stream",
     "text": [
      "Best score: 0.451\n",
      "Best parameters set:\n",
      "\tlr__C: 0.1\n",
      "\tlr__penalty: 'l1'\n"
     ]
    }
   ],
   "source": [
    "LR_Count_Bis = LogReg(\"Logistic Regression With Stopwords + Count\",[0.001,0.1,1,10],['l1', 'l2'],X_train_count,Y_train,X_test_count,Y_test,truncated=False)"
   ]
  },
  {
   "cell_type": "code",
   "execution_count": 170,
   "metadata": {},
   "outputs": [
    {
     "data": {
      "text/html": [
       "<div>\n",
       "<style scoped>\n",
       "    .dataframe tbody tr th:only-of-type {\n",
       "        vertical-align: middle;\n",
       "    }\n",
       "\n",
       "    .dataframe tbody tr th {\n",
       "        vertical-align: top;\n",
       "    }\n",
       "\n",
       "    .dataframe thead th {\n",
       "        text-align: right;\n",
       "    }\n",
       "</style>\n",
       "<table border=\"1\" class=\"dataframe\">\n",
       "  <thead>\n",
       "    <tr style=\"text-align: right;\">\n",
       "      <th></th>\n",
       "      <th>Modèle</th>\n",
       "      <th>Accuracy</th>\n",
       "      <th>Precision</th>\n",
       "      <th>Recall</th>\n",
       "      <th>F1-score</th>\n",
       "      <th>Computing time (minutes)</th>\n",
       "    </tr>\n",
       "  </thead>\n",
       "  <tbody>\n",
       "    <tr>\n",
       "      <th>0</th>\n",
       "      <td>Logistic Regression With Stopwords + Count</td>\n",
       "      <td>0.465556</td>\n",
       "      <td>0.452797</td>\n",
       "      <td>0.465556</td>\n",
       "      <td>0.453664</td>\n",
       "      <td>5.02115</td>\n",
       "    </tr>\n",
       "  </tbody>\n",
       "</table>\n",
       "</div>"
      ],
      "text/plain": [
       "                                       Modèle  Accuracy  Precision    Recall  \\\n",
       "0  Logistic Regression With Stopwords + Count  0.465556   0.452797  0.465556   \n",
       "\n",
       "   F1-score  Computing time (minutes)  \n",
       "0  0.453664                   5.02115  "
      ]
     },
     "execution_count": 170,
     "metadata": {},
     "output_type": "execute_result"
    }
   ],
   "source": [
    "LR_Count_Bis[0]"
   ]
  },
  {
   "cell_type": "code",
   "execution_count": 171,
   "metadata": {},
   "outputs": [
    {
     "name": "stdout",
     "output_type": "stream",
     "text": [
      "None\n"
     ]
    },
    {
     "data": {
      "image/png": "[encoded data removed]",
      "text/plain": [
       "<Figure size 720x504 with 2 Axes>"
      ]
     },
     "metadata": {
      "needs_background": "light"
     },
     "output_type": "display_data"
    }
   ],
   "source": [
    "print(confusion_matrix_p(Y_test,LR_Count_Bis[1]))"
   ]
  },
  {
   "cell_type": "markdown",
   "metadata": {},
   "source": [
    "## 2.5. Tableau récapitulatif et premiers choix"
   ]
  },
  {
   "cell_type": "code",
   "execution_count": 172,
   "metadata": {},
   "outputs": [
    {
     "data": {
      "text/html": [
       "<div>\n",
       "<style scoped>\n",
       "    .dataframe tbody tr th:only-of-type {\n",
       "        vertical-align: middle;\n",
       "    }\n",
       "\n",
       "    .dataframe tbody tr th {\n",
       "        vertical-align: top;\n",
       "    }\n",
       "\n",
       "    .dataframe thead th {\n",
       "        text-align: right;\n",
       "    }\n",
       "</style>\n",
       "<table border=\"1\" class=\"dataframe\">\n",
       "  <thead>\n",
       "    <tr style=\"text-align: right;\">\n",
       "      <th></th>\n",
       "      <th>Modèle</th>\n",
       "      <th>Accuracy</th>\n",
       "      <th>Precision</th>\n",
       "      <th>Recall</th>\n",
       "      <th>F1-score</th>\n",
       "      <th>Computing time (minutes)</th>\n",
       "    </tr>\n",
       "  </thead>\n",
       "  <tbody>\n",
       "    <tr>\n",
       "      <th>0</th>\n",
       "      <td>Logistic Regression + StopWords + Count + Trun...</td>\n",
       "      <td>0.413778</td>\n",
       "      <td>0.399883</td>\n",
       "      <td>0.413778</td>\n",
       "      <td>0.395995</td>\n",
       "      <td>3.330849</td>\n",
       "    </tr>\n",
       "    <tr>\n",
       "      <th>1</th>\n",
       "      <td>Logistic Regression Without Stopwords + Count</td>\n",
       "      <td>0.385222</td>\n",
       "      <td>0.371288</td>\n",
       "      <td>0.385222</td>\n",
       "      <td>0.364317</td>\n",
       "      <td>3.050929</td>\n",
       "    </tr>\n",
       "    <tr>\n",
       "      <th>2</th>\n",
       "      <td>Logistic Regression With Stopwords + Count</td>\n",
       "      <td>0.465556</td>\n",
       "      <td>0.452797</td>\n",
       "      <td>0.465556</td>\n",
       "      <td>0.453664</td>\n",
       "      <td>5.021150</td>\n",
       "    </tr>\n",
       "  </tbody>\n",
       "</table>\n",
       "</div>"
      ],
      "text/plain": [
       "                                              Modèle  Accuracy  Precision  \\\n",
       "0  Logistic Regression + StopWords + Count + Trun...  0.413778   0.399883   \n",
       "1      Logistic Regression Without Stopwords + Count  0.385222   0.371288   \n",
       "2         Logistic Regression With Stopwords + Count  0.465556   0.452797   \n",
       "\n",
       "     Recall  F1-score  Computing time (minutes)  \n",
       "0  0.413778  0.395995                  3.330849  \n",
       "1  0.385222  0.364317                  3.050929  \n",
       "2  0.465556  0.453664                  5.021150  "
      ]
     },
     "execution_count": 172,
     "metadata": {},
     "output_type": "execute_result"
    }
   ],
   "source": [
    "recap_1 = pd.concat([LR_Count_w_stop[0],LR_Count[0],LR_Count_Bis[0]],ignore_index=True)\n",
    "columnsTitles = ['Modèle', 'Accuracy', 'Precision','Recall', 'F1-score','Computing time (minutes)']\n",
    "recap_1 = recap_1.reindex(columns = columnsTitles)\n",
    "recap_1"
   ]
  },
  {
   "cell_type": "raw",
   "metadata": {},
   "source": [
    "1) On voit que pour l'instant, il est préférable de conserver les stopwords. \n",
    "2) A la vue du rapport performance/temps,il est préférable de ne pas réaliser une réduction de dimension. Ayant pris connaissance de cette information, nous allons cependant réaliser la réduction de dimension dans un objectif de gain de temps de sorte à pouvoir optimiser les paramètres des différents modèles et les comparer (tous avec une réduction de dimension). Une fois le meilleur modèle choisit, nous enlèverons la réduction de dimension pour obtenir le meilleur score possible. "
   ]
  },
  {
   "cell_type": "markdown",
   "metadata": {},
   "source": [
    "# 3. Word Embeddings avec la régression logistique"
   ]
  },
  {
   "cell_type": "raw",
   "metadata": {},
   "source": [
    "lCes paramètres seront conservés dans toute la suite. Désormais nous allons passés aux embeddings. D'abord nous allons utiliser quatre connus : CountVectorizer (déjà fait), TfidfVectorizer, GloVe et Word2vec. Dans ces deux derniers nous utiliserons deux méthodes pour passer des vecteurs mots aux vecteurs commentaires : moyenne classique et avec poids tf-idf. Nous réaliserons cette différence sur GloVe d'abord, prendrons le plus performant sur Word2Vec ce qui donne : \n",
    "\n",
    "    - CountVectorizer\n",
    "    - Tf-idfVectorizer\n",
    "    - Glove - MeanEmbedding\n",
    "    - Glove - TfidfEmbedding\n",
    "    - Word2Vec - le plus performant des deux ci-dessus\n",
    "    \n",
    "    Nous réaliserond ces cinqs étapes d'abord avec la régression logistique puis nous les appliquerons à d'autres classifieurs en ne gardant pour GloVe que la méthode d'aggrégation la plus performante sur la régression logistique \n",
    "La liste est alors la suivante : \n",
    "\n",
    "    - 5 modèles sur LogisticRegression\n",
    "    - 2 modèles sur Multinomial Naive Bayes (cf. plus bas uniquement COunt et Tf-IDF)\n",
    "    - 4 modèles sur SVM (moins si moins performants que les premiers dès les premiers word embeddings)\n",
    "    - 4 modèles sur k-NN (moins si moins performants que les premiers dès les premiers word embeddings)"
   ]
  },
  {
   "cell_type": "markdown",
   "metadata": {},
   "source": [
    "## 3.1. Vectorization TF-IDF et logistique régression"
   ]
  },
  {
   "cell_type": "code",
   "execution_count": 173,
   "metadata": {},
   "outputs": [],
   "source": [
    "# Vectorisation avec la méthode TF-IDF\n",
    "tf_idf = TfidfVectorizer()\n",
    "tf_idf.fit(X_train) # On entraîne le tf-idf seulement sur le jeu d'entraînement\n",
    "X_train_tfidf = tf_idf.transform(X_train)\n",
    "X_test_tfidf = tf_idf.transform(X_test)"
   ]
  },
  {
   "cell_type": "raw",
   "metadata": {},
   "source": [
    "from yellowbrick.text import TSNEVisualizer\n",
    "from yellowbrick.datasets import load_hobbies\n",
    "tsne = TSNEVisualizer()\n",
    "tsne.fit(X_train_tfidf, Y_train)\n",
    "tsne.show()"
   ]
  },
  {
   "cell_type": "code",
   "execution_count": 336,
   "metadata": {},
   "outputs": [
    {
     "data": {
      "text/plain": [
       "<21000x24918 sparse matrix of type '<class 'numpy.float64'>'\n",
       "\twith 1091876 stored elements in Compressed Sparse Row format>"
      ]
     },
     "execution_count": 336,
     "metadata": {},
     "output_type": "execute_result"
    }
   ],
   "source": [
    "X_train_tfidf"
   ]
  },
  {
   "cell_type": "code",
   "execution_count": 177,
   "metadata": {},
   "outputs": [
    {
     "name": "stdout",
     "output_type": "stream",
     "text": [
      "Fitting 5 folds for each of 8 candidates, totalling 40 fits\n"
     ]
    },
    {
     "name": "stderr",
     "output_type": "stream",
     "text": [
      "[Parallel(n_jobs=-1)]: Using backend LokyBackend with 4 concurrent workers.\n",
      "[Parallel(n_jobs=-1)]: Done   5 tasks      | elapsed:   30.0s\n",
      "[Parallel(n_jobs=-1)]: Done  10 tasks      | elapsed:   44.5s\n",
      "[Parallel(n_jobs=-1)]: Done  17 tasks      | elapsed:  1.4min\n",
      "[Parallel(n_jobs=-1)]: Done  24 tasks      | elapsed:  1.9min\n",
      "[Parallel(n_jobs=-1)]: Done  33 tasks      | elapsed:  2.7min\n",
      "[Parallel(n_jobs=-1)]: Done  38 out of  40 | elapsed:  3.0min remaining:    9.3s\n",
      "[Parallel(n_jobs=-1)]: Done  40 out of  40 | elapsed:  3.1min finished\n",
      "C:\\Users\\Bastien\\Anaconda3\\lib\\site-packages\\sklearn\\linear_model\\logistic.py:432: FutureWarning: Default solver will be changed to 'lbfgs' in 0.22. Specify a solver to silence this warning.\n",
      "  FutureWarning)\n",
      "C:\\Users\\Bastien\\Anaconda3\\lib\\site-packages\\sklearn\\linear_model\\logistic.py:469: FutureWarning: Default multi_class will be changed to 'auto' in 0.22. Specify the multi_class option to silence this warning.\n",
      "  \"this warning.\", FutureWarning)\n"
     ]
    },
    {
     "name": "stdout",
     "output_type": "stream",
     "text": [
      "Best score: 0.426\n",
      "Best parameters set:\n",
      "\tlr__C: 10\n",
      "\tlr__penalty: 'l2'\n"
     ]
    },
    {
     "name": "stderr",
     "output_type": "stream",
     "text": [
      "C:\\Users\\Bastien\\Anaconda3\\lib\\site-packages\\sklearn\\linear_model\\logistic.py:432: FutureWarning: Default solver will be changed to 'lbfgs' in 0.22. Specify a solver to silence this warning.\n",
      "  FutureWarning)\n",
      "C:\\Users\\Bastien\\Anaconda3\\lib\\site-packages\\sklearn\\linear_model\\logistic.py:469: FutureWarning: Default multi_class will be changed to 'auto' in 0.22. Specify the multi_class option to silence this warning.\n",
      "  \"this warning.\", FutureWarning)\n"
     ]
    }
   ],
   "source": [
    "LR_tfidf = LogReg(\"Logistic Regression + TF-IDF + Stop Words\",[0.1, 1,10,100],['l1', 'l2'],X_train_tfidf,Y_train,X_test_tfidf,Y_test,truncated=True)"
   ]
  },
  {
   "cell_type": "code",
   "execution_count": 178,
   "metadata": {},
   "outputs": [
    {
     "data": {
      "text/html": [
       "<div>\n",
       "<style scoped>\n",
       "    .dataframe tbody tr th:only-of-type {\n",
       "        vertical-align: middle;\n",
       "    }\n",
       "\n",
       "    .dataframe tbody tr th {\n",
       "        vertical-align: top;\n",
       "    }\n",
       "\n",
       "    .dataframe thead th {\n",
       "        text-align: right;\n",
       "    }\n",
       "</style>\n",
       "<table border=\"1\" class=\"dataframe\">\n",
       "  <thead>\n",
       "    <tr style=\"text-align: right;\">\n",
       "      <th></th>\n",
       "      <th>Modèle</th>\n",
       "      <th>Accuracy</th>\n",
       "      <th>Precision</th>\n",
       "      <th>Recall</th>\n",
       "      <th>F1-score</th>\n",
       "      <th>Computing time (minutes)</th>\n",
       "    </tr>\n",
       "  </thead>\n",
       "  <tbody>\n",
       "    <tr>\n",
       "      <th>0</th>\n",
       "      <td>Logistic Regression + TF-IDF + Stop Words</td>\n",
       "      <td>0.442889</td>\n",
       "      <td>0.429018</td>\n",
       "      <td>0.442889</td>\n",
       "      <td>0.430223</td>\n",
       "      <td>3.211547</td>\n",
       "    </tr>\n",
       "  </tbody>\n",
       "</table>\n",
       "</div>"
      ],
      "text/plain": [
       "                                      Modèle  Accuracy  Precision    Recall  \\\n",
       "0  Logistic Regression + TF-IDF + Stop Words  0.442889   0.429018  0.442889   \n",
       "\n",
       "   F1-score  Computing time (minutes)  \n",
       "0  0.430223                  3.211547  "
      ]
     },
     "execution_count": 178,
     "metadata": {},
     "output_type": "execute_result"
    }
   ],
   "source": [
    "LR_tfidf[0]"
   ]
  },
  {
   "cell_type": "code",
   "execution_count": 179,
   "metadata": {},
   "outputs": [
    {
     "name": "stdout",
     "output_type": "stream",
     "text": [
      "None\n"
     ]
    },
    {
     "data": {
      "image/png": "[encoded data removed]",
      "text/plain": [
       "<Figure size 720x504 with 2 Axes>"
      ]
     },
     "metadata": {
      "needs_background": "light"
     },
     "output_type": "display_data"
    }
   ],
   "source": [
    "print(confusion_matrix_p(Y_test,LR_tfidf[1]))"
   ]
  },
  {
   "cell_type": "markdown",
   "metadata": {},
   "source": [
    "## 3.2. GloVe Embedding and Logistic Regression"
   ]
  },
  {
   "cell_type": "markdown",
   "metadata": {},
   "source": [
    "### 3.2.1. Chargement du modèle "
   ]
  },
  {
   "cell_type": "code",
   "execution_count": 180,
   "metadata": {},
   "outputs": [],
   "source": [
    "import struct \n",
    "def model_loading(embedding_file,dim):\n",
    "    model = {}\n",
    "    f = open(embedding_file, encoding=\"utf8\")\n",
    "    for line in tqdm(f):\n",
    "        values = line.split()\n",
    "        word = ''.join(values[:-dim])\n",
    "        coefs = np.asarray(values[-dim:], dtype='float32')\n",
    "        model[word] = coefs\n",
    "    return model"
   ]
  },
  {
   "cell_type": "code",
   "execution_count": 39,
   "metadata": {},
   "outputs": [
    {
     "data": {
      "application/vnd.jupyter.widget-view+json": {
       "model_id": "e6900e4e2e064985883fe051cf87609f",
       "version_major": 2,
       "version_minor": 0
      },
      "text/plain": [
       "HBox(children=(IntProgress(value=1, bar_style='info', max=1), HTML(value='')))"
      ]
     },
     "metadata": {},
     "output_type": "display_data"
    },
    {
     "name": "stdout",
     "output_type": "stream",
     "text": [
      "\n"
     ]
    }
   ],
   "source": [
    "glove_model = model_loading(\"gensim_glove_vectors.txt\",300)"
   ]
  },
  {
   "cell_type": "markdown",
   "metadata": {},
   "source": [
    "### 3.2.2. Fonctions d'aggrégations"
   ]
  },
  {
   "cell_type": "code",
   "execution_count": 56,
   "metadata": {},
   "outputs": [],
   "source": [
    "class MeanEmbeddingVectorizer(object):\n",
    "    def __init__(self, word2vec):\n",
    "        self.word2vec = word2vec\n",
    "        if len(word2vec)>0:\n",
    "            self.dim=len(word2vec[next(iter(w2v_model))])\n",
    "        else:\n",
    "            self.dim=0\n",
    "            \n",
    "    def fit(self, X):\n",
    "        return self \n",
    "\n",
    "    def transform(self, X):\n",
    "        return np.array([\n",
    "            np.mean([self.word2vec[w] for w in words if w in self.word2vec] \n",
    "                    or [np.zeros(self.dim)], axis=0)\n",
    "            for words in X\n",
    "        ])\n",
    "\n",
    "class TfidfEmbeddingVectorizer(object):\n",
    "    def __init__(self, word2vec):\n",
    "        self.word2vec = word2vec\n",
    "        self.word2weight = None\n",
    "        if len(word2vec)>0:\n",
    "            self.dim=len(word2vec[next(iter(w2v_model))])\n",
    "        else:\n",
    "            self.dim=0\n",
    "        \n",
    "    def fit(self, X):\n",
    "        tfidf = TfidfVectorizer(analyzer=lambda x: x)\n",
    "        tfidf.fit(X)\n",
    "        # if a word was never seen - it must be at least as infrequent\n",
    "        # as any of the known words - so the default idf is the max of \n",
    "        # known idf's\n",
    "        max_idf = max(tfidf.idf_)\n",
    "        self.word2weight = defaultdict(\n",
    "            lambda: max_idf, \n",
    "            [(w, tfidf.idf_[i]) for w, i in tfidf.vocabulary_.items()])\n",
    "    \n",
    "        return self\n",
    "    \n",
    "    def transform(self, X):\n",
    "        return np.array([\n",
    "                np.mean([self.word2vec[w] * self.word2weight[w]\n",
    "                         for w in words if w in self.word2vec] or\n",
    "                        [np.zeros(self.dim)], axis=0)\n",
    "                for words in X\n",
    "            ])"
   ]
  },
  {
   "cell_type": "markdown",
   "metadata": {},
   "source": [
    "### 3.2.3. Vectorization avec aggrégation par la moyenne"
   ]
  },
  {
   "cell_type": "code",
   "execution_count": 44,
   "metadata": {},
   "outputs": [
    {
     "data": {
      "application/vnd.jupyter.widget-view+json": {
       "model_id": "29f54697429e49f39424f94b2a9ef476",
       "version_major": 2,
       "version_minor": 0
      },
      "text/plain": [
       "HBox(children=(IntProgress(value=0, max=21000), HTML(value='')))"
      ]
     },
     "metadata": {},
     "output_type": "display_data"
    },
    {
     "name": "stdout",
     "output_type": "stream",
     "text": [
      "\n"
     ]
    },
    {
     "data": {
      "application/vnd.jupyter.widget-view+json": {
       "model_id": "93f4d91c608e4e0d995e37fbec05d505",
       "version_major": 2,
       "version_minor": 0
      },
      "text/plain": [
       "HBox(children=(IntProgress(value=0, max=21000), HTML(value='')))"
      ]
     },
     "metadata": {},
     "output_type": "display_data"
    },
    {
     "name": "stdout",
     "output_type": "stream",
     "text": [
      "\n"
     ]
    },
    {
     "data": {
      "application/vnd.jupyter.widget-view+json": {
       "model_id": "0771f2af6eab4c0da884b4e21bb2fdfb",
       "version_major": 2,
       "version_minor": 0
      },
      "text/plain": [
       "HBox(children=(IntProgress(value=0, max=9000), HTML(value='')))"
      ]
     },
     "metadata": {},
     "output_type": "display_data"
    },
    {
     "name": "stdout",
     "output_type": "stream",
     "text": [
      "\n"
     ]
    },
    {
     "data": {
      "application/vnd.jupyter.widget-view+json": {
       "model_id": "e0ad192b332f498fa70be3ffeeb94a57",
       "version_major": 2,
       "version_minor": 0
      },
      "text/plain": [
       "HBox(children=(IntProgress(value=0, max=9000), HTML(value='')))"
      ]
     },
     "metadata": {},
     "output_type": "display_data"
    },
    {
     "name": "stdout",
     "output_type": "stream",
     "text": [
      "\n"
     ]
    }
   ],
   "source": [
    "import ast\n",
    "X_train_list =[review for review in tqdm(X_train)]\n",
    "X_train_list = [ast.literal_eval(review) for review in tqdm(X_train_list)]\n",
    "X_test_list =[review for review in tqdm(X_test)]\n",
    "X_test_list = [ast.literal_eval(review) for review in tqdm(X_test_list)]"
   ]
  },
  {
   "cell_type": "code",
   "execution_count": 45,
   "metadata": {},
   "outputs": [],
   "source": [
    "fit = MeanEmbeddingVectorizer(glove_model).fit(X_train_list)\n",
    "X_train_glove = fit.transform(X_train_list)\n",
    "X_test_glove = fit.transform(X_test_list)"
   ]
  },
  {
   "cell_type": "markdown",
   "metadata": {},
   "source": [
    "### 3.2.4. Vectorization avec aggrégation par poids tf-idf"
   ]
  },
  {
   "cell_type": "code",
   "execution_count": 46,
   "metadata": {},
   "outputs": [],
   "source": [
    "fit = TfidfEmbeddingVectorizer(glove_model).fit(X_train_list)\n",
    "X_train_glove_tfidf = fit.transform(X_train_list)\n",
    "X_test_glove_tfidf = fit.transform(X_test_list)"
   ]
  },
  {
   "cell_type": "markdown",
   "metadata": {},
   "source": [
    "### 3.2.5. Modélisation"
   ]
  },
  {
   "cell_type": "markdown",
   "metadata": {},
   "source": [
    "#### a) Régression Logistique avec aggrégation par la moyenne"
   ]
  },
  {
   "cell_type": "code",
   "execution_count": 49,
   "metadata": {},
   "outputs": [
    {
     "name": "stdout",
     "output_type": "stream",
     "text": [
      "Fitting 5 folds for each of 8 candidates, totalling 40 fits\n"
     ]
    },
    {
     "name": "stderr",
     "output_type": "stream",
     "text": [
      "[Parallel(n_jobs=-1)]: Using backend LokyBackend with 4 concurrent workers.\n",
      "[Parallel(n_jobs=-1)]: Done   5 tasks      | elapsed:   36.8s\n",
      "[Parallel(n_jobs=-1)]: Done  10 tasks      | elapsed:   46.1s\n",
      "[Parallel(n_jobs=-1)]: Done  17 tasks      | elapsed:  2.6min\n",
      "[Parallel(n_jobs=-1)]: Done  24 tasks      | elapsed:  4.6min\n",
      "[Parallel(n_jobs=-1)]: Done  33 tasks      | elapsed:  6.2min\n",
      "[Parallel(n_jobs=-1)]: Done  38 out of  40 | elapsed:  6.8min remaining:   21.5s\n",
      "[Parallel(n_jobs=-1)]: Done  40 out of  40 | elapsed:  7.3min finished\n",
      "C:\\Users\\Bastien\\Anaconda3\\lib\\site-packages\\sklearn\\linear_model\\logistic.py:432: FutureWarning: Default solver will be changed to 'lbfgs' in 0.22. Specify a solver to silence this warning.\n",
      "  FutureWarning)\n",
      "C:\\Users\\Bastien\\Anaconda3\\lib\\site-packages\\sklearn\\linear_model\\logistic.py:469: FutureWarning: Default multi_class will be changed to 'auto' in 0.22. Specify the multi_class option to silence this warning.\n",
      "  \"this warning.\", FutureWarning)\n"
     ]
    },
    {
     "name": "stdout",
     "output_type": "stream",
     "text": [
      "Best score: 0.411\n",
      "Best parameters set:\n",
      "\tlr__C: 10\n",
      "\tlr__penalty: 'l2'\n"
     ]
    },
    {
     "name": "stderr",
     "output_type": "stream",
     "text": [
      "C:\\Users\\Bastien\\Anaconda3\\lib\\site-packages\\sklearn\\linear_model\\logistic.py:432: FutureWarning: Default solver will be changed to 'lbfgs' in 0.22. Specify a solver to silence this warning.\n",
      "  FutureWarning)\n",
      "C:\\Users\\Bastien\\Anaconda3\\lib\\site-packages\\sklearn\\linear_model\\logistic.py:469: FutureWarning: Default multi_class will be changed to 'auto' in 0.22. Specify the multi_class option to silence this warning.\n",
      "  \"this warning.\", FutureWarning)\n"
     ]
    }
   ],
   "source": [
    "LR_golve_mean = LogReg(\"Logistic Regression + GloVe - Mean + Stop Words\",[0.1, 1,10,100],['l1', 'l2'],X_train_glove,Y_train,X_test_glove,Y_test,truncated=True)"
   ]
  },
  {
   "cell_type": "code",
   "execution_count": 50,
   "metadata": {},
   "outputs": [
    {
     "data": {
      "text/html": [
       "<div>\n",
       "<style scoped>\n",
       "    .dataframe tbody tr th:only-of-type {\n",
       "        vertical-align: middle;\n",
       "    }\n",
       "\n",
       "    .dataframe tbody tr th {\n",
       "        vertical-align: top;\n",
       "    }\n",
       "\n",
       "    .dataframe thead th {\n",
       "        text-align: right;\n",
       "    }\n",
       "</style>\n",
       "<table border=\"1\" class=\"dataframe\">\n",
       "  <thead>\n",
       "    <tr style=\"text-align: right;\">\n",
       "      <th></th>\n",
       "      <th>Modèle</th>\n",
       "      <th>Accuracy</th>\n",
       "      <th>Precision</th>\n",
       "      <th>Recall</th>\n",
       "      <th>F1-score</th>\n",
       "      <th>Computing time (minutes)</th>\n",
       "    </tr>\n",
       "  </thead>\n",
       "  <tbody>\n",
       "    <tr>\n",
       "      <th>0</th>\n",
       "      <td>Logistic Regression + GloVe - Mean + Stop Words</td>\n",
       "      <td>0.418889</td>\n",
       "      <td>0.404055</td>\n",
       "      <td>0.418889</td>\n",
       "      <td>0.405855</td>\n",
       "      <td>7.413197</td>\n",
       "    </tr>\n",
       "  </tbody>\n",
       "</table>\n",
       "</div>"
      ],
      "text/plain": [
       "                                            Modèle  Accuracy  Precision  \\\n",
       "0  Logistic Regression + GloVe - Mean + Stop Words  0.418889   0.404055   \n",
       "\n",
       "     Recall  F1-score  Computing time (minutes)  \n",
       "0  0.418889  0.405855                  7.413197  "
      ]
     },
     "execution_count": 50,
     "metadata": {},
     "output_type": "execute_result"
    }
   ],
   "source": [
    "LR_golve_mean[0]"
   ]
  },
  {
   "cell_type": "code",
   "execution_count": 51,
   "metadata": {},
   "outputs": [
    {
     "name": "stdout",
     "output_type": "stream",
     "text": [
      "None\n"
     ]
    },
    {
     "data": {
      "image/png": "[encoded data removed]",
      "text/plain": [
       "<Figure size 720x504 with 2 Axes>"
      ]
     },
     "metadata": {
      "needs_background": "light"
     },
     "output_type": "display_data"
    }
   ],
   "source": [
    "print(confusion_matrix_p(Y_test,LR_golve_mean[1]))"
   ]
  },
  {
   "cell_type": "markdown",
   "metadata": {},
   "source": [
    "#### b) Régression Logistique avec aggrégation par poids tf-idf"
   ]
  },
  {
   "cell_type": "code",
   "execution_count": 52,
   "metadata": {},
   "outputs": [
    {
     "name": "stdout",
     "output_type": "stream",
     "text": [
      "Fitting 5 folds for each of 8 candidates, totalling 40 fits\n"
     ]
    },
    {
     "name": "stderr",
     "output_type": "stream",
     "text": [
      "[Parallel(n_jobs=-1)]: Using backend LokyBackend with 4 concurrent workers.\n",
      "[Parallel(n_jobs=-1)]: Done   5 tasks      | elapsed:   39.2s\n",
      "[Parallel(n_jobs=-1)]: Done  10 tasks      | elapsed:   54.1s\n",
      "[Parallel(n_jobs=-1)]: Done  17 tasks      | elapsed:  2.0min\n",
      "[Parallel(n_jobs=-1)]: Done  24 tasks      | elapsed:  3.1min\n",
      "[Parallel(n_jobs=-1)]: Done  33 tasks      | elapsed:  3.9min\n",
      "[Parallel(n_jobs=-1)]: Done  38 out of  40 | elapsed:  4.3min remaining:   13.6s\n",
      "[Parallel(n_jobs=-1)]: Done  40 out of  40 | elapsed:  4.4min finished\n",
      "C:\\Users\\Bastien\\Anaconda3\\lib\\site-packages\\sklearn\\linear_model\\logistic.py:432: FutureWarning: Default solver will be changed to 'lbfgs' in 0.22. Specify a solver to silence this warning.\n",
      "  FutureWarning)\n",
      "C:\\Users\\Bastien\\Anaconda3\\lib\\site-packages\\sklearn\\linear_model\\logistic.py:469: FutureWarning: Default multi_class will be changed to 'auto' in 0.22. Specify the multi_class option to silence this warning.\n",
      "  \"this warning.\", FutureWarning)\n"
     ]
    },
    {
     "name": "stdout",
     "output_type": "stream",
     "text": [
      "Best score: 0.386\n",
      "Best parameters set:\n",
      "\tlr__C: 10\n",
      "\tlr__penalty: 'l2'\n"
     ]
    },
    {
     "name": "stderr",
     "output_type": "stream",
     "text": [
      "C:\\Users\\Bastien\\Anaconda3\\lib\\site-packages\\sklearn\\linear_model\\logistic.py:432: FutureWarning: Default solver will be changed to 'lbfgs' in 0.22. Specify a solver to silence this warning.\n",
      "  FutureWarning)\n",
      "C:\\Users\\Bastien\\Anaconda3\\lib\\site-packages\\sklearn\\linear_model\\logistic.py:469: FutureWarning: Default multi_class will be changed to 'auto' in 0.22. Specify the multi_class option to silence this warning.\n",
      "  \"this warning.\", FutureWarning)\n"
     ]
    }
   ],
   "source": [
    "LR_golve_tfidf = LogReg(\"Logistic Regression + GloVe - TFIDF + Stop Words\",[0.1, 1,10,100],['l1', 'l2'],X_train_glove_tfidf,Y_train,X_test_glove_tfidf,Y_test,truncated=True)"
   ]
  },
  {
   "cell_type": "code",
   "execution_count": 53,
   "metadata": {},
   "outputs": [
    {
     "data": {
      "text/html": [
       "<div>\n",
       "<style scoped>\n",
       "    .dataframe tbody tr th:only-of-type {\n",
       "        vertical-align: middle;\n",
       "    }\n",
       "\n",
       "    .dataframe tbody tr th {\n",
       "        vertical-align: top;\n",
       "    }\n",
       "\n",
       "    .dataframe thead th {\n",
       "        text-align: right;\n",
       "    }\n",
       "</style>\n",
       "<table border=\"1\" class=\"dataframe\">\n",
       "  <thead>\n",
       "    <tr style=\"text-align: right;\">\n",
       "      <th></th>\n",
       "      <th>Modèle</th>\n",
       "      <th>Accuracy</th>\n",
       "      <th>Precision</th>\n",
       "      <th>Recall</th>\n",
       "      <th>F1-score</th>\n",
       "      <th>Computing time (minutes)</th>\n",
       "    </tr>\n",
       "  </thead>\n",
       "  <tbody>\n",
       "    <tr>\n",
       "      <th>0</th>\n",
       "      <td>Logistic Regression + GloVe - TFIDF + Stop Words</td>\n",
       "      <td>0.395556</td>\n",
       "      <td>0.379013</td>\n",
       "      <td>0.395556</td>\n",
       "      <td>0.380917</td>\n",
       "      <td>4.508175</td>\n",
       "    </tr>\n",
       "  </tbody>\n",
       "</table>\n",
       "</div>"
      ],
      "text/plain": [
       "                                             Modèle  Accuracy  Precision  \\\n",
       "0  Logistic Regression + GloVe - TFIDF + Stop Words  0.395556   0.379013   \n",
       "\n",
       "     Recall  F1-score  Computing time (minutes)  \n",
       "0  0.395556  0.380917                  4.508175  "
      ]
     },
     "execution_count": 53,
     "metadata": {},
     "output_type": "execute_result"
    }
   ],
   "source": [
    "LR_golve_tfidf[0]"
   ]
  },
  {
   "cell_type": "code",
   "execution_count": 55,
   "metadata": {},
   "outputs": [
    {
     "name": "stdout",
     "output_type": "stream",
     "text": [
      "None\n"
     ]
    },
    {
     "data": {
      "image/png": "[encoded data removed]",
      "text/plain": [
       "<Figure size 720x504 with 2 Axes>"
      ]
     },
     "metadata": {
      "needs_background": "light"
     },
     "output_type": "display_data"
    }
   ],
   "source": [
    "print(confusion_matrix_p(Y_test,LR_golve_tfidf[1]))"
   ]
  },
  {
   "cell_type": "raw",
   "metadata": {},
   "source": [
    "Le modèle a pris plus de 20 minutes pour atteindre la 24e étape de cross-validation ce qui a décidé à faire une réduction de dimension dans les deux cas. On peut voir que la méthode d'aggrégation la plus performante est la moyennisation, que nous utiliserons donc dans la partie suivante avec le modèle de Word2Vec. "
   ]
  },
  {
   "cell_type": "markdown",
   "metadata": {},
   "source": [
    "## 3.3. Word2Vec Embedding and Logistic Regression"
   ]
  },
  {
   "cell_type": "code",
   "execution_count": 57,
   "metadata": {},
   "outputs": [
    {
     "data": {
      "application/vnd.jupyter.widget-view+json": {
       "model_id": "240a6895a4c04106b5d0e3705e8dba9e",
       "version_major": 2,
       "version_minor": 0
      },
      "text/plain": [
       "HBox(children=(IntProgress(value=1, bar_style='info', max=1), HTML(value='')))"
      ]
     },
     "metadata": {},
     "output_type": "display_data"
    },
    {
     "name": "stdout",
     "output_type": "stream",
     "text": [
      "\n"
     ]
    }
   ],
   "source": [
    "w2v_model = model_loading(\"GoogleNews-vectors-negative300.txt\",300)"
   ]
  },
  {
   "cell_type": "code",
   "execution_count": 58,
   "metadata": {},
   "outputs": [],
   "source": [
    "fit = MeanEmbeddingVectorizer(w2v_model).fit(X_train_list)\n",
    "X_train_w2v = fit.transform(X_train_list)\n",
    "X_test_w2v = fit.transform(X_test_list)"
   ]
  },
  {
   "cell_type": "code",
   "execution_count": 59,
   "metadata": {},
   "outputs": [
    {
     "name": "stdout",
     "output_type": "stream",
     "text": [
      "Fitting 5 folds for each of 8 candidates, totalling 40 fits\n"
     ]
    },
    {
     "name": "stderr",
     "output_type": "stream",
     "text": [
      "[Parallel(n_jobs=-1)]: Using backend LokyBackend with 4 concurrent workers.\n",
      "[Parallel(n_jobs=-1)]: Done   5 tasks      | elapsed:   32.2s\n",
      "[Parallel(n_jobs=-1)]: Done  10 tasks      | elapsed:   40.2s\n",
      "[Parallel(n_jobs=-1)]: Done  17 tasks      | elapsed:  2.9min\n",
      "[Parallel(n_jobs=-1)]: Done  24 tasks      | elapsed:  6.4min\n",
      "[Parallel(n_jobs=-1)]: Done  33 tasks      | elapsed: 12.9min\n",
      "[Parallel(n_jobs=-1)]: Done  38 out of  40 | elapsed: 13.5min remaining:   42.6s\n",
      "[Parallel(n_jobs=-1)]: Done  40 out of  40 | elapsed: 14.8min finished\n",
      "C:\\Users\\Bastien\\Anaconda3\\lib\\site-packages\\sklearn\\linear_model\\logistic.py:432: FutureWarning: Default solver will be changed to 'lbfgs' in 0.22. Specify a solver to silence this warning.\n",
      "  FutureWarning)\n",
      "C:\\Users\\Bastien\\Anaconda3\\lib\\site-packages\\sklearn\\linear_model\\logistic.py:469: FutureWarning: Default multi_class will be changed to 'auto' in 0.22. Specify the multi_class option to silence this warning.\n",
      "  \"this warning.\", FutureWarning)\n"
     ]
    },
    {
     "name": "stdout",
     "output_type": "stream",
     "text": [
      "Best score: 0.413\n",
      "Best parameters set:\n",
      "\tlr__C: 100\n",
      "\tlr__penalty: 'l2'\n"
     ]
    },
    {
     "name": "stderr",
     "output_type": "stream",
     "text": [
      "C:\\Users\\Bastien\\Anaconda3\\lib\\site-packages\\sklearn\\linear_model\\logistic.py:432: FutureWarning: Default solver will be changed to 'lbfgs' in 0.22. Specify a solver to silence this warning.\n",
      "  FutureWarning)\n",
      "C:\\Users\\Bastien\\Anaconda3\\lib\\site-packages\\sklearn\\linear_model\\logistic.py:469: FutureWarning: Default multi_class will be changed to 'auto' in 0.22. Specify the multi_class option to silence this warning.\n",
      "  \"this warning.\", FutureWarning)\n"
     ]
    }
   ],
   "source": [
    "LR_w2v_mean = LogReg(\"Logistic Regression + word2vec - Mean + Stop Words\",[0.1, 1,10,100],['l1', 'l2'],X_train_w2v,Y_train,X_test_w2v,Y_test,truncated=True)"
   ]
  },
  {
   "cell_type": "code",
   "execution_count": 60,
   "metadata": {},
   "outputs": [
    {
     "data": {
      "text/html": [
       "<div>\n",
       "<style scoped>\n",
       "    .dataframe tbody tr th:only-of-type {\n",
       "        vertical-align: middle;\n",
       "    }\n",
       "\n",
       "    .dataframe tbody tr th {\n",
       "        vertical-align: top;\n",
       "    }\n",
       "\n",
       "    .dataframe thead th {\n",
       "        text-align: right;\n",
       "    }\n",
       "</style>\n",
       "<table border=\"1\" class=\"dataframe\">\n",
       "  <thead>\n",
       "    <tr style=\"text-align: right;\">\n",
       "      <th></th>\n",
       "      <th>Modèle</th>\n",
       "      <th>Accuracy</th>\n",
       "      <th>Precision</th>\n",
       "      <th>Recall</th>\n",
       "      <th>F1-score</th>\n",
       "      <th>Computing time (minutes)</th>\n",
       "    </tr>\n",
       "  </thead>\n",
       "  <tbody>\n",
       "    <tr>\n",
       "      <th>0</th>\n",
       "      <td>Logistic Regression + word2vec - Mean + Stop W...</td>\n",
       "      <td>0.419889</td>\n",
       "      <td>0.407416</td>\n",
       "      <td>0.419889</td>\n",
       "      <td>0.40848</td>\n",
       "      <td>14.851183</td>\n",
       "    </tr>\n",
       "  </tbody>\n",
       "</table>\n",
       "</div>"
      ],
      "text/plain": [
       "                                              Modèle  Accuracy  Precision  \\\n",
       "0  Logistic Regression + word2vec - Mean + Stop W...  0.419889   0.407416   \n",
       "\n",
       "     Recall  F1-score  Computing time (minutes)  \n",
       "0  0.419889   0.40848                 14.851183  "
      ]
     },
     "execution_count": 60,
     "metadata": {},
     "output_type": "execute_result"
    }
   ],
   "source": [
    "LR_w2v_mean[0]"
   ]
  },
  {
   "cell_type": "code",
   "execution_count": 61,
   "metadata": {},
   "outputs": [
    {
     "name": "stdout",
     "output_type": "stream",
     "text": [
      "None\n"
     ]
    },
    {
     "data": {
      "image/png": "[encoded data removed]",
      "text/plain": [
       "<Figure size 720x504 with 2 Axes>"
      ]
     },
     "metadata": {
      "needs_background": "light"
     },
     "output_type": "display_data"
    }
   ],
   "source": [
    "print(confusion_matrix_p(Y_test,LR_w2v_mean[1]))"
   ]
  },
  {
   "cell_type": "markdown",
   "metadata": {},
   "source": [
    "## 3.4. Tableau récapitulatif régression logistique"
   ]
  },
  {
   "cell_type": "raw",
   "metadata": {},
   "source": [
    "Nous avons tous nos résultats avec la régression logistique donc voici le tableau récapitulatif. "
   ]
  },
  {
   "cell_type": "code",
   "execution_count": 62,
   "metadata": {},
   "outputs": [
    {
     "data": {
      "text/html": [
       "<div>\n",
       "<style scoped>\n",
       "    .dataframe tbody tr th:only-of-type {\n",
       "        vertical-align: middle;\n",
       "    }\n",
       "\n",
       "    .dataframe tbody tr th {\n",
       "        vertical-align: top;\n",
       "    }\n",
       "\n",
       "    .dataframe thead th {\n",
       "        text-align: right;\n",
       "    }\n",
       "</style>\n",
       "<table border=\"1\" class=\"dataframe\">\n",
       "  <thead>\n",
       "    <tr style=\"text-align: right;\">\n",
       "      <th></th>\n",
       "      <th>Modèle</th>\n",
       "      <th>Accuracy</th>\n",
       "      <th>Precision</th>\n",
       "      <th>Recall</th>\n",
       "      <th>F1-score</th>\n",
       "      <th>Computing time (minutes)</th>\n",
       "    </tr>\n",
       "  </thead>\n",
       "  <tbody>\n",
       "    <tr>\n",
       "      <th>0</th>\n",
       "      <td>Logistic Regression With StopWords + Count</td>\n",
       "      <td>0.465444</td>\n",
       "      <td>0.452690</td>\n",
       "      <td>0.465444</td>\n",
       "      <td>0.453576</td>\n",
       "      <td>29.543277</td>\n",
       "    </tr>\n",
       "    <tr>\n",
       "      <th>1</th>\n",
       "      <td>Logistic Regression + TF-IDF + Stop Words</td>\n",
       "      <td>0.469778</td>\n",
       "      <td>0.460204</td>\n",
       "      <td>0.469778</td>\n",
       "      <td>0.462734</td>\n",
       "      <td>2.222186</td>\n",
       "    </tr>\n",
       "    <tr>\n",
       "      <th>2</th>\n",
       "      <td>Logistic Regression + GloVe - Mean + Stop Words</td>\n",
       "      <td>0.418889</td>\n",
       "      <td>0.404055</td>\n",
       "      <td>0.418889</td>\n",
       "      <td>0.405855</td>\n",
       "      <td>7.413197</td>\n",
       "    </tr>\n",
       "    <tr>\n",
       "      <th>3</th>\n",
       "      <td>Logistic Regression + GloVe - TFIDF + Stop Words</td>\n",
       "      <td>0.395556</td>\n",
       "      <td>0.379013</td>\n",
       "      <td>0.395556</td>\n",
       "      <td>0.380917</td>\n",
       "      <td>4.508175</td>\n",
       "    </tr>\n",
       "    <tr>\n",
       "      <th>4</th>\n",
       "      <td>Logistic Regression + word2vec - Mean + Stop W...</td>\n",
       "      <td>0.419889</td>\n",
       "      <td>0.407416</td>\n",
       "      <td>0.419889</td>\n",
       "      <td>0.408480</td>\n",
       "      <td>14.851183</td>\n",
       "    </tr>\n",
       "  </tbody>\n",
       "</table>\n",
       "</div>"
      ],
      "text/plain": [
       "                                              Modèle  Accuracy  Precision  \\\n",
       "0         Logistic Regression With StopWords + Count  0.465444   0.452690   \n",
       "1          Logistic Regression + TF-IDF + Stop Words  0.469778   0.460204   \n",
       "2    Logistic Regression + GloVe - Mean + Stop Words  0.418889   0.404055   \n",
       "3   Logistic Regression + GloVe - TFIDF + Stop Words  0.395556   0.379013   \n",
       "4  Logistic Regression + word2vec - Mean + Stop W...  0.419889   0.407416   \n",
       "\n",
       "     Recall  F1-score  Computing time (minutes)  \n",
       "0  0.465444  0.453576                 29.543277  \n",
       "1  0.469778  0.462734                  2.222186  \n",
       "2  0.418889  0.405855                  7.413197  \n",
       "3  0.395556  0.380917                  4.508175  \n",
       "4  0.419889  0.408480                 14.851183  "
      ]
     },
     "execution_count": 62,
     "metadata": {},
     "output_type": "execute_result"
    }
   ],
   "source": [
    "recap_2 = pd.concat([LR_Count_w_stop[0],LR_tfidf[0],LR_golve_mean[0],LR_golve_tfidf[0],LR_w2v_mean[0]],ignore_index=True)\n",
    "columnsTitles = ['Modèle', 'Accuracy', 'Precision','Recall', 'F1-score','Computing time (minutes)']\n",
    "recap_2 = recap_2.reindex(columns = columnsTitles)\n",
    "recap_2"
   ]
  },
  {
   "cell_type": "raw",
   "metadata": {},
   "source": [
    "Nous avons désormais une vision plus claire des performances des différentes façons de présenter nos données à un classifieur. Il est préférable de conserver les stop words dans les vecteurs de \"jetons\", ainsi que d'éviter autant que faire se peut de réduire les dimensions. Concernant ce deuxième point : nous préférons pour le moment réduire les dimensions pour éviter un temps de calcul trop long en raison des validation croisées. Nous réduisons donc les dimensions pour tous les modèles dans un but comparatif. Lorsque la meilleure configuration modèle/word embeddings sera déterminé. Nous affinerons les paramètres necore une fois par valisation croisée (plus poussée et encore une fois avec réduction des dimensions). Une fois le modèle final choisit, nous augmenterons le volume de données d'entrainements et de test avant de l'entrainer sur l'ensemble des variables. "
   ]
  },
  {
   "cell_type": "markdown",
   "metadata": {},
   "source": [
    "# 4. Autres modèles "
   ]
  },
  {
   "cell_type": "raw",
   "metadata": {},
   "source": [
    "Pour la partie qui suit, nous allons utiliser divers classifieur afin de comparer les performances de la régression logistique. Dans cette optique nous utiliserons trois autres classifieurs : Multinomial Naive Bayes, Support Vector Machine et k-Plus Proche Voisins"
   ]
  },
  {
   "cell_type": "markdown",
   "metadata": {},
   "source": [
    "## 4.1. Multinomial Naive Bayes"
   ]
  },
  {
   "cell_type": "code",
   "execution_count": 382,
   "metadata": {},
   "outputs": [],
   "source": [
    "def NaiveBayesMultinomial(model_name,alpha_range,X_train,Y_train,X_test,Y_test,truncated):\n",
    "    start = time.time()\n",
    "    if truncated == True : \n",
    "        lsa = TruncatedSVD(n_components=100)\n",
    "        X_train = lsa.fit_transform(X_train)\n",
    "        X_test = lsa.transform(X_test)\n",
    "    elif truncated == False:\n",
    "        pass\n",
    "    \n",
    "    alpha = alpha_range\n",
    "    cv_scores = [] \n",
    "\n",
    "    for a in tqdm(alpha):\n",
    "        clf = naive_bayes.MultinomialNB(alpha = a)\n",
    "        scores = cross_val_score(clf, X_train, Y_train, cv=5, scoring='f1_macro')\n",
    "        cv_scores.append(scores.mean())\n",
    "    print (max(cv_scores))\n",
    "    optimal_alpha = alpha[cv_scores.index(max(cv_scores))]\n",
    "    end = time.time()\n",
    "    clf = naive_bayes.MultinomialNB(alpha = optimal_alpha)\n",
    "    clf.fit(X_train, Y_train)\n",
    "    Y_pred = clf.predict(X_test)\n",
    "\n",
    "    acc = accuracy_score(Y_test, Y_pred)\n",
    "    prec = precision_score(Y_test, Y_pred, average='macro')\n",
    "    rec = recall_score(Y_test, Y_pred, average='macro')\n",
    "    f1 = f1_score(Y_test, Y_pred, average='macro')\n",
    "    \n",
    "    table = [[model_name,optimal_alpha,acc,prec,rec,f1,(end-start)/60]]\n",
    "\n",
    "    table = pd.DataFrame(table, columns = [\"Modèle\",\"Optimal alpha\", \"Accuracy\",\"Precision\",'Recall',\"F1-score\",\"Computing time (minutes)\"]) \n",
    "    return table, alpha, cv_scores, Y_pred"
   ]
  },
  {
   "cell_type": "code",
   "execution_count": 68,
   "metadata": {},
   "outputs": [],
   "source": [
    "def parameter_optimal(param_range,cv_scores,nom_param):\n",
    "    plt.plot(param_range, cv_scores)\n",
    "    plt.xlabel(nom_param)\n",
    "    plt.ylabel(\"F1-score (macro)\")\n",
    "    plt.show()"
   ]
  },
  {
   "cell_type": "markdown",
   "metadata": {},
   "source": [
    "### 4.1.1. MNV - CountVectorizer"
   ]
  },
  {
   "cell_type": "raw",
   "metadata": {},
   "source": [
    "La réduction de dimension engendre des vecteurs représntatifs avec des valeurs négatives : nous abondonnons la réduction de dimension pour le Multinomial Naive Bayes. "
   ]
  },
  {
   "cell_type": "code",
   "execution_count": 182,
   "metadata": {},
   "outputs": [
    {
     "data": {
      "application/vnd.jupyter.widget-view+json": {
       "model_id": "98d331603a0e45879a1a4bf35818b2ea",
       "version_major": 2,
       "version_minor": 0
      },
      "text/plain": [
       "HBox(children=(IntProgress(value=0, max=40), HTML(value='')))"
      ]
     },
     "metadata": {},
     "output_type": "display_data"
    },
    {
     "name": "stdout",
     "output_type": "stream",
     "text": [
      "\n"
     ]
    }
   ],
   "source": [
    "MultiNB_Count = NaiveBayesMultinomial(\"Naive Bayes + Count\",np.linspace(0.1,4,40),X_train_count,Y_train,X_test_count,Y_test,truncated=False)"
   ]
  },
  {
   "cell_type": "code",
   "execution_count": 185,
   "metadata": {},
   "outputs": [
    {
     "data": {
      "image/png": "[encoded data removed]",
      "text/plain": [
       "<Figure size 432x288 with 1 Axes>"
      ]
     },
     "metadata": {
      "needs_background": "light"
     },
     "output_type": "display_data"
    },
    {
     "name": "stdout",
     "output_type": "stream",
     "text": [
      "None\n"
     ]
    }
   ],
   "source": [
    "print(parameter_optimal(MultiNB_Count[1],MultiNB_Count[2],\"alpha\"))"
   ]
  },
  {
   "cell_type": "code",
   "execution_count": 186,
   "metadata": {},
   "outputs": [
    {
     "data": {
      "text/html": [
       "<div>\n",
       "<style scoped>\n",
       "    .dataframe tbody tr th:only-of-type {\n",
       "        vertical-align: middle;\n",
       "    }\n",
       "\n",
       "    .dataframe tbody tr th {\n",
       "        vertical-align: top;\n",
       "    }\n",
       "\n",
       "    .dataframe thead th {\n",
       "        text-align: right;\n",
       "    }\n",
       "</style>\n",
       "<table border=\"1\" class=\"dataframe\">\n",
       "  <thead>\n",
       "    <tr style=\"text-align: right;\">\n",
       "      <th></th>\n",
       "      <th>Modèle</th>\n",
       "      <th>Optimal alpha</th>\n",
       "      <th>Accuracy</th>\n",
       "      <th>Precision</th>\n",
       "      <th>Recall</th>\n",
       "      <th>F1-score</th>\n",
       "      <th>Computing time (minutes)</th>\n",
       "    </tr>\n",
       "  </thead>\n",
       "  <tbody>\n",
       "    <tr>\n",
       "      <th>0</th>\n",
       "      <td>Naive Bayes + Count</td>\n",
       "      <td>1.8</td>\n",
       "      <td>0.438667</td>\n",
       "      <td>0.446469</td>\n",
       "      <td>0.438667</td>\n",
       "      <td>0.441051</td>\n",
       "      <td>0.15447</td>\n",
       "    </tr>\n",
       "  </tbody>\n",
       "</table>\n",
       "</div>"
      ],
      "text/plain": [
       "                Modèle  Optimal alpha  Accuracy  Precision    Recall  \\\n",
       "0  Naive Bayes + Count            1.8  0.438667   0.446469  0.438667   \n",
       "\n",
       "   F1-score  Computing time (minutes)  \n",
       "0  0.441051                   0.15447  "
      ]
     },
     "execution_count": 186,
     "metadata": {},
     "output_type": "execute_result"
    }
   ],
   "source": [
    "MultiNB_Count[0]"
   ]
  },
  {
   "cell_type": "code",
   "execution_count": 187,
   "metadata": {},
   "outputs": [
    {
     "name": "stdout",
     "output_type": "stream",
     "text": [
      "None\n"
     ]
    },
    {
     "data": {
      "image/png": "[encoded data removed]",
      "text/plain": [
       "<Figure size 720x504 with 2 Axes>"
      ]
     },
     "metadata": {
      "needs_background": "light"
     },
     "output_type": "display_data"
    }
   ],
   "source": [
    "print(confusion_matrix_p(Y_test,MultiNB_Count[3]))"
   ]
  },
  {
   "cell_type": "markdown",
   "metadata": {},
   "source": [
    "### 4.1.2. MNV - TF-IDF Vectorizer"
   ]
  },
  {
   "cell_type": "code",
   "execution_count": 383,
   "metadata": {},
   "outputs": [
    {
     "data": {
      "application/vnd.jupyter.widget-view+json": {
       "model_id": "7f082ff05075467383f4f715f3c502e1",
       "version_major": 2,
       "version_minor": 0
      },
      "text/plain": [
       "HBox(children=(IntProgress(value=0, max=40), HTML(value='')))"
      ]
     },
     "metadata": {},
     "output_type": "display_data"
    },
    {
     "name": "stdout",
     "output_type": "stream",
     "text": [
      "\n",
      "0.43543945484659635\n"
     ]
    }
   ],
   "source": [
    "MultiNB_tfidf = NaiveBayesMultinomial(\"Naive Bayes + TF-IDF\", np.linspace(0.1,4,40), X_train_tfidf , Y_train , X_test_tfidf , Y_test , truncated=False)"
   ]
  },
  {
   "cell_type": "code",
   "execution_count": 384,
   "metadata": {},
   "outputs": [
    {
     "data": {
      "image/png": "[encoded data removed]",
      "text/plain": [
       "<Figure size 432x288 with 1 Axes>"
      ]
     },
     "metadata": {
      "needs_background": "light"
     },
     "output_type": "display_data"
    },
    {
     "name": "stdout",
     "output_type": "stream",
     "text": [
      "None\n"
     ]
    }
   ],
   "source": [
    "print(parameter_optimal(MultiNB_tfidf[1],MultiNB_tfidf[2],\"alpha\"))"
   ]
  },
  {
   "cell_type": "code",
   "execution_count": 385,
   "metadata": {},
   "outputs": [
    {
     "data": {
      "text/html": [
       "<div>\n",
       "<style scoped>\n",
       "    .dataframe tbody tr th:only-of-type {\n",
       "        vertical-align: middle;\n",
       "    }\n",
       "\n",
       "    .dataframe tbody tr th {\n",
       "        vertical-align: top;\n",
       "    }\n",
       "\n",
       "    .dataframe thead th {\n",
       "        text-align: right;\n",
       "    }\n",
       "</style>\n",
       "<table border=\"1\" class=\"dataframe\">\n",
       "  <thead>\n",
       "    <tr style=\"text-align: right;\">\n",
       "      <th></th>\n",
       "      <th>Modèle</th>\n",
       "      <th>Optimal alpha</th>\n",
       "      <th>Accuracy</th>\n",
       "      <th>Precision</th>\n",
       "      <th>Recall</th>\n",
       "      <th>F1-score</th>\n",
       "      <th>Computing time (minutes)</th>\n",
       "    </tr>\n",
       "  </thead>\n",
       "  <tbody>\n",
       "    <tr>\n",
       "      <th>0</th>\n",
       "      <td>Naive Bayes + TF-IDF</td>\n",
       "      <td>2.1</td>\n",
       "      <td>0.426222</td>\n",
       "      <td>0.450745</td>\n",
       "      <td>0.426222</td>\n",
       "      <td>0.429763</td>\n",
       "      <td>0.142069</td>\n",
       "    </tr>\n",
       "  </tbody>\n",
       "</table>\n",
       "</div>"
      ],
      "text/plain": [
       "                 Modèle  Optimal alpha  Accuracy  Precision    Recall  \\\n",
       "0  Naive Bayes + TF-IDF            2.1  0.426222   0.450745  0.426222   \n",
       "\n",
       "   F1-score  Computing time (minutes)  \n",
       "0  0.429763                  0.142069  "
      ]
     },
     "execution_count": 385,
     "metadata": {},
     "output_type": "execute_result"
    }
   ],
   "source": [
    "MultiNB_tfidf[0]"
   ]
  },
  {
   "cell_type": "code",
   "execution_count": 190,
   "metadata": {},
   "outputs": [
    {
     "name": "stdout",
     "output_type": "stream",
     "text": [
      "None\n"
     ]
    },
    {
     "data": {
      "image/png": "[encoded data removed]",
      "text/plain": [
       "<Figure size 720x504 with 2 Axes>"
      ]
     },
     "metadata": {
      "needs_background": "light"
     },
     "output_type": "display_data"
    }
   ],
   "source": [
    "print(confusion_matrix_p(Y_test,MultiNB_tfidf[3]))"
   ]
  },
  {
   "cell_type": "markdown",
   "metadata": {},
   "source": [
    "### 4.1.3. MNV - GloVe"
   ]
  },
  {
   "cell_type": "code",
   "execution_count": 191,
   "metadata": {},
   "outputs": [
    {
     "data": {
      "application/vnd.jupyter.widget-view+json": {
       "model_id": "d79e8d811771468ba1e76e93ed2e8fb3",
       "version_major": 2,
       "version_minor": 0
      },
      "text/plain": [
       "HBox(children=(IntProgress(value=0, max=40), HTML(value='')))"
      ]
     },
     "metadata": {},
     "output_type": "display_data"
    },
    {
     "name": "stderr",
     "output_type": "stream",
     "text": [
      "C:\\Users\\Bastien\\Anaconda3\\lib\\site-packages\\sklearn\\model_selection\\_validation.py:528: FutureWarning: From version 0.22, errors during fit will result in a cross validation score of NaN by default. Use error_score='raise' if you want an exception raised or error_score=np.nan to adopt the behavior from version 0.22.\n",
      "  FutureWarning)\n"
     ]
    },
    {
     "name": "stdout",
     "output_type": "stream",
     "text": [
      "\n"
     ]
    },
    {
     "ename": "ValueError",
     "evalue": "Input X must be non-negative",
     "output_type": "error",
     "traceback": [
      "\u001b[1;31m---------------------------------------------------------------------------\u001b[0m",
      "\u001b[1;31mValueError\u001b[0m                                Traceback (most recent call last)",
      "\u001b[1;32m<ipython-input-191-3c77f306b0fb>\u001b[0m in \u001b[0;36m<module>\u001b[1;34m\u001b[0m\n\u001b[1;32m----> 1\u001b[1;33m \u001b[0mMultiNB_GloVe\u001b[0m \u001b[1;33m=\u001b[0m \u001b[0mNaiveBayesMultinomial\u001b[0m\u001b[1;33m(\u001b[0m\u001b[1;34m\"Naive Bayes + GloVe\"\u001b[0m\u001b[1;33m,\u001b[0m \u001b[0mnp\u001b[0m\u001b[1;33m.\u001b[0m\u001b[0mlinspace\u001b[0m\u001b[1;33m(\u001b[0m\u001b[1;36m0.1\u001b[0m\u001b[1;33m,\u001b[0m\u001b[1;36m4\u001b[0m\u001b[1;33m,\u001b[0m\u001b[1;36m40\u001b[0m\u001b[1;33m)\u001b[0m\u001b[1;33m,\u001b[0m \u001b[0mX_train_glove\u001b[0m \u001b[1;33m,\u001b[0m \u001b[0mY_train\u001b[0m \u001b[1;33m,\u001b[0m \u001b[0mX_test_glove\u001b[0m \u001b[1;33m,\u001b[0m \u001b[0mY_test\u001b[0m \u001b[1;33m,\u001b[0m \u001b[0mtruncated\u001b[0m\u001b[1;33m=\u001b[0m\u001b[1;32mFalse\u001b[0m\u001b[1;33m)\u001b[0m\u001b[1;33m\u001b[0m\u001b[1;33m\u001b[0m\u001b[0m\n\u001b[0m",
      "\u001b[1;32m<ipython-input-65-d4e7845f81bb>\u001b[0m in \u001b[0;36mNaiveBayesMultinomial\u001b[1;34m(model_name, alpha_range, X_train, Y_train, X_test, Y_test, truncated)\u001b[0m\n\u001b[0;32m     13\u001b[0m     \u001b[1;32mfor\u001b[0m \u001b[0ma\u001b[0m \u001b[1;32min\u001b[0m \u001b[0mtqdm\u001b[0m\u001b[1;33m(\u001b[0m\u001b[0malpha\u001b[0m\u001b[1;33m)\u001b[0m\u001b[1;33m:\u001b[0m\u001b[1;33m\u001b[0m\u001b[1;33m\u001b[0m\u001b[0m\n\u001b[0;32m     14\u001b[0m         \u001b[0mclf\u001b[0m \u001b[1;33m=\u001b[0m \u001b[0mnaive_bayes\u001b[0m\u001b[1;33m.\u001b[0m\u001b[0mMultinomialNB\u001b[0m\u001b[1;33m(\u001b[0m\u001b[0malpha\u001b[0m \u001b[1;33m=\u001b[0m \u001b[0ma\u001b[0m\u001b[1;33m)\u001b[0m\u001b[1;33m\u001b[0m\u001b[1;33m\u001b[0m\u001b[0m\n\u001b[1;32m---> 15\u001b[1;33m         \u001b[0mscores\u001b[0m \u001b[1;33m=\u001b[0m \u001b[0mcross_val_score\u001b[0m\u001b[1;33m(\u001b[0m\u001b[0mclf\u001b[0m\u001b[1;33m,\u001b[0m \u001b[0mX_train\u001b[0m\u001b[1;33m,\u001b[0m \u001b[0mY_train\u001b[0m\u001b[1;33m,\u001b[0m \u001b[0mcv\u001b[0m\u001b[1;33m=\u001b[0m\u001b[1;36m5\u001b[0m\u001b[1;33m,\u001b[0m \u001b[0mscoring\u001b[0m\u001b[1;33m=\u001b[0m\u001b[1;34m'f1_macro'\u001b[0m\u001b[1;33m)\u001b[0m\u001b[1;33m\u001b[0m\u001b[1;33m\u001b[0m\u001b[0m\n\u001b[0m\u001b[0;32m     16\u001b[0m         \u001b[0mcv_scores\u001b[0m\u001b[1;33m.\u001b[0m\u001b[0mappend\u001b[0m\u001b[1;33m(\u001b[0m\u001b[0mscores\u001b[0m\u001b[1;33m.\u001b[0m\u001b[0mmean\u001b[0m\u001b[1;33m(\u001b[0m\u001b[1;33m)\u001b[0m\u001b[1;33m)\u001b[0m\u001b[1;33m\u001b[0m\u001b[1;33m\u001b[0m\u001b[0m\n\u001b[0;32m     17\u001b[0m     \u001b[0moptimal_alpha\u001b[0m \u001b[1;33m=\u001b[0m \u001b[0malpha\u001b[0m\u001b[1;33m[\u001b[0m\u001b[0mcv_scores\u001b[0m\u001b[1;33m.\u001b[0m\u001b[0mindex\u001b[0m\u001b[1;33m(\u001b[0m\u001b[0mmax\u001b[0m\u001b[1;33m(\u001b[0m\u001b[0mcv_scores\u001b[0m\u001b[1;33m)\u001b[0m\u001b[1;33m)\u001b[0m\u001b[1;33m]\u001b[0m\u001b[1;33m\u001b[0m\u001b[1;33m\u001b[0m\u001b[0m\n",
      "\u001b[1;32m~\\Anaconda3\\lib\\site-packages\\sklearn\\model_selection\\_validation.py\u001b[0m in \u001b[0;36mcross_val_score\u001b[1;34m(estimator, X, y, groups, scoring, cv, n_jobs, verbose, fit_params, pre_dispatch, error_score)\u001b[0m\n\u001b[0;32m    387\u001b[0m                                 \u001b[0mfit_params\u001b[0m\u001b[1;33m=\u001b[0m\u001b[0mfit_params\u001b[0m\u001b[1;33m,\u001b[0m\u001b[1;33m\u001b[0m\u001b[1;33m\u001b[0m\u001b[0m\n\u001b[0;32m    388\u001b[0m                                 \u001b[0mpre_dispatch\u001b[0m\u001b[1;33m=\u001b[0m\u001b[0mpre_dispatch\u001b[0m\u001b[1;33m,\u001b[0m\u001b[1;33m\u001b[0m\u001b[1;33m\u001b[0m\u001b[0m\n\u001b[1;32m--> 389\u001b[1;33m                                 error_score=error_score)\n\u001b[0m\u001b[0;32m    390\u001b[0m     \u001b[1;32mreturn\u001b[0m \u001b[0mcv_results\u001b[0m\u001b[1;33m[\u001b[0m\u001b[1;34m'test_score'\u001b[0m\u001b[1;33m]\u001b[0m\u001b[1;33m\u001b[0m\u001b[1;33m\u001b[0m\u001b[0m\n\u001b[0;32m    391\u001b[0m \u001b[1;33m\u001b[0m\u001b[0m\n",
      "\u001b[1;32m~\\Anaconda3\\lib\\site-packages\\sklearn\\model_selection\\_validation.py\u001b[0m in \u001b[0;36mcross_validate\u001b[1;34m(estimator, X, y, groups, scoring, cv, n_jobs, verbose, fit_params, pre_dispatch, return_train_score, return_estimator, error_score)\u001b[0m\n\u001b[0;32m    229\u001b[0m             \u001b[0mreturn_times\u001b[0m\u001b[1;33m=\u001b[0m\u001b[1;32mTrue\u001b[0m\u001b[1;33m,\u001b[0m \u001b[0mreturn_estimator\u001b[0m\u001b[1;33m=\u001b[0m\u001b[0mreturn_estimator\u001b[0m\u001b[1;33m,\u001b[0m\u001b[1;33m\u001b[0m\u001b[1;33m\u001b[0m\u001b[0m\n\u001b[0;32m    230\u001b[0m             error_score=error_score)\n\u001b[1;32m--> 231\u001b[1;33m         for train, test in cv.split(X, y, groups))\n\u001b[0m\u001b[0;32m    232\u001b[0m \u001b[1;33m\u001b[0m\u001b[0m\n\u001b[0;32m    233\u001b[0m     \u001b[0mzipped_scores\u001b[0m \u001b[1;33m=\u001b[0m \u001b[0mlist\u001b[0m\u001b[1;33m(\u001b[0m\u001b[0mzip\u001b[0m\u001b[1;33m(\u001b[0m\u001b[1;33m*\u001b[0m\u001b[0mscores\u001b[0m\u001b[1;33m)\u001b[0m\u001b[1;33m)\u001b[0m\u001b[1;33m\u001b[0m\u001b[1;33m\u001b[0m\u001b[0m\n",
      "\u001b[1;32m~\\Anaconda3\\lib\\site-packages\\joblib\\parallel.py\u001b[0m in \u001b[0;36m__call__\u001b[1;34m(self, iterable)\u001b[0m\n\u001b[0;32m    919\u001b[0m             \u001b[1;31m# remaining jobs.\u001b[0m\u001b[1;33m\u001b[0m\u001b[1;33m\u001b[0m\u001b[1;33m\u001b[0m\u001b[0m\n\u001b[0;32m    920\u001b[0m             \u001b[0mself\u001b[0m\u001b[1;33m.\u001b[0m\u001b[0m_iterating\u001b[0m \u001b[1;33m=\u001b[0m \u001b[1;32mFalse\u001b[0m\u001b[1;33m\u001b[0m\u001b[1;33m\u001b[0m\u001b[0m\n\u001b[1;32m--> 921\u001b[1;33m             \u001b[1;32mif\u001b[0m \u001b[0mself\u001b[0m\u001b[1;33m.\u001b[0m\u001b[0mdispatch_one_batch\u001b[0m\u001b[1;33m(\u001b[0m\u001b[0miterator\u001b[0m\u001b[1;33m)\u001b[0m\u001b[1;33m:\u001b[0m\u001b[1;33m\u001b[0m\u001b[1;33m\u001b[0m\u001b[0m\n\u001b[0m\u001b[0;32m    922\u001b[0m                 \u001b[0mself\u001b[0m\u001b[1;33m.\u001b[0m\u001b[0m_iterating\u001b[0m \u001b[1;33m=\u001b[0m \u001b[0mself\u001b[0m\u001b[1;33m.\u001b[0m\u001b[0m_original_iterator\u001b[0m \u001b[1;32mis\u001b[0m \u001b[1;32mnot\u001b[0m \u001b[1;32mNone\u001b[0m\u001b[1;33m\u001b[0m\u001b[1;33m\u001b[0m\u001b[0m\n\u001b[0;32m    923\u001b[0m \u001b[1;33m\u001b[0m\u001b[0m\n",
      "\u001b[1;32m~\\Anaconda3\\lib\\site-packages\\joblib\\parallel.py\u001b[0m in \u001b[0;36mdispatch_one_batch\u001b[1;34m(self, iterator)\u001b[0m\n\u001b[0;32m    757\u001b[0m                 \u001b[1;32mreturn\u001b[0m \u001b[1;32mFalse\u001b[0m\u001b[1;33m\u001b[0m\u001b[1;33m\u001b[0m\u001b[0m\n\u001b[0;32m    758\u001b[0m             \u001b[1;32melse\u001b[0m\u001b[1;33m:\u001b[0m\u001b[1;33m\u001b[0m\u001b[1;33m\u001b[0m\u001b[0m\n\u001b[1;32m--> 759\u001b[1;33m                 \u001b[0mself\u001b[0m\u001b[1;33m.\u001b[0m\u001b[0m_dispatch\u001b[0m\u001b[1;33m(\u001b[0m\u001b[0mtasks\u001b[0m\u001b[1;33m)\u001b[0m\u001b[1;33m\u001b[0m\u001b[1;33m\u001b[0m\u001b[0m\n\u001b[0m\u001b[0;32m    760\u001b[0m                 \u001b[1;32mreturn\u001b[0m \u001b[1;32mTrue\u001b[0m\u001b[1;33m\u001b[0m\u001b[1;33m\u001b[0m\u001b[0m\n\u001b[0;32m    761\u001b[0m \u001b[1;33m\u001b[0m\u001b[0m\n",
      "\u001b[1;32m~\\Anaconda3\\lib\\site-packages\\joblib\\parallel.py\u001b[0m in \u001b[0;36m_dispatch\u001b[1;34m(self, batch)\u001b[0m\n\u001b[0;32m    714\u001b[0m         \u001b[1;32mwith\u001b[0m \u001b[0mself\u001b[0m\u001b[1;33m.\u001b[0m\u001b[0m_lock\u001b[0m\u001b[1;33m:\u001b[0m\u001b[1;33m\u001b[0m\u001b[1;33m\u001b[0m\u001b[0m\n\u001b[0;32m    715\u001b[0m             \u001b[0mjob_idx\u001b[0m \u001b[1;33m=\u001b[0m \u001b[0mlen\u001b[0m\u001b[1;33m(\u001b[0m\u001b[0mself\u001b[0m\u001b[1;33m.\u001b[0m\u001b[0m_jobs\u001b[0m\u001b[1;33m)\u001b[0m\u001b[1;33m\u001b[0m\u001b[1;33m\u001b[0m\u001b[0m\n\u001b[1;32m--> 716\u001b[1;33m             \u001b[0mjob\u001b[0m \u001b[1;33m=\u001b[0m \u001b[0mself\u001b[0m\u001b[1;33m.\u001b[0m\u001b[0m_backend\u001b[0m\u001b[1;33m.\u001b[0m\u001b[0mapply_async\u001b[0m\u001b[1;33m(\u001b[0m\u001b[0mbatch\u001b[0m\u001b[1;33m,\u001b[0m \u001b[0mcallback\u001b[0m\u001b[1;33m=\u001b[0m\u001b[0mcb\u001b[0m\u001b[1;33m)\u001b[0m\u001b[1;33m\u001b[0m\u001b[1;33m\u001b[0m\u001b[0m\n\u001b[0m\u001b[0;32m    717\u001b[0m             \u001b[1;31m# A job can complete so quickly than its callback is\u001b[0m\u001b[1;33m\u001b[0m\u001b[1;33m\u001b[0m\u001b[1;33m\u001b[0m\u001b[0m\n\u001b[0;32m    718\u001b[0m             \u001b[1;31m# called before we get here, causing self._jobs to\u001b[0m\u001b[1;33m\u001b[0m\u001b[1;33m\u001b[0m\u001b[1;33m\u001b[0m\u001b[0m\n",
      "\u001b[1;32m~\\Anaconda3\\lib\\site-packages\\joblib\\_parallel_backends.py\u001b[0m in \u001b[0;36mapply_async\u001b[1;34m(self, func, callback)\u001b[0m\n\u001b[0;32m    180\u001b[0m     \u001b[1;32mdef\u001b[0m \u001b[0mapply_async\u001b[0m\u001b[1;33m(\u001b[0m\u001b[0mself\u001b[0m\u001b[1;33m,\u001b[0m \u001b[0mfunc\u001b[0m\u001b[1;33m,\u001b[0m \u001b[0mcallback\u001b[0m\u001b[1;33m=\u001b[0m\u001b[1;32mNone\u001b[0m\u001b[1;33m)\u001b[0m\u001b[1;33m:\u001b[0m\u001b[1;33m\u001b[0m\u001b[1;33m\u001b[0m\u001b[0m\n\u001b[0;32m    181\u001b[0m         \u001b[1;34m\"\"\"Schedule a func to be run\"\"\"\u001b[0m\u001b[1;33m\u001b[0m\u001b[1;33m\u001b[0m\u001b[0m\n\u001b[1;32m--> 182\u001b[1;33m         \u001b[0mresult\u001b[0m \u001b[1;33m=\u001b[0m \u001b[0mImmediateResult\u001b[0m\u001b[1;33m(\u001b[0m\u001b[0mfunc\u001b[0m\u001b[1;33m)\u001b[0m\u001b[1;33m\u001b[0m\u001b[1;33m\u001b[0m\u001b[0m\n\u001b[0m\u001b[0;32m    183\u001b[0m         \u001b[1;32mif\u001b[0m \u001b[0mcallback\u001b[0m\u001b[1;33m:\u001b[0m\u001b[1;33m\u001b[0m\u001b[1;33m\u001b[0m\u001b[0m\n\u001b[0;32m    184\u001b[0m             \u001b[0mcallback\u001b[0m\u001b[1;33m(\u001b[0m\u001b[0mresult\u001b[0m\u001b[1;33m)\u001b[0m\u001b[1;33m\u001b[0m\u001b[1;33m\u001b[0m\u001b[0m\n",
      "\u001b[1;32m~\\Anaconda3\\lib\\site-packages\\joblib\\_parallel_backends.py\u001b[0m in \u001b[0;36m__init__\u001b[1;34m(self, batch)\u001b[0m\n\u001b[0;32m    547\u001b[0m         \u001b[1;31m# Don't delay the application, to avoid keeping the input\u001b[0m\u001b[1;33m\u001b[0m\u001b[1;33m\u001b[0m\u001b[1;33m\u001b[0m\u001b[0m\n\u001b[0;32m    548\u001b[0m         \u001b[1;31m# arguments in memory\u001b[0m\u001b[1;33m\u001b[0m\u001b[1;33m\u001b[0m\u001b[1;33m\u001b[0m\u001b[0m\n\u001b[1;32m--> 549\u001b[1;33m         \u001b[0mself\u001b[0m\u001b[1;33m.\u001b[0m\u001b[0mresults\u001b[0m \u001b[1;33m=\u001b[0m \u001b[0mbatch\u001b[0m\u001b[1;33m(\u001b[0m\u001b[1;33m)\u001b[0m\u001b[1;33m\u001b[0m\u001b[1;33m\u001b[0m\u001b[0m\n\u001b[0m\u001b[0;32m    550\u001b[0m \u001b[1;33m\u001b[0m\u001b[0m\n\u001b[0;32m    551\u001b[0m     \u001b[1;32mdef\u001b[0m \u001b[0mget\u001b[0m\u001b[1;33m(\u001b[0m\u001b[0mself\u001b[0m\u001b[1;33m)\u001b[0m\u001b[1;33m:\u001b[0m\u001b[1;33m\u001b[0m\u001b[1;33m\u001b[0m\u001b[0m\n",
      "\u001b[1;32m~\\Anaconda3\\lib\\site-packages\\joblib\\parallel.py\u001b[0m in \u001b[0;36m__call__\u001b[1;34m(self)\u001b[0m\n\u001b[0;32m    223\u001b[0m         \u001b[1;32mwith\u001b[0m \u001b[0mparallel_backend\u001b[0m\u001b[1;33m(\u001b[0m\u001b[0mself\u001b[0m\u001b[1;33m.\u001b[0m\u001b[0m_backend\u001b[0m\u001b[1;33m,\u001b[0m \u001b[0mn_jobs\u001b[0m\u001b[1;33m=\u001b[0m\u001b[0mself\u001b[0m\u001b[1;33m.\u001b[0m\u001b[0m_n_jobs\u001b[0m\u001b[1;33m)\u001b[0m\u001b[1;33m:\u001b[0m\u001b[1;33m\u001b[0m\u001b[1;33m\u001b[0m\u001b[0m\n\u001b[0;32m    224\u001b[0m             return [func(*args, **kwargs)\n\u001b[1;32m--> 225\u001b[1;33m                     for func, args, kwargs in self.items]\n\u001b[0m\u001b[0;32m    226\u001b[0m \u001b[1;33m\u001b[0m\u001b[0m\n\u001b[0;32m    227\u001b[0m     \u001b[1;32mdef\u001b[0m \u001b[0m__len__\u001b[0m\u001b[1;33m(\u001b[0m\u001b[0mself\u001b[0m\u001b[1;33m)\u001b[0m\u001b[1;33m:\u001b[0m\u001b[1;33m\u001b[0m\u001b[1;33m\u001b[0m\u001b[0m\n",
      "\u001b[1;32m~\\Anaconda3\\lib\\site-packages\\joblib\\parallel.py\u001b[0m in \u001b[0;36m<listcomp>\u001b[1;34m(.0)\u001b[0m\n\u001b[0;32m    223\u001b[0m         \u001b[1;32mwith\u001b[0m \u001b[0mparallel_backend\u001b[0m\u001b[1;33m(\u001b[0m\u001b[0mself\u001b[0m\u001b[1;33m.\u001b[0m\u001b[0m_backend\u001b[0m\u001b[1;33m,\u001b[0m \u001b[0mn_jobs\u001b[0m\u001b[1;33m=\u001b[0m\u001b[0mself\u001b[0m\u001b[1;33m.\u001b[0m\u001b[0m_n_jobs\u001b[0m\u001b[1;33m)\u001b[0m\u001b[1;33m:\u001b[0m\u001b[1;33m\u001b[0m\u001b[1;33m\u001b[0m\u001b[0m\n\u001b[0;32m    224\u001b[0m             return [func(*args, **kwargs)\n\u001b[1;32m--> 225\u001b[1;33m                     for func, args, kwargs in self.items]\n\u001b[0m\u001b[0;32m    226\u001b[0m \u001b[1;33m\u001b[0m\u001b[0m\n\u001b[0;32m    227\u001b[0m     \u001b[1;32mdef\u001b[0m \u001b[0m__len__\u001b[0m\u001b[1;33m(\u001b[0m\u001b[0mself\u001b[0m\u001b[1;33m)\u001b[0m\u001b[1;33m:\u001b[0m\u001b[1;33m\u001b[0m\u001b[1;33m\u001b[0m\u001b[0m\n",
      "\u001b[1;32m~\\Anaconda3\\lib\\site-packages\\sklearn\\model_selection\\_validation.py\u001b[0m in \u001b[0;36m_fit_and_score\u001b[1;34m(estimator, X, y, scorer, train, test, verbose, parameters, fit_params, return_train_score, return_parameters, return_n_test_samples, return_times, return_estimator, error_score)\u001b[0m\n\u001b[0;32m    512\u001b[0m             \u001b[0mestimator\u001b[0m\u001b[1;33m.\u001b[0m\u001b[0mfit\u001b[0m\u001b[1;33m(\u001b[0m\u001b[0mX_train\u001b[0m\u001b[1;33m,\u001b[0m \u001b[1;33m**\u001b[0m\u001b[0mfit_params\u001b[0m\u001b[1;33m)\u001b[0m\u001b[1;33m\u001b[0m\u001b[1;33m\u001b[0m\u001b[0m\n\u001b[0;32m    513\u001b[0m         \u001b[1;32melse\u001b[0m\u001b[1;33m:\u001b[0m\u001b[1;33m\u001b[0m\u001b[1;33m\u001b[0m\u001b[0m\n\u001b[1;32m--> 514\u001b[1;33m             \u001b[0mestimator\u001b[0m\u001b[1;33m.\u001b[0m\u001b[0mfit\u001b[0m\u001b[1;33m(\u001b[0m\u001b[0mX_train\u001b[0m\u001b[1;33m,\u001b[0m \u001b[0my_train\u001b[0m\u001b[1;33m,\u001b[0m \u001b[1;33m**\u001b[0m\u001b[0mfit_params\u001b[0m\u001b[1;33m)\u001b[0m\u001b[1;33m\u001b[0m\u001b[1;33m\u001b[0m\u001b[0m\n\u001b[0m\u001b[0;32m    515\u001b[0m \u001b[1;33m\u001b[0m\u001b[0m\n\u001b[0;32m    516\u001b[0m     \u001b[1;32mexcept\u001b[0m \u001b[0mException\u001b[0m \u001b[1;32mas\u001b[0m \u001b[0me\u001b[0m\u001b[1;33m:\u001b[0m\u001b[1;33m\u001b[0m\u001b[1;33m\u001b[0m\u001b[0m\n",
      "\u001b[1;32m~\\Anaconda3\\lib\\site-packages\\sklearn\\naive_bayes.py\u001b[0m in \u001b[0;36mfit\u001b[1;34m(self, X, y, sample_weight)\u001b[0m\n\u001b[0;32m    611\u001b[0m         self.feature_count_ = np.zeros((n_effective_classes, n_features),\n\u001b[0;32m    612\u001b[0m                                        dtype=np.float64)\n\u001b[1;32m--> 613\u001b[1;33m         \u001b[0mself\u001b[0m\u001b[1;33m.\u001b[0m\u001b[0m_count\u001b[0m\u001b[1;33m(\u001b[0m\u001b[0mX\u001b[0m\u001b[1;33m,\u001b[0m \u001b[0mY\u001b[0m\u001b[1;33m)\u001b[0m\u001b[1;33m\u001b[0m\u001b[1;33m\u001b[0m\u001b[0m\n\u001b[0m\u001b[0;32m    614\u001b[0m         \u001b[0malpha\u001b[0m \u001b[1;33m=\u001b[0m \u001b[0mself\u001b[0m\u001b[1;33m.\u001b[0m\u001b[0m_check_alpha\u001b[0m\u001b[1;33m(\u001b[0m\u001b[1;33m)\u001b[0m\u001b[1;33m\u001b[0m\u001b[1;33m\u001b[0m\u001b[0m\n\u001b[0;32m    615\u001b[0m         \u001b[0mself\u001b[0m\u001b[1;33m.\u001b[0m\u001b[0m_update_feature_log_prob\u001b[0m\u001b[1;33m(\u001b[0m\u001b[0malpha\u001b[0m\u001b[1;33m)\u001b[0m\u001b[1;33m\u001b[0m\u001b[1;33m\u001b[0m\u001b[0m\n",
      "\u001b[1;32m~\\Anaconda3\\lib\\site-packages\\sklearn\\naive_bayes.py\u001b[0m in \u001b[0;36m_count\u001b[1;34m(self, X, Y)\u001b[0m\n\u001b[0;32m    718\u001b[0m         \u001b[1;34m\"\"\"Count and smooth feature occurrences.\"\"\"\u001b[0m\u001b[1;33m\u001b[0m\u001b[1;33m\u001b[0m\u001b[0m\n\u001b[0;32m    719\u001b[0m         \u001b[1;32mif\u001b[0m \u001b[0mnp\u001b[0m\u001b[1;33m.\u001b[0m\u001b[0many\u001b[0m\u001b[1;33m(\u001b[0m\u001b[1;33m(\u001b[0m\u001b[0mX\u001b[0m\u001b[1;33m.\u001b[0m\u001b[0mdata\u001b[0m \u001b[1;32mif\u001b[0m \u001b[0missparse\u001b[0m\u001b[1;33m(\u001b[0m\u001b[0mX\u001b[0m\u001b[1;33m)\u001b[0m \u001b[1;32melse\u001b[0m \u001b[0mX\u001b[0m\u001b[1;33m)\u001b[0m \u001b[1;33m<\u001b[0m \u001b[1;36m0\u001b[0m\u001b[1;33m)\u001b[0m\u001b[1;33m:\u001b[0m\u001b[1;33m\u001b[0m\u001b[1;33m\u001b[0m\u001b[0m\n\u001b[1;32m--> 720\u001b[1;33m             \u001b[1;32mraise\u001b[0m \u001b[0mValueError\u001b[0m\u001b[1;33m(\u001b[0m\u001b[1;34m\"Input X must be non-negative\"\u001b[0m\u001b[1;33m)\u001b[0m\u001b[1;33m\u001b[0m\u001b[1;33m\u001b[0m\u001b[0m\n\u001b[0m\u001b[0;32m    721\u001b[0m         \u001b[0mself\u001b[0m\u001b[1;33m.\u001b[0m\u001b[0mfeature_count_\u001b[0m \u001b[1;33m+=\u001b[0m \u001b[0msafe_sparse_dot\u001b[0m\u001b[1;33m(\u001b[0m\u001b[0mY\u001b[0m\u001b[1;33m.\u001b[0m\u001b[0mT\u001b[0m\u001b[1;33m,\u001b[0m \u001b[0mX\u001b[0m\u001b[1;33m)\u001b[0m\u001b[1;33m\u001b[0m\u001b[1;33m\u001b[0m\u001b[0m\n\u001b[0;32m    722\u001b[0m         \u001b[0mself\u001b[0m\u001b[1;33m.\u001b[0m\u001b[0mclass_count_\u001b[0m \u001b[1;33m+=\u001b[0m \u001b[0mY\u001b[0m\u001b[1;33m.\u001b[0m\u001b[0msum\u001b[0m\u001b[1;33m(\u001b[0m\u001b[0maxis\u001b[0m\u001b[1;33m=\u001b[0m\u001b[1;36m0\u001b[0m\u001b[1;33m)\u001b[0m\u001b[1;33m\u001b[0m\u001b[1;33m\u001b[0m\u001b[0m\n",
      "\u001b[1;31mValueError\u001b[0m: Input X must be non-negative"
     ]
    }
   ],
   "source": [
    "MultiNB_GloVe = NaiveBayesMultinomial(\"Naive Bayes + GloVe\", np.linspace(0.1,4,40), X_train_glove , Y_train , X_test_glove , Y_test , truncated=False)"
   ]
  },
  {
   "cell_type": "raw",
   "metadata": {},
   "source": [
    "Le précédent résultat vient montre l'incapacité d'utiliser le Multinomial Naive Bayes avec les embeddings tels que GloVe ou Word2Vec (word2vec format embeddings) à cause des valeurs négatives qui peuvent être affectées et qui ne sont pas supportées par le classifieur Multinomial Naive Bayes."
   ]
  },
  {
   "cell_type": "markdown",
   "metadata": {},
   "source": [
    "## 4.2. Support Vector Machines"
   ]
  },
  {
   "cell_type": "code",
   "execution_count": 79,
   "metadata": {},
   "outputs": [],
   "source": [
    "def SVM(model_name,C_range,X_train,Y_train,X_test,Y_test,truncated):\n",
    "    start = time.time()\n",
    "    if truncated == True : \n",
    "        lsa = TruncatedSVD(n_components=100, n_iter=10, random_state=3)\n",
    "        scl = StandardScaler(with_mean=False)\n",
    "        svm_model = LinearSVC()\n",
    "        clf = Pipeline([('svd', lsa), ('scl', scl), ('svm', svm_model)])\n",
    "        #clf = Pipeline([('svd', lsa), ('svm', svm_model)])\n",
    "    elif truncated == False : \n",
    "        scl = StandardScaler(with_mean=False)\n",
    "        svm_model = LinearSVC()\n",
    "        clf = Pipeline([('scl', scl), ('svm', svm_model)])\n",
    "        #clf = Pipeline([('svm', svm_model)])\n",
    "    params= {'svm__C': C_range}\n",
    "    gs = GridSearchCV(estimator = clf, param_grid=params, scoring=\"f1_macro\", verbose=10, n_jobs=-1, iid=True, refit=True, cv=5)\n",
    "    gs.fit(X_train, Y_train)\n",
    "    print(\"Best score: %0.3f\" % gs.best_score_)\n",
    "    print(\"Best parameters set:\")\n",
    "    best_parameters = gs.best_estimator_.get_params()\n",
    "    for param_name in sorted(params.keys()):\n",
    "        print(\"\\t%s: %r\" % (param_name, best_parameters[param_name]))\n",
    "    end = time.time()\n",
    "    best_model = gs.best_estimator_\n",
    "    best_model.fit(X_train,Y_train)\n",
    "    Y_pred = best_model.predict(X_test)\n",
    "    acc = accuracy_score(Y_test, Y_pred)\n",
    "    prec = precision_score(Y_test, Y_pred, average='macro')\n",
    "    rec = recall_score(Y_test, Y_pred, average='macro')\n",
    "    f1 = f1_score(Y_test, Y_pred, average='macro')\n",
    "\n",
    "    table = [[model_name,acc,prec,rec,f1,(end-start)/60]]\n",
    "    \n",
    "    table = pd.DataFrame(table, columns = [\"Modèle\", \"Accuracy\",\"Precision\",'Recall',\"F1-score\",\"Computing time (minutes)\"]) \n",
    "    return table, Y_pred"
   ]
  },
  {
   "cell_type": "markdown",
   "metadata": {},
   "source": [
    "### 4.1.1. SVM - CountVectorizer"
   ]
  },
  {
   "cell_type": "code",
   "execution_count": 80,
   "metadata": {},
   "outputs": [
    {
     "name": "stdout",
     "output_type": "stream",
     "text": [
      "Fitting 5 folds for each of 4 candidates, totalling 20 fits\n"
     ]
    },
    {
     "name": "stderr",
     "output_type": "stream",
     "text": [
      "[Parallel(n_jobs=-1)]: Using backend LokyBackend with 4 concurrent workers.\n",
      "[Parallel(n_jobs=-1)]: Done   5 tasks      | elapsed:  4.2min\n",
      "[Parallel(n_jobs=-1)]: Done  10 tasks      | elapsed:  6.2min\n",
      "[Parallel(n_jobs=-1)]: Done  16 out of  20 | elapsed:  8.2min remaining:  2.1min\n",
      "[Parallel(n_jobs=-1)]: Done  20 out of  20 | elapsed: 10.1min finished\n",
      "C:\\Users\\Bastien\\Anaconda3\\lib\\site-packages\\sklearn\\svm\\base.py:929: ConvergenceWarning: Liblinear failed to converge, increase the number of iterations.\n",
      "  \"the number of iterations.\", ConvergenceWarning)\n"
     ]
    },
    {
     "name": "stdout",
     "output_type": "stream",
     "text": [
      "Best score: 0.378\n",
      "Best parameters set:\n",
      "\tsvm__C: 1\n"
     ]
    },
    {
     "name": "stderr",
     "output_type": "stream",
     "text": [
      "C:\\Users\\Bastien\\Anaconda3\\lib\\site-packages\\sklearn\\svm\\base.py:929: ConvergenceWarning: Liblinear failed to converge, increase the number of iterations.\n",
      "  \"the number of iterations.\", ConvergenceWarning)\n"
     ]
    }
   ],
   "source": [
    "SVM_Count = SVM(\"SVM + Count\",[1, 10,100,1000],X_train_count,Y_train,X_test_count,Y_test,truncated=True)"
   ]
  },
  {
   "cell_type": "code",
   "execution_count": 81,
   "metadata": {},
   "outputs": [
    {
     "data": {
      "text/html": [
       "<div>\n",
       "<style scoped>\n",
       "    .dataframe tbody tr th:only-of-type {\n",
       "        vertical-align: middle;\n",
       "    }\n",
       "\n",
       "    .dataframe tbody tr th {\n",
       "        vertical-align: top;\n",
       "    }\n",
       "\n",
       "    .dataframe thead th {\n",
       "        text-align: right;\n",
       "    }\n",
       "</style>\n",
       "<table border=\"1\" class=\"dataframe\">\n",
       "  <thead>\n",
       "    <tr style=\"text-align: right;\">\n",
       "      <th></th>\n",
       "      <th>Modèle</th>\n",
       "      <th>Accuracy</th>\n",
       "      <th>Precision</th>\n",
       "      <th>Recall</th>\n",
       "      <th>F1-score</th>\n",
       "      <th>Computing time (minutes)</th>\n",
       "    </tr>\n",
       "  </thead>\n",
       "  <tbody>\n",
       "    <tr>\n",
       "      <th>0</th>\n",
       "      <td>SVM + Count</td>\n",
       "      <td>0.407222</td>\n",
       "      <td>0.390644</td>\n",
       "      <td>0.407222</td>\n",
       "      <td>0.381014</td>\n",
       "      <td>11.155772</td>\n",
       "    </tr>\n",
       "  </tbody>\n",
       "</table>\n",
       "</div>"
      ],
      "text/plain": [
       "        Modèle  Accuracy  Precision    Recall  F1-score  \\\n",
       "0  SVM + Count  0.407222   0.390644  0.407222  0.381014   \n",
       "\n",
       "   Computing time (minutes)  \n",
       "0                 11.155772  "
      ]
     },
     "execution_count": 81,
     "metadata": {},
     "output_type": "execute_result"
    }
   ],
   "source": [
    "SVM_Count[0]"
   ]
  },
  {
   "cell_type": "code",
   "execution_count": 82,
   "metadata": {},
   "outputs": [
    {
     "name": "stdout",
     "output_type": "stream",
     "text": [
      "None\n"
     ]
    },
    {
     "data": {
      "image/png": "[encoded data removed]",
      "text/plain": [
       "<Figure size 720x504 with 2 Axes>"
      ]
     },
     "metadata": {
      "needs_background": "light"
     },
     "output_type": "display_data"
    }
   ],
   "source": [
    "print(confusion_matrix_p(Y_test , SVM_Count[1]))"
   ]
  },
  {
   "cell_type": "markdown",
   "metadata": {},
   "source": [
    "### 4.1.2. SVM - TF-IDF Vectorizer"
   ]
  },
  {
   "cell_type": "code",
   "execution_count": 83,
   "metadata": {},
   "outputs": [
    {
     "name": "stdout",
     "output_type": "stream",
     "text": [
      "Fitting 5 folds for each of 5 candidates, totalling 25 fits\n"
     ]
    },
    {
     "name": "stderr",
     "output_type": "stream",
     "text": [
      "[Parallel(n_jobs=-1)]: Using backend LokyBackend with 4 concurrent workers.\n",
      "[Parallel(n_jobs=-1)]: Done   5 tasks      | elapsed:  3.3min\n",
      "[Parallel(n_jobs=-1)]: Done  10 tasks      | elapsed:  5.5min\n",
      "[Parallel(n_jobs=-1)]: Done  17 tasks      | elapsed:  9.2min\n",
      "[Parallel(n_jobs=-1)]: Done  21 out of  25 | elapsed: 11.2min remaining:  2.1min\n",
      "[Parallel(n_jobs=-1)]: Done  25 out of  25 | elapsed: 12.2min finished\n",
      "C:\\Users\\Bastien\\Anaconda3\\lib\\site-packages\\sklearn\\svm\\base.py:929: ConvergenceWarning: Liblinear failed to converge, increase the number of iterations.\n",
      "  \"the number of iterations.\", ConvergenceWarning)\n"
     ]
    },
    {
     "name": "stdout",
     "output_type": "stream",
     "text": [
      "Best score: 0.417\n",
      "Best parameters set:\n",
      "\tsvm__C: 0.1\n"
     ]
    },
    {
     "name": "stderr",
     "output_type": "stream",
     "text": [
      "C:\\Users\\Bastien\\Anaconda3\\lib\\site-packages\\sklearn\\svm\\base.py:929: ConvergenceWarning: Liblinear failed to converge, increase the number of iterations.\n",
      "  \"the number of iterations.\", ConvergenceWarning)\n"
     ]
    }
   ],
   "source": [
    "SVM_TFIDF = SVM (\"SVM + TFIDF\",[0.1,1, 10,100,1000],X_train_tfidf,Y_train,X_test_tfidf,Y_test,truncated=True)"
   ]
  },
  {
   "cell_type": "code",
   "execution_count": 84,
   "metadata": {},
   "outputs": [
    {
     "data": {
      "text/html": [
       "<div>\n",
       "<style scoped>\n",
       "    .dataframe tbody tr th:only-of-type {\n",
       "        vertical-align: middle;\n",
       "    }\n",
       "\n",
       "    .dataframe tbody tr th {\n",
       "        vertical-align: top;\n",
       "    }\n",
       "\n",
       "    .dataframe thead th {\n",
       "        text-align: right;\n",
       "    }\n",
       "</style>\n",
       "<table border=\"1\" class=\"dataframe\">\n",
       "  <thead>\n",
       "    <tr style=\"text-align: right;\">\n",
       "      <th></th>\n",
       "      <th>Modèle</th>\n",
       "      <th>Accuracy</th>\n",
       "      <th>Precision</th>\n",
       "      <th>Recall</th>\n",
       "      <th>F1-score</th>\n",
       "      <th>Computing time (minutes)</th>\n",
       "    </tr>\n",
       "  </thead>\n",
       "  <tbody>\n",
       "    <tr>\n",
       "      <th>0</th>\n",
       "      <td>SVM + TFIDF</td>\n",
       "      <td>0.437667</td>\n",
       "      <td>0.420836</td>\n",
       "      <td>0.437667</td>\n",
       "      <td>0.41656</td>\n",
       "      <td>13.047214</td>\n",
       "    </tr>\n",
       "  </tbody>\n",
       "</table>\n",
       "</div>"
      ],
      "text/plain": [
       "        Modèle  Accuracy  Precision    Recall  F1-score  \\\n",
       "0  SVM + TFIDF  0.437667   0.420836  0.437667   0.41656   \n",
       "\n",
       "   Computing time (minutes)  \n",
       "0                 13.047214  "
      ]
     },
     "execution_count": 84,
     "metadata": {},
     "output_type": "execute_result"
    }
   ],
   "source": [
    "SVM_TFIDF[0]"
   ]
  },
  {
   "cell_type": "code",
   "execution_count": 85,
   "metadata": {},
   "outputs": [
    {
     "name": "stdout",
     "output_type": "stream",
     "text": [
      "None\n"
     ]
    },
    {
     "data": {
      "image/png": "[encoded data removed]",
      "text/plain": [
       "<Figure size 720x504 with 2 Axes>"
      ]
     },
     "metadata": {
      "needs_background": "light"
     },
     "output_type": "display_data"
    }
   ],
   "source": [
    "print(confusion_matrix_p(Y_test,SVM_TFIDF[1]))"
   ]
  },
  {
   "cell_type": "markdown",
   "metadata": {},
   "source": [
    "### 4.1.3. SVM - GloVe with mean aggregation"
   ]
  },
  {
   "cell_type": "code",
   "execution_count": 86,
   "metadata": {},
   "outputs": [
    {
     "name": "stdout",
     "output_type": "stream",
     "text": [
      "Fitting 5 folds for each of 3 candidates, totalling 15 fits\n"
     ]
    },
    {
     "name": "stderr",
     "output_type": "stream",
     "text": [
      "[Parallel(n_jobs=-1)]: Using backend LokyBackend with 4 concurrent workers.\n",
      "[Parallel(n_jobs=-1)]: Done   5 tasks      | elapsed:  3.5min\n",
      "[Parallel(n_jobs=-1)]: Done  10 out of  15 | elapsed:  5.7min remaining:  2.9min\n",
      "[Parallel(n_jobs=-1)]: Done  12 out of  15 | elapsed:  5.8min remaining:  1.5min\n",
      "[Parallel(n_jobs=-1)]: Done  15 out of  15 | elapsed:  7.4min finished\n",
      "C:\\Users\\Bastien\\Anaconda3\\lib\\site-packages\\sklearn\\svm\\base.py:929: ConvergenceWarning: Liblinear failed to converge, increase the number of iterations.\n",
      "  \"the number of iterations.\", ConvergenceWarning)\n"
     ]
    },
    {
     "name": "stdout",
     "output_type": "stream",
     "text": [
      "Best score: 0.396\n",
      "Best parameters set:\n",
      "\tsvm__C: 0.1\n"
     ]
    },
    {
     "name": "stderr",
     "output_type": "stream",
     "text": [
      "C:\\Users\\Bastien\\Anaconda3\\lib\\site-packages\\sklearn\\svm\\base.py:929: ConvergenceWarning: Liblinear failed to converge, increase the number of iterations.\n",
      "  \"the number of iterations.\", ConvergenceWarning)\n"
     ]
    }
   ],
   "source": [
    "SVM_GloVe = SVM(\"SVM + GloVe - Mean\",[0.1, 1, 10],X_train_glove,Y_train,X_test_glove,Y_test,truncated=True)"
   ]
  },
  {
   "cell_type": "code",
   "execution_count": 87,
   "metadata": {},
   "outputs": [
    {
     "data": {
      "text/html": [
       "<div>\n",
       "<style scoped>\n",
       "    .dataframe tbody tr th:only-of-type {\n",
       "        vertical-align: middle;\n",
       "    }\n",
       "\n",
       "    .dataframe tbody tr th {\n",
       "        vertical-align: top;\n",
       "    }\n",
       "\n",
       "    .dataframe thead th {\n",
       "        text-align: right;\n",
       "    }\n",
       "</style>\n",
       "<table border=\"1\" class=\"dataframe\">\n",
       "  <thead>\n",
       "    <tr style=\"text-align: right;\">\n",
       "      <th></th>\n",
       "      <th>Modèle</th>\n",
       "      <th>Accuracy</th>\n",
       "      <th>Precision</th>\n",
       "      <th>Recall</th>\n",
       "      <th>F1-score</th>\n",
       "      <th>Computing time (minutes)</th>\n",
       "    </tr>\n",
       "  </thead>\n",
       "  <tbody>\n",
       "    <tr>\n",
       "      <th>0</th>\n",
       "      <td>SVM + GloVe - Mean</td>\n",
       "      <td>0.414</td>\n",
       "      <td>0.393864</td>\n",
       "      <td>0.414</td>\n",
       "      <td>0.390925</td>\n",
       "      <td>8.583162</td>\n",
       "    </tr>\n",
       "  </tbody>\n",
       "</table>\n",
       "</div>"
      ],
      "text/plain": [
       "                Modèle  Accuracy  Precision  Recall  F1-score  \\\n",
       "0   SVM + GloVe - Mean     0.414   0.393864   0.414  0.390925   \n",
       "\n",
       "   Computing time (minutes)  \n",
       "0                  8.583162  "
      ]
     },
     "execution_count": 87,
     "metadata": {},
     "output_type": "execute_result"
    }
   ],
   "source": [
    "SVM_GloVe[0]"
   ]
  },
  {
   "cell_type": "code",
   "execution_count": 88,
   "metadata": {},
   "outputs": [
    {
     "name": "stdout",
     "output_type": "stream",
     "text": [
      "None\n"
     ]
    },
    {
     "data": {
      "image/png": "[encoded data removed]",
      "text/plain": [
       "<Figure size 720x504 with 2 Axes>"
      ]
     },
     "metadata": {
      "needs_background": "light"
     },
     "output_type": "display_data"
    }
   ],
   "source": [
    "print(confusion_matrix_p(Y_test,SVM_GloVe[1]))"
   ]
  },
  {
   "cell_type": "markdown",
   "metadata": {},
   "source": [
    "## 4.4. k - Plus Proches Voisins"
   ]
  },
  {
   "cell_type": "code",
   "execution_count": 193,
   "metadata": {},
   "outputs": [],
   "source": [
    "def kPP(neighbors_range,X_train,Y_train,X_test,Y_test, model_name,truncated):\n",
    "    start = time.time()\n",
    "    if truncated == True : \n",
    "        lsa = TruncatedSVD(n_components=100)\n",
    "        X_train = lsa.fit_transform(X_train)\n",
    "        X_test = lsa.transform(X_test)\n",
    "    elif truncated == False:\n",
    "        pass\n",
    "    neighbors = neighbors_range\n",
    "    cv_scores = [] \n",
    "    for k in tqdm(neighbors):\n",
    "        knn = KNeighborsClassifier(n_neighbors=k,n_jobs=-1)\n",
    "        scores = cross_val_score(knn, X_train, Y_train, cv=5, scoring='f1_macro')\n",
    "        cv_scores.append(scores.mean())\n",
    "        print(max(cv_scores))\n",
    "    optimal_k = neighbors[cv_scores.index(max(cv_scores))]\n",
    "    end = time.time()\n",
    "    clf = KNeighborsClassifier(n_neighbors = optimal_k)\n",
    "    clf.fit(X_train, Y_train)\n",
    "    Y_pred = clf.predict(X_test)\n",
    "\n",
    "    acc = accuracy_score(Y_test, Y_pred)\n",
    "    prec = precision_score(Y_test, Y_pred, average='macro')\n",
    "    rec = recall_score(Y_test, Y_pred, average='macro')\n",
    "    f1 = f1_score(Y_test, Y_pred, average='macro')\n",
    "    \n",
    "    table = [[model_name,optimal_k,acc,prec,rec,f1,(end-start)/60]]\n",
    "    \n",
    "    table = pd.DataFrame(table, columns = [\"Modèle\",\"Optimal k\", \"Accuracy\",\"Precision\",'Recall',\"F1-score\",\"Computing time (minutes)\"])\n",
    "    \n",
    "    return table, neighbors, cv_scores, Y_pred"
   ]
  },
  {
   "cell_type": "markdown",
   "metadata": {},
   "source": [
    "### 4.4.1. k - Plus Proches Voisins - Count Vectorizer"
   ]
  },
  {
   "cell_type": "code",
   "execution_count": 194,
   "metadata": {},
   "outputs": [
    {
     "data": {
      "application/vnd.jupyter.widget-view+json": {
       "model_id": "6fac29860403470d91b731876910df72",
       "version_major": 2,
       "version_minor": 0
      },
      "text/plain": [
       "HBox(children=(IntProgress(value=0, max=20), HTML(value='')))"
      ]
     },
     "metadata": {},
     "output_type": "display_data"
    },
    {
     "name": "stdout",
     "output_type": "stream",
     "text": [
      "0.3129193070523386\n",
      "0.31474257053336896\n",
      "0.31474257053336896\n",
      "0.3155545358961251\n",
      "0.3155545358961251\n",
      "0.3155545358961251\n",
      "0.3155545358961251\n",
      "0.3155545358961251\n",
      "0.3155545358961251\n",
      "0.3155545358961251\n",
      "0.3155545358961251\n",
      "0.3155545358961251\n",
      "0.3155545358961251\n",
      "0.3155545358961251\n",
      "0.3155545358961251\n",
      "0.3155545358961251\n",
      "0.3155545358961251\n",
      "0.3155545358961251\n",
      "0.3155545358961251\n",
      "0.3155545358961251\n",
      "\n"
     ]
    }
   ],
   "source": [
    "kNN_Count = kPP(range(30,50,1), X_train_count , Y_train , X_test_count , Y_test, \"k-NN + Count\", truncated = True)"
   ]
  },
  {
   "cell_type": "code",
   "execution_count": 195,
   "metadata": {},
   "outputs": [
    {
     "data": {
      "image/png": "[encoded data removed]",
      "text/plain": [
       "<Figure size 432x288 with 1 Axes>"
      ]
     },
     "metadata": {
      "needs_background": "light"
     },
     "output_type": "display_data"
    },
    {
     "name": "stdout",
     "output_type": "stream",
     "text": [
      "None\n"
     ]
    }
   ],
   "source": [
    "print(parameter_optimal(kNN_Count[1],kNN_Count[2],\"Nombre de voisins\"))"
   ]
  },
  {
   "cell_type": "code",
   "execution_count": 196,
   "metadata": {},
   "outputs": [
    {
     "data": {
      "text/html": [
       "<div>\n",
       "<style scoped>\n",
       "    .dataframe tbody tr th:only-of-type {\n",
       "        vertical-align: middle;\n",
       "    }\n",
       "\n",
       "    .dataframe tbody tr th {\n",
       "        vertical-align: top;\n",
       "    }\n",
       "\n",
       "    .dataframe thead th {\n",
       "        text-align: right;\n",
       "    }\n",
       "</style>\n",
       "<table border=\"1\" class=\"dataframe\">\n",
       "  <thead>\n",
       "    <tr style=\"text-align: right;\">\n",
       "      <th></th>\n",
       "      <th>Modèle</th>\n",
       "      <th>Optimal k</th>\n",
       "      <th>Accuracy</th>\n",
       "      <th>Precision</th>\n",
       "      <th>Recall</th>\n",
       "      <th>F1-score</th>\n",
       "      <th>Computing time (minutes)</th>\n",
       "    </tr>\n",
       "  </thead>\n",
       "  <tbody>\n",
       "    <tr>\n",
       "      <th>0</th>\n",
       "      <td>k-NN + Count</td>\n",
       "      <td>33</td>\n",
       "      <td>0.312111</td>\n",
       "      <td>0.307769</td>\n",
       "      <td>0.312111</td>\n",
       "      <td>0.308987</td>\n",
       "      <td>18.326535</td>\n",
       "    </tr>\n",
       "  </tbody>\n",
       "</table>\n",
       "</div>"
      ],
      "text/plain": [
       "         Modèle  Optimal k  Accuracy  Precision    Recall  F1-score  \\\n",
       "0  k-NN + Count         33  0.312111   0.307769  0.312111  0.308987   \n",
       "\n",
       "   Computing time (minutes)  \n",
       "0                 18.326535  "
      ]
     },
     "execution_count": 196,
     "metadata": {},
     "output_type": "execute_result"
    }
   ],
   "source": [
    "kNN_Count[0]"
   ]
  },
  {
   "cell_type": "code",
   "execution_count": 197,
   "metadata": {},
   "outputs": [
    {
     "name": "stdout",
     "output_type": "stream",
     "text": [
      "None\n"
     ]
    },
    {
     "data": {
      "image/png": "[encoded data removed]",
      "text/plain": [
       "<Figure size 720x504 with 2 Axes>"
      ]
     },
     "metadata": {
      "needs_background": "light"
     },
     "output_type": "display_data"
    }
   ],
   "source": [
    "print(confusion_matrix_p(Y_test,kNN_Count[3]))"
   ]
  },
  {
   "cell_type": "markdown",
   "metadata": {},
   "source": [
    "### 4.4.2. k - Plus Proches Voisins - TFIDF Vectorizer"
   ]
  },
  {
   "cell_type": "code",
   "execution_count": 198,
   "metadata": {},
   "outputs": [
    {
     "data": {
      "application/vnd.jupyter.widget-view+json": {
       "model_id": "974227a54e66430f8de6e9becbd623fc",
       "version_major": 2,
       "version_minor": 0
      },
      "text/plain": [
       "HBox(children=(IntProgress(value=0, max=20), HTML(value='')))"
      ]
     },
     "metadata": {},
     "output_type": "display_data"
    },
    {
     "name": "stdout",
     "output_type": "stream",
     "text": [
      "0.3364614757294827\n",
      "0.3373038065943124\n",
      "0.3392582045443085\n",
      "0.3392582045443085\n",
      "0.3395581078094767\n",
      "0.3411403055153796\n",
      "0.34136305399655736\n",
      "0.34309488082622364\n",
      "0.34309488082622364\n",
      "0.34309488082622364\n",
      "0.34309488082622364\n",
      "0.34309488082622364\n",
      "0.34309488082622364\n",
      "0.34309488082622364\n",
      "0.34309488082622364\n",
      "0.34309488082622364\n",
      "0.34309488082622364\n",
      "0.34309488082622364\n",
      "0.34309488082622364\n",
      "0.34309488082622364\n",
      "\n"
     ]
    }
   ],
   "source": [
    "kNN_tfidf = kPP(range(30,50,1), X_train_tfidf , Y_train , X_test_tfidf,Y_test, \"k-NN + TF-IDF\" , truncated = True)"
   ]
  },
  {
   "cell_type": "code",
   "execution_count": 199,
   "metadata": {},
   "outputs": [
    {
     "data": {
      "image/png": "[encoded data removed]",
      "text/plain": [
       "<Figure size 432x288 with 1 Axes>"
      ]
     },
     "metadata": {
      "needs_background": "light"
     },
     "output_type": "display_data"
    },
    {
     "name": "stdout",
     "output_type": "stream",
     "text": [
      "None\n"
     ]
    }
   ],
   "source": [
    "print(parameter_optimal(kNN_tfidf[1],kNN_tfidf[2],\"Nombre de voisins\"))"
   ]
  },
  {
   "cell_type": "code",
   "execution_count": 200,
   "metadata": {},
   "outputs": [
    {
     "data": {
      "text/html": [
       "<div>\n",
       "<style scoped>\n",
       "    .dataframe tbody tr th:only-of-type {\n",
       "        vertical-align: middle;\n",
       "    }\n",
       "\n",
       "    .dataframe tbody tr th {\n",
       "        vertical-align: top;\n",
       "    }\n",
       "\n",
       "    .dataframe thead th {\n",
       "        text-align: right;\n",
       "    }\n",
       "</style>\n",
       "<table border=\"1\" class=\"dataframe\">\n",
       "  <thead>\n",
       "    <tr style=\"text-align: right;\">\n",
       "      <th></th>\n",
       "      <th>Modèle</th>\n",
       "      <th>Optimal k</th>\n",
       "      <th>Accuracy</th>\n",
       "      <th>Precision</th>\n",
       "      <th>Recall</th>\n",
       "      <th>F1-score</th>\n",
       "      <th>Computing time (minutes)</th>\n",
       "    </tr>\n",
       "  </thead>\n",
       "  <tbody>\n",
       "    <tr>\n",
       "      <th>0</th>\n",
       "      <td>k-NN + TF-IDF</td>\n",
       "      <td>37</td>\n",
       "      <td>0.342222</td>\n",
       "      <td>0.340856</td>\n",
       "      <td>0.342222</td>\n",
       "      <td>0.34131</td>\n",
       "      <td>21.813297</td>\n",
       "    </tr>\n",
       "  </tbody>\n",
       "</table>\n",
       "</div>"
      ],
      "text/plain": [
       "          Modèle  Optimal k  Accuracy  Precision    Recall  F1-score  \\\n",
       "0  k-NN + TF-IDF         37  0.342222   0.340856  0.342222   0.34131   \n",
       "\n",
       "   Computing time (minutes)  \n",
       "0                 21.813297  "
      ]
     },
     "execution_count": 200,
     "metadata": {},
     "output_type": "execute_result"
    }
   ],
   "source": [
    "kNN_tfidf[0]"
   ]
  },
  {
   "cell_type": "code",
   "execution_count": 201,
   "metadata": {},
   "outputs": [
    {
     "name": "stdout",
     "output_type": "stream",
     "text": [
      "None\n"
     ]
    },
    {
     "data": {
      "image/png": "[encoded data removed]",
      "text/plain": [
       "<Figure size 720x504 with 2 Axes>"
      ]
     },
     "metadata": {
      "needs_background": "light"
     },
     "output_type": "display_data"
    }
   ],
   "source": [
    "print(confusion_matrix_p(Y_test,kNN_tfidf[3]))"
   ]
  },
  {
   "cell_type": "markdown",
   "metadata": {},
   "source": [
    "### 4.4.3. k - Plus Proches Voisins - Conclusion"
   ]
  },
  {
   "cell_type": "raw",
   "metadata": {},
   "source": [
    "On voit qu'avec les stopwords et une réduction de dimensions, en utilisant les deux premiers embeddings, les performances des k-PPV sont largement inférieures et l'apprentissage est difficile (cf.graphes d'apprentissage ci-dessus). On se propose donc d'abandonner le modèle. "
   ]
  },
  {
   "cell_type": "markdown",
   "metadata": {},
   "source": [
    "## 4.5. Tableau récapitulatif de tous les modèles"
   ]
  },
  {
   "cell_type": "code",
   "execution_count": 209,
   "metadata": {},
   "outputs": [],
   "source": [
    "#del LR_Count_w_stop[0]['Modèle']\n",
    "#del LR_Count[0]['Modèle']\n",
    "#del LR_Count_Bis[0]['Modèle']\n",
    "#del LR_tfidf[0]['Modèle']\n",
    "#del LR_golve_mean[0]['Modèle']\n",
    "#del LR_golve_tfidf[0]['Modèle']\n",
    "#del LR_w2v_mean[0]['Modèle']\n",
    "\n",
    "LR_Count_w_stop[0]['Modèle'] = 'Logistic Regression'\n",
    "LR_Count[0]['Modèle'] = 'Logistic Regression'\n",
    "LR_Count_Bis[0]['Modèle'] = 'Logistic Regression'\n",
    "LR_tfidf[0]['Modèle'] = 'Logistic Regression'\n",
    "LR_golve_mean[0]['Modèle'] = 'Logistic Regression'\n",
    "LR_golve_tfidf[0]['Modèle'] = 'Logistic Regression'\n",
    "LR_w2v_mean[0]['Modèle'] = 'Logistic Regression'\n",
    "\n",
    "LR_Count_w_stop[0]['StopWords'] = 'Conservés'\n",
    "LR_Count[0]['StopWords'] = 'Retirés'\n",
    "LR_Count_Bis[0]['StopWords'] = 'Conservés'\n",
    "LR_tfidf[0]['StopWords'] = 'Conservés'\n",
    "LR_golve_mean[0]['StopWords'] = 'Conservés'\n",
    "LR_golve_tfidf[0]['StopWords'] = 'Conservés'\n",
    "LR_w2v_mean[0]['StopWords'] = 'Conservés'\n",
    "\n",
    "LR_Count_w_stop[0]['Embedding'] = 'CountVectorizer'\n",
    "LR_Count[0]['Embedding'] = 'CountVectorizer'\n",
    "LR_Count_Bis[0]['Embedding'] = 'CountVectorizer'\n",
    "LR_tfidf[0]['Embedding'] = 'TF-IDF'\n",
    "LR_golve_mean[0]['Embedding'] = 'GloVe - Mean Aggregated'\n",
    "LR_golve_tfidf[0]['Embedding'] = 'GloVe - TFIDF Aggregated'\n",
    "LR_w2v_mean[0]['Embedding'] = 'Word2Vec - Mean Aggregated'\n",
    "\n",
    "LR_Count_w_stop[0]['Réduction'] = 'Oui'\n",
    "LR_Count[0]['Réduction'] = 'Oui'\n",
    "LR_Count_Bis[0]['Réduction'] = 'Non'\n",
    "LR_tfidf[0]['Réduction'] = 'Oui'\n",
    "LR_golve_mean[0]['Réduction'] = 'Oui'\n",
    "LR_golve_tfidf[0]['Réduction'] = 'Oui'\n",
    "LR_w2v_mean[0]['Réduction'] = 'Oui'\n",
    "\n",
    "#del MultiNB_Count[0]['Modèle']\n",
    "#del MultiNB_tfidf[0]['Modèle']\n",
    "\n",
    "MultiNB_Count[0]['Modèle'] = 'Multinomial Naive Bayes'\n",
    "MultiNB_tfidf[0]['Modèle'] = 'Multinomial Naive Bayes'\n",
    "\n",
    "MultiNB_Count[0]['StopWords'] = 'Conservés'\n",
    "MultiNB_tfidf[0]['StopWords'] = 'Conservés'\n",
    "\n",
    "MultiNB_Count[0]['Embedding'] = 'CountVectorizer'\n",
    "MultiNB_tfidf[0]['Embedding'] = 'TFIDF'\n",
    "\n",
    "MultiNB_Count[0]['Réduction'] = 'Non'\n",
    "MultiNB_tfidf[0]['Réduction'] = 'Non'\n",
    "\n",
    "#del SVM_Count[0]['Modèle']\n",
    "#del SVM_TFIDF[0]['Modèle']\n",
    "#del SVM_GloVe[0]['Modèle']\n",
    "\n",
    "SVM_Count[0]['Modèle'] = 'Support Vector Machine'\n",
    "SVM_TFIDF[0]['Modèle'] = 'Support Vector Machine'\n",
    "SVM_GloVe[0]['Modèle'] = 'Support Vector Machine'\n",
    "\n",
    "SVM_Count[0]['StopWords'] = 'Conservés'\n",
    "SVM_TFIDF[0]['StopWords'] = 'Conservés'\n",
    "SVM_GloVe[0]['StopWords'] = 'Conservés'\n",
    "\n",
    "SVM_Count[0]['Embedding'] = 'CountVectorizer'\n",
    "SVM_TFIDF[0]['Embedding'] = 'TFIDF'\n",
    "SVM_GloVe[0]['Embedding'] = 'TFIDF'\n",
    "\n",
    "SVM_Count[0]['Réduction'] = 'Oui'\n",
    "SVM_TFIDF[0]['Réduction'] = 'Oui'\n",
    "SVM_GloVe[0]['Réduction'] = 'Oui'\n",
    "\n",
    "#del kNN_Count[0]['Modèle']\n",
    "#del kNN_tfidf[0]['Modèle']\n",
    "\n",
    "kNN_Count[0]['Modèle'] = 'k-NN'\n",
    "kNN_tfidf[0]['Modèle'] = 'k-NN'\n",
    "\n",
    "kNN_Count[0]['StopWords'] = 'Conservés'\n",
    "kNN_tfidf[0]['StopWords'] = 'Conservés'\n",
    "\n",
    "kNN_Count[0]['Embedding'] = 'CountVectorizer'\n",
    "kNN_tfidf[0]['Embedding'] = 'TFIDF'\n",
    "\n",
    "kNN_Count[0]['Réduction'] = 'Oui'\n",
    "kNN_tfidf[0]['Réduction'] = 'Oui'"
   ]
  },
  {
   "cell_type": "code",
   "execution_count": 210,
   "metadata": {},
   "outputs": [
    {
     "name": "stderr",
     "output_type": "stream",
     "text": [
      "C:\\Users\\Bastien\\Anaconda3\\lib\\site-packages\\ipykernel_launcher.py:4: FutureWarning: Sorting because non-concatenation axis is not aligned. A future version\n",
      "of pandas will change to not sort by default.\n",
      "\n",
      "To accept the future behavior, pass 'sort=False'.\n",
      "\n",
      "To retain the current behavior and silence the warning, pass 'sort=True'.\n",
      "\n",
      "  after removing the cwd from sys.path.\n"
     ]
    },
    {
     "data": {
      "text/html": [
       "<div>\n",
       "<style scoped>\n",
       "    .dataframe tbody tr th:only-of-type {\n",
       "        vertical-align: middle;\n",
       "    }\n",
       "\n",
       "    .dataframe tbody tr th {\n",
       "        vertical-align: top;\n",
       "    }\n",
       "\n",
       "    .dataframe thead th {\n",
       "        text-align: right;\n",
       "    }\n",
       "</style>\n",
       "<table border=\"1\" class=\"dataframe\">\n",
       "  <thead>\n",
       "    <tr style=\"text-align: right;\">\n",
       "      <th></th>\n",
       "      <th>Modèle</th>\n",
       "      <th>StopWords</th>\n",
       "      <th>Embedding</th>\n",
       "      <th>Réduction</th>\n",
       "      <th>Accuracy</th>\n",
       "      <th>Precision</th>\n",
       "      <th>Recall</th>\n",
       "      <th>F1-score</th>\n",
       "      <th>Computing time (minutes)</th>\n",
       "    </tr>\n",
       "  </thead>\n",
       "  <tbody>\n",
       "    <tr>\n",
       "      <th>0</th>\n",
       "      <td>Logistic Regression</td>\n",
       "      <td>Conservés</td>\n",
       "      <td>CountVectorizer</td>\n",
       "      <td>Oui</td>\n",
       "      <td>0.413778</td>\n",
       "      <td>0.399883</td>\n",
       "      <td>0.413778</td>\n",
       "      <td>0.395995</td>\n",
       "      <td>3.330849</td>\n",
       "    </tr>\n",
       "    <tr>\n",
       "      <th>1</th>\n",
       "      <td>Logistic Regression</td>\n",
       "      <td>Retirés</td>\n",
       "      <td>CountVectorizer</td>\n",
       "      <td>Oui</td>\n",
       "      <td>0.385222</td>\n",
       "      <td>0.371288</td>\n",
       "      <td>0.385222</td>\n",
       "      <td>0.364317</td>\n",
       "      <td>3.050929</td>\n",
       "    </tr>\n",
       "    <tr>\n",
       "      <th>2</th>\n",
       "      <td>Logistic Regression</td>\n",
       "      <td>Conservés</td>\n",
       "      <td>CountVectorizer</td>\n",
       "      <td>Non</td>\n",
       "      <td>0.465556</td>\n",
       "      <td>0.452797</td>\n",
       "      <td>0.465556</td>\n",
       "      <td>0.453664</td>\n",
       "      <td>5.021150</td>\n",
       "    </tr>\n",
       "    <tr>\n",
       "      <th>3</th>\n",
       "      <td>Logistic Regression</td>\n",
       "      <td>Conservés</td>\n",
       "      <td>TF-IDF</td>\n",
       "      <td>Oui</td>\n",
       "      <td>0.442889</td>\n",
       "      <td>0.429018</td>\n",
       "      <td>0.442889</td>\n",
       "      <td>0.430223</td>\n",
       "      <td>3.211547</td>\n",
       "    </tr>\n",
       "    <tr>\n",
       "      <th>4</th>\n",
       "      <td>Logistic Regression</td>\n",
       "      <td>Conservés</td>\n",
       "      <td>GloVe - Mean Aggregated</td>\n",
       "      <td>Oui</td>\n",
       "      <td>0.418889</td>\n",
       "      <td>0.404055</td>\n",
       "      <td>0.418889</td>\n",
       "      <td>0.405855</td>\n",
       "      <td>7.413197</td>\n",
       "    </tr>\n",
       "    <tr>\n",
       "      <th>5</th>\n",
       "      <td>Logistic Regression</td>\n",
       "      <td>Conservés</td>\n",
       "      <td>GloVe - TFIDF Aggregated</td>\n",
       "      <td>Oui</td>\n",
       "      <td>0.395556</td>\n",
       "      <td>0.379013</td>\n",
       "      <td>0.395556</td>\n",
       "      <td>0.380917</td>\n",
       "      <td>4.508175</td>\n",
       "    </tr>\n",
       "    <tr>\n",
       "      <th>6</th>\n",
       "      <td>Logistic Regression</td>\n",
       "      <td>Conservés</td>\n",
       "      <td>Word2Vec - Mean Aggregated</td>\n",
       "      <td>Oui</td>\n",
       "      <td>0.419889</td>\n",
       "      <td>0.407416</td>\n",
       "      <td>0.419889</td>\n",
       "      <td>0.408480</td>\n",
       "      <td>14.851183</td>\n",
       "    </tr>\n",
       "    <tr>\n",
       "      <th>7</th>\n",
       "      <td>Multinomial Naive Bayes</td>\n",
       "      <td>Conservés</td>\n",
       "      <td>CountVectorizer</td>\n",
       "      <td>Non</td>\n",
       "      <td>0.438667</td>\n",
       "      <td>0.446469</td>\n",
       "      <td>0.438667</td>\n",
       "      <td>0.441051</td>\n",
       "      <td>0.154470</td>\n",
       "    </tr>\n",
       "    <tr>\n",
       "      <th>8</th>\n",
       "      <td>Multinomial Naive Bayes</td>\n",
       "      <td>Conservés</td>\n",
       "      <td>TFIDF</td>\n",
       "      <td>Non</td>\n",
       "      <td>0.426222</td>\n",
       "      <td>0.450745</td>\n",
       "      <td>0.426222</td>\n",
       "      <td>0.429763</td>\n",
       "      <td>0.147118</td>\n",
       "    </tr>\n",
       "    <tr>\n",
       "      <th>9</th>\n",
       "      <td>Support Vector Machine</td>\n",
       "      <td>Conservés</td>\n",
       "      <td>CountVectorizer</td>\n",
       "      <td>Oui</td>\n",
       "      <td>0.407222</td>\n",
       "      <td>0.390644</td>\n",
       "      <td>0.407222</td>\n",
       "      <td>0.381014</td>\n",
       "      <td>11.155772</td>\n",
       "    </tr>\n",
       "    <tr>\n",
       "      <th>10</th>\n",
       "      <td>Support Vector Machine</td>\n",
       "      <td>Conservés</td>\n",
       "      <td>TFIDF</td>\n",
       "      <td>Oui</td>\n",
       "      <td>0.437667</td>\n",
       "      <td>0.420836</td>\n",
       "      <td>0.437667</td>\n",
       "      <td>0.416560</td>\n",
       "      <td>13.047214</td>\n",
       "    </tr>\n",
       "    <tr>\n",
       "      <th>11</th>\n",
       "      <td>Support Vector Machine</td>\n",
       "      <td>Conservés</td>\n",
       "      <td>TFIDF</td>\n",
       "      <td>Oui</td>\n",
       "      <td>0.414000</td>\n",
       "      <td>0.393864</td>\n",
       "      <td>0.414000</td>\n",
       "      <td>0.390925</td>\n",
       "      <td>8.583162</td>\n",
       "    </tr>\n",
       "    <tr>\n",
       "      <th>12</th>\n",
       "      <td>k-NN</td>\n",
       "      <td>Conservés</td>\n",
       "      <td>CountVectorizer</td>\n",
       "      <td>Oui</td>\n",
       "      <td>0.312111</td>\n",
       "      <td>0.307769</td>\n",
       "      <td>0.312111</td>\n",
       "      <td>0.308987</td>\n",
       "      <td>18.326535</td>\n",
       "    </tr>\n",
       "    <tr>\n",
       "      <th>13</th>\n",
       "      <td>k-NN</td>\n",
       "      <td>Conservés</td>\n",
       "      <td>TFIDF</td>\n",
       "      <td>Oui</td>\n",
       "      <td>0.342222</td>\n",
       "      <td>0.340856</td>\n",
       "      <td>0.342222</td>\n",
       "      <td>0.341310</td>\n",
       "      <td>21.813297</td>\n",
       "    </tr>\n",
       "  </tbody>\n",
       "</table>\n",
       "</div>"
      ],
      "text/plain": [
       "                     Modèle  StopWords                   Embedding Réduction  \\\n",
       "0       Logistic Regression  Conservés             CountVectorizer       Oui   \n",
       "1       Logistic Regression    Retirés             CountVectorizer       Oui   \n",
       "2       Logistic Regression  Conservés             CountVectorizer       Non   \n",
       "3       Logistic Regression  Conservés                      TF-IDF       Oui   \n",
       "4       Logistic Regression  Conservés     GloVe - Mean Aggregated       Oui   \n",
       "5       Logistic Regression  Conservés    GloVe - TFIDF Aggregated       Oui   \n",
       "6       Logistic Regression  Conservés  Word2Vec - Mean Aggregated       Oui   \n",
       "7   Multinomial Naive Bayes  Conservés             CountVectorizer       Non   \n",
       "8   Multinomial Naive Bayes  Conservés                       TFIDF       Non   \n",
       "9    Support Vector Machine  Conservés             CountVectorizer       Oui   \n",
       "10   Support Vector Machine  Conservés                       TFIDF       Oui   \n",
       "11   Support Vector Machine  Conservés                       TFIDF       Oui   \n",
       "12                     k-NN  Conservés             CountVectorizer       Oui   \n",
       "13                     k-NN  Conservés                       TFIDF       Oui   \n",
       "\n",
       "    Accuracy  Precision    Recall  F1-score  Computing time (minutes)  \n",
       "0   0.413778   0.399883  0.413778  0.395995                  3.330849  \n",
       "1   0.385222   0.371288  0.385222  0.364317                  3.050929  \n",
       "2   0.465556   0.452797  0.465556  0.453664                  5.021150  \n",
       "3   0.442889   0.429018  0.442889  0.430223                  3.211547  \n",
       "4   0.418889   0.404055  0.418889  0.405855                  7.413197  \n",
       "5   0.395556   0.379013  0.395556  0.380917                  4.508175  \n",
       "6   0.419889   0.407416  0.419889  0.408480                 14.851183  \n",
       "7   0.438667   0.446469  0.438667  0.441051                  0.154470  \n",
       "8   0.426222   0.450745  0.426222  0.429763                  0.147118  \n",
       "9   0.407222   0.390644  0.407222  0.381014                 11.155772  \n",
       "10  0.437667   0.420836  0.437667  0.416560                 13.047214  \n",
       "11  0.414000   0.393864  0.414000  0.390925                  8.583162  \n",
       "12  0.312111   0.307769  0.312111  0.308987                 18.326535  \n",
       "13  0.342222   0.340856  0.342222  0.341310                 21.813297  "
      ]
     },
     "execution_count": 210,
     "metadata": {},
     "output_type": "execute_result"
    }
   ],
   "source": [
    "recap_final = pd.concat([LR_Count_w_stop[0],LR_Count[0],LR_Count_Bis[0],LR_tfidf[0],LR_golve_mean[0],LR_golve_tfidf[0],LR_w2v_mean[0],\n",
    "                    MultiNB_Count[0],MultiNB_tfidf[0],\n",
    "                    SVM_Count[0],SVM_TFIDF[0],SVM_GloVe[0],\n",
    "                    kNN_Count[0],kNN_tfidf[0]],ignore_index=True)\n",
    "columnsTitles = ['Modèle','StopWords','Embedding','Réduction', 'Accuracy', 'Precision','Recall', 'F1-score','Computing time (minutes)']\n",
    "recap_final = recap_final.reindex(columns = columnsTitles)\n",
    "recap_final"
   ]
  },
  {
   "cell_type": "raw",
   "metadata": {},
   "source": [
    "Quels modèles retenir : \n",
    "\n",
    "    - Le plus performant,sans réduction de dimension, est La régression logistique avec les stopwords et avec Count Vectorizer (plus performants que les autres modèles sans réduction i.e. Multinomial Naive Bayes\n",
    "    \n",
    "    - Le plus performant,avec réduction de dimension, est La régression logistique avec les stopwords et avec TF-IDF Vectorizer (plus performants que les autres modèles avec réduction)\n",
    "    \n",
    "Nous allons donc entraîner ce dernier modèle sans réduction de dimension et le comparer au précédent"
   ]
  },
  {
   "cell_type": "code",
   "execution_count": 211,
   "metadata": {},
   "outputs": [
    {
     "name": "stdout",
     "output_type": "stream",
     "text": [
      "Fitting 5 folds for each of 8 candidates, totalling 40 fits\n"
     ]
    },
    {
     "name": "stderr",
     "output_type": "stream",
     "text": [
      "[Parallel(n_jobs=-1)]: Using backend LokyBackend with 4 concurrent workers.\n",
      "[Parallel(n_jobs=-1)]: Done   5 tasks      | elapsed:    9.1s\n",
      "[Parallel(n_jobs=-1)]: Done  10 tasks      | elapsed:   12.8s\n",
      "[Parallel(n_jobs=-1)]: Done  17 tasks      | elapsed:   21.5s\n",
      "[Parallel(n_jobs=-1)]: Done  24 tasks      | elapsed:   41.5s\n",
      "[Parallel(n_jobs=-1)]: Done  33 tasks      | elapsed:  1.7min\n",
      "[Parallel(n_jobs=-1)]: Done  38 out of  40 | elapsed:  2.2min remaining:    6.8s\n",
      "[Parallel(n_jobs=-1)]: Done  40 out of  40 | elapsed:  2.2min finished\n",
      "C:\\Users\\Bastien\\Anaconda3\\lib\\site-packages\\sklearn\\linear_model\\logistic.py:432: FutureWarning: Default solver will be changed to 'lbfgs' in 0.22. Specify a solver to silence this warning.\n",
      "  FutureWarning)\n",
      "C:\\Users\\Bastien\\Anaconda3\\lib\\site-packages\\sklearn\\linear_model\\logistic.py:469: FutureWarning: Default multi_class will be changed to 'auto' in 0.22. Specify the multi_class option to silence this warning.\n",
      "  \"this warning.\", FutureWarning)\n"
     ]
    },
    {
     "name": "stdout",
     "output_type": "stream",
     "text": [
      "Best score: 0.459\n",
      "Best parameters set:\n",
      "\tlr__C: 1\n",
      "\tlr__penalty: 'l2'\n"
     ]
    }
   ],
   "source": [
    "LR_tfidf_full = LogReg(\"Logistic Regression\",[0.1, 1,10,100],['l1', 'l2'],X_train_tfidf,Y_train,X_test_tfidf,Y_test,truncated=False)"
   ]
  },
  {
   "cell_type": "code",
   "execution_count": 212,
   "metadata": {},
   "outputs": [
    {
     "data": {
      "text/html": [
       "<div>\n",
       "<style scoped>\n",
       "    .dataframe tbody tr th:only-of-type {\n",
       "        vertical-align: middle;\n",
       "    }\n",
       "\n",
       "    .dataframe tbody tr th {\n",
       "        vertical-align: top;\n",
       "    }\n",
       "\n",
       "    .dataframe thead th {\n",
       "        text-align: right;\n",
       "    }\n",
       "</style>\n",
       "<table border=\"1\" class=\"dataframe\">\n",
       "  <thead>\n",
       "    <tr style=\"text-align: right;\">\n",
       "      <th></th>\n",
       "      <th>Modèle</th>\n",
       "      <th>Accuracy</th>\n",
       "      <th>Precision</th>\n",
       "      <th>Recall</th>\n",
       "      <th>F1-score</th>\n",
       "      <th>Computing time (minutes)</th>\n",
       "    </tr>\n",
       "  </thead>\n",
       "  <tbody>\n",
       "    <tr>\n",
       "      <th>0</th>\n",
       "      <td>Logistic Regression</td>\n",
       "      <td>0.469778</td>\n",
       "      <td>0.460204</td>\n",
       "      <td>0.469778</td>\n",
       "      <td>0.462734</td>\n",
       "      <td>2.255735</td>\n",
       "    </tr>\n",
       "  </tbody>\n",
       "</table>\n",
       "</div>"
      ],
      "text/plain": [
       "                Modèle  Accuracy  Precision    Recall  F1-score  \\\n",
       "0  Logistic Regression  0.469778   0.460204  0.469778  0.462734   \n",
       "\n",
       "   Computing time (minutes)  \n",
       "0                  2.255735  "
      ]
     },
     "execution_count": 212,
     "metadata": {},
     "output_type": "execute_result"
    }
   ],
   "source": [
    "LR_tfidf_full[0]"
   ]
  },
  {
   "cell_type": "code",
   "execution_count": 213,
   "metadata": {},
   "outputs": [
    {
     "name": "stdout",
     "output_type": "stream",
     "text": [
      "None\n"
     ]
    },
    {
     "data": {
      "image/png": "[encoded data removed]",
      "text/plain": [
       "<Figure size 720x504 with 2 Axes>"
      ]
     },
     "metadata": {
      "needs_background": "light"
     },
     "output_type": "display_data"
    }
   ],
   "source": [
    "print(confusion_matrix_p(Y_test,LR_tfidf_full[1]))"
   ]
  },
  {
   "cell_type": "code",
   "execution_count": 217,
   "metadata": {},
   "outputs": [],
   "source": [
    "LR_tfidf_full[0]['StopWords'] = 'Conservés'\n",
    "LR_tfidf_full[0]['Embedding'] = 'Tf-IDFVectorizer'\n",
    "LR_tfidf_full[0]['Réduction'] = 'Non'"
   ]
  },
  {
   "cell_type": "code",
   "execution_count": 218,
   "metadata": {},
   "outputs": [
    {
     "name": "stderr",
     "output_type": "stream",
     "text": [
      "C:\\Users\\Bastien\\Anaconda3\\lib\\site-packages\\ipykernel_launcher.py:1: FutureWarning: Sorting because non-concatenation axis is not aligned. A future version\n",
      "of pandas will change to not sort by default.\n",
      "\n",
      "To accept the future behavior, pass 'sort=False'.\n",
      "\n",
      "To retain the current behavior and silence the warning, pass 'sort=True'.\n",
      "\n",
      "  \"\"\"Entry point for launching an IPython kernel.\n"
     ]
    },
    {
     "data": {
      "text/html": [
       "<div>\n",
       "<style scoped>\n",
       "    .dataframe tbody tr th:only-of-type {\n",
       "        vertical-align: middle;\n",
       "    }\n",
       "\n",
       "    .dataframe tbody tr th {\n",
       "        vertical-align: top;\n",
       "    }\n",
       "\n",
       "    .dataframe thead th {\n",
       "        text-align: right;\n",
       "    }\n",
       "</style>\n",
       "<table border=\"1\" class=\"dataframe\">\n",
       "  <thead>\n",
       "    <tr style=\"text-align: right;\">\n",
       "      <th></th>\n",
       "      <th>Modèle</th>\n",
       "      <th>StopWords</th>\n",
       "      <th>Embedding</th>\n",
       "      <th>Réduction</th>\n",
       "      <th>Accuracy</th>\n",
       "      <th>Precision</th>\n",
       "      <th>Recall</th>\n",
       "      <th>F1-score</th>\n",
       "      <th>Computing time (minutes)</th>\n",
       "    </tr>\n",
       "  </thead>\n",
       "  <tbody>\n",
       "    <tr>\n",
       "      <th>0</th>\n",
       "      <td>Logistic Regression</td>\n",
       "      <td>Conservés</td>\n",
       "      <td>CountVectorizer</td>\n",
       "      <td>Non</td>\n",
       "      <td>0.465556</td>\n",
       "      <td>0.452797</td>\n",
       "      <td>0.465556</td>\n",
       "      <td>0.453664</td>\n",
       "      <td>5.021150</td>\n",
       "    </tr>\n",
       "    <tr>\n",
       "      <th>1</th>\n",
       "      <td>Logistic Regression</td>\n",
       "      <td>Conservés</td>\n",
       "      <td>Tf-IDFVectorizer</td>\n",
       "      <td>Non</td>\n",
       "      <td>0.469778</td>\n",
       "      <td>0.460204</td>\n",
       "      <td>0.469778</td>\n",
       "      <td>0.462734</td>\n",
       "      <td>2.255735</td>\n",
       "    </tr>\n",
       "  </tbody>\n",
       "</table>\n",
       "</div>"
      ],
      "text/plain": [
       "                Modèle  StopWords         Embedding Réduction  Accuracy  \\\n",
       "0  Logistic Regression  Conservés   CountVectorizer       Non  0.465556   \n",
       "1  Logistic Regression  Conservés  Tf-IDFVectorizer       Non  0.469778   \n",
       "\n",
       "   Precision    Recall  F1-score  Computing time (minutes)  \n",
       "0   0.452797  0.465556  0.453664                  5.021150  \n",
       "1   0.460204  0.469778  0.462734                  2.255735  "
      ]
     },
     "execution_count": 218,
     "metadata": {},
     "output_type": "execute_result"
    }
   ],
   "source": [
    "recap_final_end = pd.concat([LR_Count_Bis[0],LR_tfidf_full[0]],ignore_index=True)\n",
    "columnsTitles = ['Modèle','StopWords','Embedding','Réduction', 'Accuracy', 'Precision','Recall', 'F1-score','Computing time (minutes)']\n",
    "recap_final_end = recap_final_end.reindex(columns = columnsTitles)\n",
    "recap_final_end"
   ]
  },
  {
   "cell_type": "raw",
   "metadata": {},
   "source": [
    "Nous y sommes : le modèle que nous allons conservés est la régression logistique avec des vecteurs formalisés par TF-IDF et sans réduction de dimension. \n",
    "\n",
    "P.S : l'absence de réduction de dimension n'entraînait pas de long temps d'entraînements pour la régression logistique ou le Multinomial Niave Bayes mais beaucoup plus pour k-NN et SVm, afin de pouvoir comparer les modèles, nous avons donc réduit les dimensions lorsque c'était possible.  "
   ]
  },
  {
   "cell_type": "markdown",
   "metadata": {},
   "source": [
    "# 5. Conclusion du travail jusqu'à présent - Choix du Modèle"
   ]
  },
  {
   "cell_type": "raw",
   "metadata": {},
   "source": [
    "Jusqu'à présent nous avons réalisé plusieurs tapes dans le travail d'analyse de sentiment. D'abord nous avons récupéré de la donnée disponible avec les commentaires amazon notés de plusieurs catégories (automobile, téléphone portable, outillage, accessoires de maisons...). Nous avons exploré nos données et les avons équilibrées dans les notes (pour éviter un biais lors de l'apprentissage des modèles). Nous avons réalisé quelques analyses visuelles de ces données (Wordclouds, analyse de la longueur, visualisation des volumes de données). Puis nous avons procéder à un pré-traitement avec et sans mots \"stops\" des données, étapes essentielles pour nettoyer les données et les rendre accessibles à un modèle de machine learning mais aussi pour extraire les éléments de sens dans un commentaire. \n",
    "\n",
    "Nous avons dès lors procéder à l'entrainement de modèles prédictifs de Machine Learning. Le But, comme précisé, est de pouvoir prédire le sentiment décrit dans un texte (où la notation n'est pas accessible). Pour cela nous avons procédé à des choix tant sur les stopwords, la méthode d'embedding ou le modèle. Cela nous a mené à utiliser la régression logistique, avec stopwords et sans réduction de dimensions. Les paramètres ont déjà été améliorés par validation croisée\n",
    "\n",
    "\n",
    "Limites de l'analyse : \n",
    "\n",
    "    - Besoin de meilleures performances --> Deep Learning / State-of-the art (BERT) : prochaine partie\n",
    "    \n",
    "Puis :\n",
    "\n",
    "    - Besoin dataset adapté (domaine, source d'infos etc...) --> Transfer Learning (Application au Webscrapping / Airbus) pour montrer entrainement sur ce jeu n'et pas top et donc besoin Transfer Learning) \n",
    "    \n",
    "Puis : \n",
    "\n",
    "    - Plusieurs sentiments sur des sujets différents au sein d'un même commentaire --> ABSA et Topic Modelling \n",
    "    \n",
    "Précisions pour rapport : \n",
    "\n",
    "    - Plus de description visuelles / analyses descriptives \n",
    "    - Mettre dans le rapport un maximum d'éléments statistiques (test sur la longueur par exemple pour savoir si inclure comme fetaure)"
   ]
  },
  {
   "cell_type": "markdown",
   "metadata": {},
   "source": [
    "# 6. Amélioration du modèle et augmentation du volume de données"
   ]
  },
  {
   "cell_type": "raw",
   "metadata": {},
   "source": [
    "Les paramètres ont déjà été ajusté par validation croisée. Nous allons recommencer avec une plage pour le paramètre C un peu plus précise et un nombre de donénes plus important. "
   ]
  },
  {
   "cell_type": "code",
   "execution_count": 235,
   "metadata": {},
   "outputs": [],
   "source": [
    "rating_5_end = amazon[amazon['Positivité']==5]\n",
    "rating_4_end = amazon[amazon['Positivité']==4]\n",
    "rating_3_end = amazon[amazon['Positivité']==3]\n",
    "rating_2_end = amazon[amazon['Positivité']==2]\n",
    "rating_1_end = amazon[amazon['Positivité']==1]"
   ]
  },
  {
   "cell_type": "code",
   "execution_count": 236,
   "metadata": {},
   "outputs": [],
   "source": [
    "X_train_5_end, X_test_5_end, y_train_5_end, y_test_5_end = train_test_split(rating_5_end['CleanedText_With_Stop'], rating_5_end['Positivité'], test_size = 0.3, shuffle = False)\n",
    "X_train_4_end, X_test_4_end, y_train_4_end, y_test_4_end = train_test_split(rating_4_end['CleanedText_With_Stop'], rating_4_end['Positivité'], test_size = 0.3, shuffle = False)\n",
    "X_train_3_end, X_test_3_end, y_train_3_end, y_test_3_end = train_test_split(rating_3_end['CleanedText_With_Stop'], rating_3_end['Positivité'], test_size = 0.3, shuffle = False)\n",
    "X_train_2_end, X_test_2_end, y_train_2_end, y_test_2_end = train_test_split(rating_2_end['CleanedText_With_Stop'], rating_2_end['Positivité'], test_size = 0.3, shuffle = False)\n",
    "X_train_1_end, X_test_1_end, y_train_1_end, y_test_1_end = train_test_split(rating_1_end['CleanedText_With_Stop'], rating_1_end['Positivité'], test_size = 0.3, shuffle = False)\n",
    "\n",
    "X_train_end = pd.concat([X_train_5_end,X_train_4_end,X_train_3_end,X_train_2_end,X_train_1_end],axis=0,ignore_index=True)\n",
    "X_test_end = pd.concat([X_test_5_end,X_test_4_end,X_test_3_end,X_test_2_end,X_test_1_end],axis=0,ignore_index=True)\n",
    "Y_train_end = pd.concat([y_train_5_end,y_train_4_end,y_train_3_end,y_train_2_end,y_train_1_end],axis=0,ignore_index=True)\n",
    "Y_test_end = pd.concat([y_test_5_end,y_test_4_end,y_test_3_end,y_test_2_end,y_test_1_end],axis=0,ignore_index=True)"
   ]
  },
  {
   "cell_type": "code",
   "execution_count": 388,
   "metadata": {},
   "outputs": [
    {
     "data": {
      "text/plain": [
       "(58613,)"
      ]
     },
     "execution_count": 388,
     "metadata": {},
     "output_type": "execute_result"
    }
   ],
   "source": [
    "X_test_end.shape"
   ]
  },
  {
   "cell_type": "code",
   "execution_count": 238,
   "metadata": {},
   "outputs": [],
   "source": [
    "tf_idf_end = TfidfVectorizer()\n",
    "tf_idf_end.fit(X_train_end) # On entraîne le tf-idf seulement sur le jeu d'entraînement\n",
    "X_train_tfidf_end = tf_idf_end.transform(X_train_end)\n",
    "X_test_tfidf_end = tf_idf_end.transform(X_test_end)"
   ]
  },
  {
   "cell_type": "code",
   "execution_count": 390,
   "metadata": {},
   "outputs": [
    {
     "name": "stdout",
     "output_type": "stream",
     "text": [
      "Fitting 5 folds for each of 6 candidates, totalling 30 fits\n"
     ]
    },
    {
     "name": "stderr",
     "output_type": "stream",
     "text": [
      "[Parallel(n_jobs=-1)]: Using backend LokyBackend with 4 concurrent workers.\n",
      "[Parallel(n_jobs=-1)]: Done   5 tasks      | elapsed:  1.4min\n",
      "[Parallel(n_jobs=-1)]: Done  10 tasks      | elapsed:  2.2min\n",
      "[Parallel(n_jobs=-1)]: Done  17 tasks      | elapsed:  4.7min\n",
      "[Parallel(n_jobs=-1)]: Done  27 out of  30 | elapsed: 11.0min remaining:  1.2min\n",
      "[Parallel(n_jobs=-1)]: Done  30 out of  30 | elapsed: 12.1min finished\n",
      "C:\\Users\\Bastien\\Anaconda3\\lib\\site-packages\\sklearn\\linear_model\\logistic.py:432: FutureWarning: Default solver will be changed to 'lbfgs' in 0.22. Specify a solver to silence this warning.\n",
      "  FutureWarning)\n",
      "C:\\Users\\Bastien\\Anaconda3\\lib\\site-packages\\sklearn\\linear_model\\logistic.py:469: FutureWarning: Default multi_class will be changed to 'auto' in 0.22. Specify the multi_class option to silence this warning.\n",
      "  \"this warning.\", FutureWarning)\n"
     ]
    },
    {
     "name": "stdout",
     "output_type": "stream",
     "text": [
      "Best score: 0.488\n",
      "Best parameters set:\n",
      "\tlr__C: 1\n",
      "\tlr__penalty: 'l1'\n",
      "              precision    recall  f1-score   support\n",
      "\n",
      "           1       0.57      0.66      0.61     11706\n",
      "           2       0.41      0.34      0.37     11688\n",
      "           3       0.42      0.36      0.39     11725\n",
      "           4       0.45      0.42      0.44     11743\n",
      "           5       0.58      0.71      0.64     11751\n",
      "\n",
      "    accuracy                           0.50     58613\n",
      "   macro avg       0.49      0.50      0.49     58613\n",
      "weighted avg       0.49      0.50      0.49     58613\n",
      "\n"
     ]
    }
   ],
   "source": [
    "LR_end_full = LogReg(\"Logistic Regression\",[0.1, 1,10],['l1', 'l2'],X_train_tfidf_end,Y_train_end,X_test_tfidf_end,Y_test_end,truncated=False)"
   ]
  },
  {
   "cell_type": "code",
   "execution_count": 240,
   "metadata": {},
   "outputs": [
    {
     "data": {
      "text/html": [
       "<div>\n",
       "<style scoped>\n",
       "    .dataframe tbody tr th:only-of-type {\n",
       "        vertical-align: middle;\n",
       "    }\n",
       "\n",
       "    .dataframe tbody tr th {\n",
       "        vertical-align: top;\n",
       "    }\n",
       "\n",
       "    .dataframe thead th {\n",
       "        text-align: right;\n",
       "    }\n",
       "</style>\n",
       "<table border=\"1\" class=\"dataframe\">\n",
       "  <thead>\n",
       "    <tr style=\"text-align: right;\">\n",
       "      <th></th>\n",
       "      <th>Modèle</th>\n",
       "      <th>Accuracy</th>\n",
       "      <th>Precision</th>\n",
       "      <th>Recall</th>\n",
       "      <th>F1-score</th>\n",
       "      <th>Computing time (minutes)</th>\n",
       "    </tr>\n",
       "  </thead>\n",
       "  <tbody>\n",
       "    <tr>\n",
       "      <th>0</th>\n",
       "      <td>Logistic Regression</td>\n",
       "      <td>0.498081</td>\n",
       "      <td>0.486212</td>\n",
       "      <td>0.497959</td>\n",
       "      <td>0.488994</td>\n",
       "      <td>15.063307</td>\n",
       "    </tr>\n",
       "  </tbody>\n",
       "</table>\n",
       "</div>"
      ],
      "text/plain": [
       "                Modèle  Accuracy  Precision    Recall  F1-score  \\\n",
       "0  Logistic Regression  0.498081   0.486212  0.497959  0.488994   \n",
       "\n",
       "   Computing time (minutes)  \n",
       "0                 15.063307  "
      ]
     },
     "execution_count": 240,
     "metadata": {},
     "output_type": "execute_result"
    }
   ],
   "source": [
    "LR_end_full[0]"
   ]
  },
  {
   "cell_type": "code",
   "execution_count": 241,
   "metadata": {},
   "outputs": [
    {
     "name": "stdout",
     "output_type": "stream",
     "text": [
      "None\n"
     ]
    },
    {
     "data": {
      "image/png": "[encoded data removed]",
      "text/plain": [
       "<Figure size 720x504 with 2 Axes>"
      ]
     },
     "metadata": {
      "needs_background": "light"
     },
     "output_type": "display_data"
    }
   ],
   "source": [
    "print(confusion_matrix_p(Y_test_end,LR_end_full[1]))"
   ]
  },
  {
   "cell_type": "code",
   "execution_count": 480,
   "metadata": {},
   "outputs": [
    {
     "name": "stdout",
     "output_type": "stream",
     "text": [
      "(array([0.56845524, 0.40856638, 0.41818003, 0.45238747, 0.58364208]), array([0.65795319, 0.3362423 , 0.36332623, 0.4219535 , 0.71049272]), array([0.60993863, 0.36889285, 0.38882804, 0.43664082, 0.64085048]), array([11706, 11688, 11725, 11743, 11751], dtype=int64))\n"
     ]
    }
   ],
   "source": [
    "from sklearn.metrics import precision_recall_fscore_support\n",
    "print(precision_recall_fscore_support(Y_test_end,LR_end_full[1]))"
   ]
  },
  {
   "cell_type": "code",
   "execution_count": 497,
   "metadata": {},
   "outputs": [],
   "source": [
    "app = pd.read_csv(r'C:\\Users\\Bastien\\Desktop\\3. Data - Bastien\\2. Traitements\\2. Scrapping complet trad et positivité\\wb_complet_clean.csv',sep=',',encoding='utf-8')"
   ]
  },
  {
   "cell_type": "code",
   "execution_count": 498,
   "metadata": {},
   "outputs": [
    {
     "data": {
      "text/html": [
       "<div>\n",
       "<style scoped>\n",
       "    .dataframe tbody tr th:only-of-type {\n",
       "        vertical-align: middle;\n",
       "    }\n",
       "\n",
       "    .dataframe tbody tr th {\n",
       "        vertical-align: top;\n",
       "    }\n",
       "\n",
       "    .dataframe thead th {\n",
       "        text-align: right;\n",
       "    }\n",
       "</style>\n",
       "<table border=\"1\" class=\"dataframe\">\n",
       "  <thead>\n",
       "    <tr style=\"text-align: right;\">\n",
       "      <th></th>\n",
       "      <th>Unnamed: 0</th>\n",
       "      <th>Commentaires</th>\n",
       "      <th>Commentaries</th>\n",
       "      <th>Date</th>\n",
       "      <th>Marque</th>\n",
       "      <th>Nombre avis</th>\n",
       "      <th>Note</th>\n",
       "      <th>Note du commentaire</th>\n",
       "      <th>Prix</th>\n",
       "      <th>Produit</th>\n",
       "      <th>Site</th>\n",
       "      <th>intensivity</th>\n",
       "      <th>positivity</th>\n",
       "    </tr>\n",
       "  </thead>\n",
       "  <tbody>\n",
       "    <tr>\n",
       "      <th>0</th>\n",
       "      <td>0</td>\n",
       "      <td>Good Bang for your buck. I bought this helmet ...</td>\n",
       "      <td>Good Bang for your buck. I bought this helmet ...</td>\n",
       "      <td>2019-09-18</td>\n",
       "      <td>AGV Helmets</td>\n",
       "      <td>94.0</td>\n",
       "      <td>NaN</td>\n",
       "      <td>4.0</td>\n",
       "      <td>$199.95</td>\n",
       "      <td>AGV K3 SV Helmet  Solid</td>\n",
       "      <td>Rev'Zilla</td>\n",
       "      <td>0.502480</td>\n",
       "      <td>0.128919</td>\n",
       "    </tr>\n",
       "    <tr>\n",
       "      <th>1</th>\n",
       "      <td>1</td>\n",
       "      <td>Solid. Awesome helmet. Stylish and safe. Bang ...</td>\n",
       "      <td>Solid. Awesome helmet. Stylish and safe. Bang ...</td>\n",
       "      <td>2019-08-25</td>\n",
       "      <td>AGV Helmets</td>\n",
       "      <td>94.0</td>\n",
       "      <td>NaN</td>\n",
       "      <td>5.0</td>\n",
       "      <td>$199.95</td>\n",
       "      <td>AGV K3 SV Helmet  Solid</td>\n",
       "      <td>Rev'Zilla</td>\n",
       "      <td>0.650000</td>\n",
       "      <td>0.500000</td>\n",
       "    </tr>\n",
       "    <tr>\n",
       "      <th>2</th>\n",
       "      <td>2</td>\n",
       "      <td>Great helmet. This is my first helmet and love...</td>\n",
       "      <td>Great helmet. This is my first helmet and love...</td>\n",
       "      <td>2019-08-11</td>\n",
       "      <td>AGV Helmets</td>\n",
       "      <td>94.0</td>\n",
       "      <td>NaN</td>\n",
       "      <td>5.0</td>\n",
       "      <td>$199.95</td>\n",
       "      <td>AGV K3 SV Helmet  Solid</td>\n",
       "      <td>Rev'Zilla</td>\n",
       "      <td>0.641005</td>\n",
       "      <td>0.298413</td>\n",
       "    </tr>\n",
       "    <tr>\n",
       "      <th>3</th>\n",
       "      <td>3</td>\n",
       "      <td>AGV all the way!. I recently came from a shoei...</td>\n",
       "      <td>AGV all the way!. I recently came from a shoei...</td>\n",
       "      <td>2019-08-04</td>\n",
       "      <td>AGV Helmets</td>\n",
       "      <td>94.0</td>\n",
       "      <td>NaN</td>\n",
       "      <td>5.0</td>\n",
       "      <td>$199.95</td>\n",
       "      <td>AGV K3 SV Helmet  Solid</td>\n",
       "      <td>Rev'Zilla</td>\n",
       "      <td>0.466558</td>\n",
       "      <td>0.170879</td>\n",
       "    </tr>\n",
       "    <tr>\n",
       "      <th>4</th>\n",
       "      <td>4</td>\n",
       "      <td>Great buy!!. Overall a great starter helmet, p...</td>\n",
       "      <td>Great buy!!. Overall a great starter helmet, p...</td>\n",
       "      <td>2019-08-02</td>\n",
       "      <td>AGV Helmets</td>\n",
       "      <td>94.0</td>\n",
       "      <td>NaN</td>\n",
       "      <td>5.0</td>\n",
       "      <td>$199.95</td>\n",
       "      <td>AGV K3 SV Helmet  Solid</td>\n",
       "      <td>Rev'Zilla</td>\n",
       "      <td>0.596032</td>\n",
       "      <td>0.534921</td>\n",
       "    </tr>\n",
       "    <tr>\n",
       "      <th>5</th>\n",
       "      <td>5</td>\n",
       "      <td>Awesome Helmet. I give 4 stars because the vid...</td>\n",
       "      <td>Awesome Helmet. I give 4 stars because the vid...</td>\n",
       "      <td>2019-06-27</td>\n",
       "      <td>AGV Helmets</td>\n",
       "      <td>94.0</td>\n",
       "      <td>NaN</td>\n",
       "      <td>5.0</td>\n",
       "      <td>$199.95</td>\n",
       "      <td>AGV K3 SV Helmet  Solid</td>\n",
       "      <td>Rev'Zilla</td>\n",
       "      <td>0.583654</td>\n",
       "      <td>0.205910</td>\n",
       "    </tr>\n",
       "    <tr>\n",
       "      <th>6</th>\n",
       "      <td>6</td>\n",
       "      <td>Really good helmet. Really satisfied with this...</td>\n",
       "      <td>Really good helmet. Really satisfied with this...</td>\n",
       "      <td>2019-06-27</td>\n",
       "      <td>AGV Helmets</td>\n",
       "      <td>94.0</td>\n",
       "      <td>NaN</td>\n",
       "      <td>5.0</td>\n",
       "      <td>$199.95</td>\n",
       "      <td>AGV K3 SV Helmet  Solid</td>\n",
       "      <td>Rev'Zilla</td>\n",
       "      <td>0.683333</td>\n",
       "      <td>0.512500</td>\n",
       "    </tr>\n",
       "    <tr>\n",
       "      <th>7</th>\n",
       "      <td>7</td>\n",
       "      <td>Good Helmet. Bought this as my first helmet be...</td>\n",
       "      <td>Good Helmet. Bought this as my first helmet be...</td>\n",
       "      <td>2019-06-06</td>\n",
       "      <td>AGV Helmets</td>\n",
       "      <td>94.0</td>\n",
       "      <td>NaN</td>\n",
       "      <td>5.0</td>\n",
       "      <td>$199.95</td>\n",
       "      <td>AGV K3 SV Helmet  Solid</td>\n",
       "      <td>Rev'Zilla</td>\n",
       "      <td>0.546032</td>\n",
       "      <td>0.258135</td>\n",
       "    </tr>\n",
       "    <tr>\n",
       "      <th>8</th>\n",
       "      <td>8</td>\n",
       "      <td>Great helmet. I looked all over for a full fac...</td>\n",
       "      <td>Great helmet. I looked all over for a full fac...</td>\n",
       "      <td>2019-06-04</td>\n",
       "      <td>AGV Helmets</td>\n",
       "      <td>94.0</td>\n",
       "      <td>NaN</td>\n",
       "      <td>5.0</td>\n",
       "      <td>$199.95</td>\n",
       "      <td>AGV K3 SV Helmet  Solid</td>\n",
       "      <td>Rev'Zilla</td>\n",
       "      <td>0.562889</td>\n",
       "      <td>0.301444</td>\n",
       "    </tr>\n",
       "    <tr>\n",
       "      <th>9</th>\n",
       "      <td>9</td>\n",
       "      <td>Looks Great, But Cheap. I bought the Rossi Tar...</td>\n",
       "      <td>Looks Great, But Cheap. I bought the Rossi Tar...</td>\n",
       "      <td>2019-06-04</td>\n",
       "      <td>AGV Helmets</td>\n",
       "      <td>94.0</td>\n",
       "      <td>NaN</td>\n",
       "      <td>4.0</td>\n",
       "      <td>$199.95</td>\n",
       "      <td>AGV K3 SV Helmet  Solid</td>\n",
       "      <td>Rev'Zilla</td>\n",
       "      <td>0.570321</td>\n",
       "      <td>0.214438</td>\n",
       "    </tr>\n",
       "    <tr>\n",
       "      <th>10</th>\n",
       "      <td>10</td>\n",
       "      <td>. Fit was true to size. First new helmet in lo...</td>\n",
       "      <td>. Fit was true to size. First new helmet in lo...</td>\n",
       "      <td>2019-05-20</td>\n",
       "      <td>AGV Helmets</td>\n",
       "      <td>94.0</td>\n",
       "      <td>NaN</td>\n",
       "      <td>4.0</td>\n",
       "      <td>$199.95</td>\n",
       "      <td>AGV K3 SV Helmet  Solid</td>\n",
       "      <td>Rev'Zilla</td>\n",
       "      <td>0.506313</td>\n",
       "      <td>0.281061</td>\n",
       "    </tr>\n",
       "    <tr>\n",
       "      <th>11</th>\n",
       "      <td>11</td>\n",
       "      <td>Good features great helmet. I really like the ...</td>\n",
       "      <td>Good features great helmet. I really like the ...</td>\n",
       "      <td>2019-05-15</td>\n",
       "      <td>AGV Helmets</td>\n",
       "      <td>94.0</td>\n",
       "      <td>NaN</td>\n",
       "      <td>4.0</td>\n",
       "      <td>$199.95</td>\n",
       "      <td>AGV K3 SV Helmet  Solid</td>\n",
       "      <td>Rev'Zilla</td>\n",
       "      <td>0.567778</td>\n",
       "      <td>0.308889</td>\n",
       "    </tr>\n",
       "    <tr>\n",
       "      <th>12</th>\n",
       "      <td>12</td>\n",
       "      <td>Great helmet. Great helmet for your money favo...</td>\n",
       "      <td>Great helmet. Great helmet for your money favo...</td>\n",
       "      <td>2019-04-26</td>\n",
       "      <td>AGV Helmets</td>\n",
       "      <td>94.0</td>\n",
       "      <td>NaN</td>\n",
       "      <td>5.0</td>\n",
       "      <td>$199.95</td>\n",
       "      <td>AGV K3 SV Helmet  Solid</td>\n",
       "      <td>Rev'Zilla</td>\n",
       "      <td>0.635808</td>\n",
       "      <td>0.382222</td>\n",
       "    </tr>\n",
       "    <tr>\n",
       "      <th>13</th>\n",
       "      <td>13</td>\n",
       "      <td>Love so far but.... So I've have my eye on thi...</td>\n",
       "      <td>Love so far but.... So I've have my eye on thi...</td>\n",
       "      <td>2019-04-08</td>\n",
       "      <td>AGV Helmets</td>\n",
       "      <td>94.0</td>\n",
       "      <td>NaN</td>\n",
       "      <td>4.0</td>\n",
       "      <td>$199.95</td>\n",
       "      <td>AGV K3 SV Helmet  Solid</td>\n",
       "      <td>Rev'Zilla</td>\n",
       "      <td>0.523495</td>\n",
       "      <td>0.190567</td>\n",
       "    </tr>\n",
       "    <tr>\n",
       "      <th>14</th>\n",
       "      <td>14</td>\n",
       "      <td>Great style &amp; comfort, love the helmet!. I tri...</td>\n",
       "      <td>Great style &amp; comfort, love the helmet!. I tri...</td>\n",
       "      <td>2019-03-25</td>\n",
       "      <td>AGV Helmets</td>\n",
       "      <td>94.0</td>\n",
       "      <td>NaN</td>\n",
       "      <td>5.0</td>\n",
       "      <td>$199.95</td>\n",
       "      <td>AGV K3 SV Helmet  Solid</td>\n",
       "      <td>Rev'Zilla</td>\n",
       "      <td>0.570000</td>\n",
       "      <td>0.073750</td>\n",
       "    </tr>\n",
       "    <tr>\n",
       "      <th>15</th>\n",
       "      <td>15</td>\n",
       "      <td>Good helmet but does fog at low speed. Saved m...</td>\n",
       "      <td>Good helmet but does fog at low speed. Saved m...</td>\n",
       "      <td>2019-03-18</td>\n",
       "      <td>AGV Helmets</td>\n",
       "      <td>94.0</td>\n",
       "      <td>NaN</td>\n",
       "      <td>4.0</td>\n",
       "      <td>$199.95</td>\n",
       "      <td>AGV K3 SV Helmet  Solid</td>\n",
       "      <td>Rev'Zilla</td>\n",
       "      <td>0.528472</td>\n",
       "      <td>0.159028</td>\n",
       "    </tr>\n",
       "    <tr>\n",
       "      <th>16</th>\n",
       "      <td>16</td>\n",
       "      <td>Comfortable and Functional with Reasonable Pri...</td>\n",
       "      <td>Comfortable and Functional with Reasonable Pri...</td>\n",
       "      <td>2019-03-15</td>\n",
       "      <td>AGV Helmets</td>\n",
       "      <td>94.0</td>\n",
       "      <td>NaN</td>\n",
       "      <td>5.0</td>\n",
       "      <td>$199.95</td>\n",
       "      <td>AGV K3 SV Helmet  Solid</td>\n",
       "      <td>Rev'Zilla</td>\n",
       "      <td>0.603968</td>\n",
       "      <td>0.268254</td>\n",
       "    </tr>\n",
       "    <tr>\n",
       "      <th>17</th>\n",
       "      <td>17</td>\n",
       "      <td>Awesome helmet. Slammed the last side of my fa...</td>\n",
       "      <td>Awesome helmet. Slammed the last side of my fa...</td>\n",
       "      <td>2019-03-06</td>\n",
       "      <td>AGV Helmets</td>\n",
       "      <td>94.0</td>\n",
       "      <td>NaN</td>\n",
       "      <td>5.0</td>\n",
       "      <td>$199.95</td>\n",
       "      <td>AGV K3 SV Helmet  Solid</td>\n",
       "      <td>Rev'Zilla</td>\n",
       "      <td>0.619537</td>\n",
       "      <td>0.395043</td>\n",
       "    </tr>\n",
       "    <tr>\n",
       "      <th>18</th>\n",
       "      <td>18</td>\n",
       "      <td>SAVED MY LIFE!. On December 1, 2018 at 0730 hr...</td>\n",
       "      <td>SAVED MY LIFE!. On December 1, 2018 at 0730 hr...</td>\n",
       "      <td>2018-12-20</td>\n",
       "      <td>AGV Helmets</td>\n",
       "      <td>94.0</td>\n",
       "      <td>NaN</td>\n",
       "      <td>5.0</td>\n",
       "      <td>$199.95</td>\n",
       "      <td>AGV K3 SV Helmet  Solid</td>\n",
       "      <td>Rev'Zilla</td>\n",
       "      <td>0.340741</td>\n",
       "      <td>0.128704</td>\n",
       "    </tr>\n",
       "    <tr>\n",
       "      <th>19</th>\n",
       "      <td>19</td>\n",
       "      <td>Good, Not Great. The helmet is comfy, glasses ...</td>\n",
       "      <td>Good, Not Great. The helmet is comfy, glasses ...</td>\n",
       "      <td>2018-10-07</td>\n",
       "      <td>AGV Helmets</td>\n",
       "      <td>94.0</td>\n",
       "      <td>NaN</td>\n",
       "      <td>4.0</td>\n",
       "      <td>$199.95</td>\n",
       "      <td>AGV K3 SV Helmet  Solid</td>\n",
       "      <td>Rev'Zilla</td>\n",
       "      <td>0.608333</td>\n",
       "      <td>0.400000</td>\n",
       "    </tr>\n",
       "    <tr>\n",
       "      <th>20</th>\n",
       "      <td>20</td>\n",
       "      <td>Great helmet for the price.. I bought this to ...</td>\n",
       "      <td>Great helmet for the price.. I bought this to ...</td>\n",
       "      <td>2018-09-30</td>\n",
       "      <td>AGV Helmets</td>\n",
       "      <td>94.0</td>\n",
       "      <td>NaN</td>\n",
       "      <td>5.0</td>\n",
       "      <td>$199.95</td>\n",
       "      <td>AGV K3 SV Helmet  Solid</td>\n",
       "      <td>Rev'Zilla</td>\n",
       "      <td>0.418750</td>\n",
       "      <td>0.256250</td>\n",
       "    </tr>\n",
       "    <tr>\n",
       "      <th>21</th>\n",
       "      <td>21</td>\n",
       "      <td>Amazing for the price. Amazing helmet the only...</td>\n",
       "      <td>Amazing for the price. Amazing helmet the only...</td>\n",
       "      <td>2018-08-04</td>\n",
       "      <td>AGV Helmets</td>\n",
       "      <td>94.0</td>\n",
       "      <td>NaN</td>\n",
       "      <td>5.0</td>\n",
       "      <td>$199.95</td>\n",
       "      <td>AGV K3 SV Helmet  Solid</td>\n",
       "      <td>Rev'Zilla</td>\n",
       "      <td>0.825000</td>\n",
       "      <td>0.253125</td>\n",
       "    </tr>\n",
       "    <tr>\n",
       "      <th>22</th>\n",
       "      <td>22</td>\n",
       "      <td>A little tight and loud. Runs on the small sid...</td>\n",
       "      <td>A little tight and loud. Runs on the small sid...</td>\n",
       "      <td>2018-07-23</td>\n",
       "      <td>AGV Helmets</td>\n",
       "      <td>94.0</td>\n",
       "      <td>NaN</td>\n",
       "      <td>4.0</td>\n",
       "      <td>$199.95</td>\n",
       "      <td>AGV K3 SV Helmet  Solid</td>\n",
       "      <td>Rev'Zilla</td>\n",
       "      <td>0.575170</td>\n",
       "      <td>-0.042418</td>\n",
       "    </tr>\n",
       "    <tr>\n",
       "      <th>23</th>\n",
       "      <td>23</td>\n",
       "      <td>Good not great. This is a good helmet but not ...</td>\n",
       "      <td>Good not great. This is a good helmet but not ...</td>\n",
       "      <td>2018-07-05</td>\n",
       "      <td>AGV Helmets</td>\n",
       "      <td>94.0</td>\n",
       "      <td>NaN</td>\n",
       "      <td>3.0</td>\n",
       "      <td>$199.95</td>\n",
       "      <td>AGV K3 SV Helmet  Solid</td>\n",
       "      <td>Rev'Zilla</td>\n",
       "      <td>0.580952</td>\n",
       "      <td>0.103571</td>\n",
       "    </tr>\n",
       "    <tr>\n",
       "      <th>24</th>\n",
       "      <td>24</td>\n",
       "      <td>Very happy with this helmet!. I am a new rider...</td>\n",
       "      <td>Very happy with this helmet!. I am a new rider...</td>\n",
       "      <td>2018-06-19</td>\n",
       "      <td>AGV Helmets</td>\n",
       "      <td>94.0</td>\n",
       "      <td>NaN</td>\n",
       "      <td>5.0</td>\n",
       "      <td>$199.95</td>\n",
       "      <td>AGV K3 SV Helmet  Solid</td>\n",
       "      <td>Rev'Zilla</td>\n",
       "      <td>0.550138</td>\n",
       "      <td>0.195420</td>\n",
       "    </tr>\n",
       "    <tr>\n",
       "      <th>25</th>\n",
       "      <td>25</td>\n",
       "      <td>Best helmet I’ve bought so far. This is by far...</td>\n",
       "      <td>Best helmet I’ve bought so far. This is by far...</td>\n",
       "      <td>2018-05-31</td>\n",
       "      <td>AGV Helmets</td>\n",
       "      <td>94.0</td>\n",
       "      <td>NaN</td>\n",
       "      <td>5.0</td>\n",
       "      <td>$199.95</td>\n",
       "      <td>AGV K3 SV Helmet  Solid</td>\n",
       "      <td>Rev'Zilla</td>\n",
       "      <td>0.731250</td>\n",
       "      <td>0.381250</td>\n",
       "    </tr>\n",
       "    <tr>\n",
       "      <th>26</th>\n",
       "      <td>26</td>\n",
       "      <td>very impressive for $200.00. just had my first...</td>\n",
       "      <td>very impressive for $200.00. just had my first...</td>\n",
       "      <td>2018-05-18</td>\n",
       "      <td>AGV Helmets</td>\n",
       "      <td>94.0</td>\n",
       "      <td>NaN</td>\n",
       "      <td>5.0</td>\n",
       "      <td>$199.95</td>\n",
       "      <td>AGV K3 SV Helmet  Solid</td>\n",
       "      <td>Rev'Zilla</td>\n",
       "      <td>0.461905</td>\n",
       "      <td>0.308571</td>\n",
       "    </tr>\n",
       "    <tr>\n",
       "      <th>27</th>\n",
       "      <td>27</td>\n",
       "      <td>. Fit runs slightly small. Great airflow. Nice...</td>\n",
       "      <td>. Fit runs slightly small. Great airflow. Nice...</td>\n",
       "      <td>2018-04-27</td>\n",
       "      <td>AGV Helmets</td>\n",
       "      <td>94.0</td>\n",
       "      <td>NaN</td>\n",
       "      <td>4.0</td>\n",
       "      <td>$199.95</td>\n",
       "      <td>AGV K3 SV Helmet  Solid</td>\n",
       "      <td>Rev'Zilla</td>\n",
       "      <td>0.691667</td>\n",
       "      <td>0.475000</td>\n",
       "    </tr>\n",
       "    <tr>\n",
       "      <th>28</th>\n",
       "      <td>28</td>\n",
       "      <td>So much fresh air!!!. I Love this helmet. It l...</td>\n",
       "      <td>So much fresh air!!!. I Love this helmet. It l...</td>\n",
       "      <td>2018-04-24</td>\n",
       "      <td>AGV Helmets</td>\n",
       "      <td>94.0</td>\n",
       "      <td>NaN</td>\n",
       "      <td>5.0</td>\n",
       "      <td>$199.95</td>\n",
       "      <td>AGV K3 SV Helmet  Solid</td>\n",
       "      <td>Rev'Zilla</td>\n",
       "      <td>0.560000</td>\n",
       "      <td>0.437188</td>\n",
       "    </tr>\n",
       "    <tr>\n",
       "      <th>29</th>\n",
       "      <td>29</td>\n",
       "      <td>Great purchase for the money. Needed an upgrad...</td>\n",
       "      <td>Great purchase for the money. Needed an upgrad...</td>\n",
       "      <td>2018-04-24</td>\n",
       "      <td>AGV Helmets</td>\n",
       "      <td>94.0</td>\n",
       "      <td>NaN</td>\n",
       "      <td>5.0</td>\n",
       "      <td>$199.95</td>\n",
       "      <td>AGV K3 SV Helmet  Solid</td>\n",
       "      <td>Rev'Zilla</td>\n",
       "      <td>0.483095</td>\n",
       "      <td>0.220357</td>\n",
       "    </tr>\n",
       "    <tr>\n",
       "      <th>...</th>\n",
       "      <td>...</td>\n",
       "      <td>...</td>\n",
       "      <td>...</td>\n",
       "      <td>...</td>\n",
       "      <td>...</td>\n",
       "      <td>...</td>\n",
       "      <td>...</td>\n",
       "      <td>...</td>\n",
       "      <td>...</td>\n",
       "      <td>...</td>\n",
       "      <td>...</td>\n",
       "      <td>...</td>\n",
       "      <td>...</td>\n",
       "    </tr>\n",
       "    <tr>\n",
       "      <th>13534</th>\n",
       "      <td>6959</td>\n",
       "      <td>Jet Belfast : beau et bien fin Très satisfait ...</td>\n",
       "      <td>Jet Belfast: fine and fine Very satisfied with...</td>\n",
       "      <td>2018-12-10</td>\n",
       "      <td>Scorpion</td>\n",
       "      <td>NaN</td>\n",
       "      <td>5.000000</td>\n",
       "      <td>5.0</td>\n",
       "      <td>170.53</td>\n",
       "      <td>Belfast Luxe Matt Black</td>\n",
       "      <td>iCasque</td>\n",
       "      <td>0.777778</td>\n",
       "      <td>0.556111</td>\n",
       "    </tr>\n",
       "    <tr>\n",
       "      <th>13535</th>\n",
       "      <td>6960</td>\n",
       "      <td>Leger, classe et super confortable. casque sup...</td>\n",
       "      <td>Light, classy and super comfortable. super com...</td>\n",
       "      <td>2018-11-29</td>\n",
       "      <td>Scorpion</td>\n",
       "      <td>NaN</td>\n",
       "      <td>5.000000</td>\n",
       "      <td>5.0</td>\n",
       "      <td>170.53</td>\n",
       "      <td>Belfast Luxe Matt Black</td>\n",
       "      <td>iCasque</td>\n",
       "      <td>0.594778</td>\n",
       "      <td>0.296778</td>\n",
       "    </tr>\n",
       "    <tr>\n",
       "      <th>13536</th>\n",
       "      <td>6961</td>\n",
       "      <td>Casque de belle qualité Beau produit</td>\n",
       "      <td>Helmet beautiful quality Beautiful product</td>\n",
       "      <td>2018-11-02</td>\n",
       "      <td>Scorpion</td>\n",
       "      <td>NaN</td>\n",
       "      <td>5.000000</td>\n",
       "      <td>5.0</td>\n",
       "      <td>170.53</td>\n",
       "      <td>Belfast Luxe Matt Black</td>\n",
       "      <td>iCasque</td>\n",
       "      <td>1.000000</td>\n",
       "      <td>0.850000</td>\n",
       "    </tr>\n",
       "    <tr>\n",
       "      <th>13537</th>\n",
       "      <td>6962</td>\n",
       "      <td>casque belfast black mat luxe grande satisfact...</td>\n",
       "      <td>belfast helmet black mat luxury great satisfac...</td>\n",
       "      <td>2018-10-12</td>\n",
       "      <td>Scorpion</td>\n",
       "      <td>NaN</td>\n",
       "      <td>5.000000</td>\n",
       "      <td>5.0</td>\n",
       "      <td>170.53</td>\n",
       "      <td>Belfast Luxe Matt Black</td>\n",
       "      <td>iCasque</td>\n",
       "      <td>0.591667</td>\n",
       "      <td>0.316667</td>\n",
       "    </tr>\n",
       "    <tr>\n",
       "      <th>13538</th>\n",
       "      <td>6963</td>\n",
       "      <td>Pas mal Casque très bien mais je retire une ét...</td>\n",
       "      <td>Not bad Headset very well but I remove a star ...</td>\n",
       "      <td>2019-07-01</td>\n",
       "      <td>Scorpion</td>\n",
       "      <td>NaN</td>\n",
       "      <td>4.000000</td>\n",
       "      <td>4.0</td>\n",
       "      <td>332.17</td>\n",
       "      <td>Exo 1400 Air Sylex Noir Mat Argent</td>\n",
       "      <td>iCasque</td>\n",
       "      <td>0.483333</td>\n",
       "      <td>0.275000</td>\n",
       "    </tr>\n",
       "    <tr>\n",
       "      <th>13539</th>\n",
       "      <td>6964</td>\n",
       "      <td>Casque Shark Très bon produit. Léger et silenc...</td>\n",
       "      <td>Shark helmet Very good product. Light and sile...</td>\n",
       "      <td>2017-11-24</td>\n",
       "      <td>Shark</td>\n",
       "      <td>NaN</td>\n",
       "      <td>5.000000</td>\n",
       "      <td>5.0</td>\n",
       "      <td>418.04</td>\n",
       "      <td>Spartan Carbon Daksha DBW</td>\n",
       "      <td>iCasque</td>\n",
       "      <td>0.645000</td>\n",
       "      <td>0.477500</td>\n",
       "    </tr>\n",
       "    <tr>\n",
       "      <th>13540</th>\n",
       "      <td>6965</td>\n",
       "      <td>C'est du Shoei! Après une petite infidélité à ...</td>\n",
       "      <td>It's Shoei! After a little infidelity to Shoei...</td>\n",
       "      <td>2019-02-11</td>\n",
       "      <td>Shoei</td>\n",
       "      <td>NaN</td>\n",
       "      <td>4.000000</td>\n",
       "      <td>4.0</td>\n",
       "      <td>699.0</td>\n",
       "      <td>Neotec II Splicer TC8</td>\n",
       "      <td>iCasque</td>\n",
       "      <td>0.407143</td>\n",
       "      <td>0.133929</td>\n",
       "    </tr>\n",
       "    <tr>\n",
       "      <th>13541</th>\n",
       "      <td>6966</td>\n",
       "      <td>bon produit joli produit bien fini, confortabl...</td>\n",
       "      <td>good product nice product well finished, comfo...</td>\n",
       "      <td>2019-05-19</td>\n",
       "      <td>HJC</td>\n",
       "      <td>NaN</td>\n",
       "      <td>4.000000</td>\n",
       "      <td>4.0</td>\n",
       "      <td>224.91</td>\n",
       "      <td>i70 Asto MC4H</td>\n",
       "      <td>iCasque</td>\n",
       "      <td>0.496477</td>\n",
       "      <td>0.202902</td>\n",
       "    </tr>\n",
       "    <tr>\n",
       "      <th>13542</th>\n",
       "      <td>6967</td>\n",
       "      <td>Conforme à la description Couleur et caractéri...</td>\n",
       "      <td>Conforms to the description Color and features...</td>\n",
       "      <td>2019-08-17</td>\n",
       "      <td>Nolan</td>\n",
       "      <td>NaN</td>\n",
       "      <td>4.500000</td>\n",
       "      <td>5.0</td>\n",
       "      <td>233.21</td>\n",
       "      <td>N87 Ledlight N-Com Black Pink 31</td>\n",
       "      <td>iCasque</td>\n",
       "      <td>0.780000</td>\n",
       "      <td>0.910000</td>\n",
       "    </tr>\n",
       "    <tr>\n",
       "      <th>13543</th>\n",
       "      <td>6968</td>\n",
       "      <td>Cascque nolan Visière solaire ++ port de lunet...</td>\n",
       "      <td>Cascque nolan Sun visor ++ wearing glasses ++\\...</td>\n",
       "      <td>2018-10-28</td>\n",
       "      <td>Nolan</td>\n",
       "      <td>NaN</td>\n",
       "      <td>4.500000</td>\n",
       "      <td>4.0</td>\n",
       "      <td>233.21</td>\n",
       "      <td>N87 Ledlight N-Com Black Pink 31</td>\n",
       "      <td>iCasque</td>\n",
       "      <td>1.000000</td>\n",
       "      <td>0.325000</td>\n",
       "    </tr>\n",
       "    <tr>\n",
       "      <th>13544</th>\n",
       "      <td>6969</td>\n",
       "      <td>Marque exceptionnel Très agréable avec la visi...</td>\n",
       "      <td>Exceptional brand Very nice with the pinlonk v...</td>\n",
       "      <td>2019-01-22</td>\n",
       "      <td>Shark</td>\n",
       "      <td>NaN</td>\n",
       "      <td>5.000000</td>\n",
       "      <td>5.0</td>\n",
       "      <td>213.66</td>\n",
       "      <td>D-Skwal Mercurium KWR</td>\n",
       "      <td>iCasque</td>\n",
       "      <td>0.750000</td>\n",
       "      <td>0.511667</td>\n",
       "    </tr>\n",
       "    <tr>\n",
       "      <th>13545</th>\n",
       "      <td>6970</td>\n",
       "      <td>Une valeur sûre Pas de surprise sur ce NXR, di...</td>\n",
       "      <td>A safe bet No surprise on this NXR, a worthy s...</td>\n",
       "      <td>2017-10-04</td>\n",
       "      <td>Shoei</td>\n",
       "      <td>NaN</td>\n",
       "      <td>4.666667</td>\n",
       "      <td>5.0</td>\n",
       "      <td>435.59</td>\n",
       "      <td>NXR Shine Red</td>\n",
       "      <td>iCasque</td>\n",
       "      <td>0.611111</td>\n",
       "      <td>0.349444</td>\n",
       "    </tr>\n",
       "    <tr>\n",
       "      <th>13546</th>\n",
       "      <td>6971</td>\n",
       "      <td>Très bon casque! Pas de surprise sur ce NXR, d...</td>\n",
       "      <td>Very good helmet! No surprise on this NXR, wor...</td>\n",
       "      <td>2017-09-27</td>\n",
       "      <td>Shoei</td>\n",
       "      <td>NaN</td>\n",
       "      <td>4.666667</td>\n",
       "      <td>5.0</td>\n",
       "      <td>435.59</td>\n",
       "      <td>NXR Shine Red</td>\n",
       "      <td>iCasque</td>\n",
       "      <td>0.716000</td>\n",
       "      <td>0.596667</td>\n",
       "    </tr>\n",
       "    <tr>\n",
       "      <th>13547</th>\n",
       "      <td>6972</td>\n",
       "      <td>Shoei NXR tres belle finition et confort légen...</td>\n",
       "      <td>Shoei NXR very nice finish and legendary comfo...</td>\n",
       "      <td>2015-05-28</td>\n",
       "      <td>Shoei</td>\n",
       "      <td>NaN</td>\n",
       "      <td>4.666667</td>\n",
       "      <td>4.0</td>\n",
       "      <td>435.59</td>\n",
       "      <td>NXR Shine Red</td>\n",
       "      <td>iCasque</td>\n",
       "      <td>1.000000</td>\n",
       "      <td>0.890000</td>\n",
       "    </tr>\n",
       "    <tr>\n",
       "      <th>13548</th>\n",
       "      <td>6973</td>\n",
       "      <td>Look sympa mais un peu bruyant Casque au prix ...</td>\n",
       "      <td>Look nice but a little noisy headphones at the...</td>\n",
       "      <td>2018-10-29</td>\n",
       "      <td>Nolan</td>\n",
       "      <td>NaN</td>\n",
       "      <td>4.000000</td>\n",
       "      <td>4.0</td>\n",
       "      <td>179.39</td>\n",
       "      <td>N21 Visor Joie De Vivre Flat Black 34</td>\n",
       "      <td>iCasque</td>\n",
       "      <td>0.523333</td>\n",
       "      <td>-0.021250</td>\n",
       "    </tr>\n",
       "    <tr>\n",
       "      <th>13549</th>\n",
       "      <td>6974</td>\n",
       "      <td>Excellent casque Whaouu, rien qu'en ouvrant la...</td>\n",
       "      <td>Excellent Whaouu helmet, just by opening the b...</td>\n",
       "      <td>2016-07-09</td>\n",
       "      <td>Shoei</td>\n",
       "      <td>NaN</td>\n",
       "      <td>4.000000</td>\n",
       "      <td>4.0</td>\n",
       "      <td>369.16</td>\n",
       "      <td>J.O Carburetor TC6</td>\n",
       "      <td>iCasque</td>\n",
       "      <td>0.507619</td>\n",
       "      <td>0.301756</td>\n",
       "    </tr>\n",
       "    <tr>\n",
       "      <th>13550</th>\n",
       "      <td>6975</td>\n",
       "      <td>Casque intégral HJC CS-15 Songtan MC1SF Casque...</td>\n",
       "      <td>Full face helmet HJC CS-15 Songtan MC1SF Helme...</td>\n",
       "      <td>2017-08-07</td>\n",
       "      <td>HJC</td>\n",
       "      <td>NaN</td>\n",
       "      <td>4.000000</td>\n",
       "      <td>4.0</td>\n",
       "      <td>98.8</td>\n",
       "      <td>CS-15 Songtan MC1SF</td>\n",
       "      <td>iCasque</td>\n",
       "      <td>0.575000</td>\n",
       "      <td>0.525000</td>\n",
       "    </tr>\n",
       "    <tr>\n",
       "      <th>13551</th>\n",
       "      <td>6976</td>\n",
       "      <td>très bon casque très bon casque reçus rapideme...</td>\n",
       "      <td>very good helmet very good helmet received qui...</td>\n",
       "      <td>2018-05-22</td>\n",
       "      <td>Shark</td>\n",
       "      <td>NaN</td>\n",
       "      <td>4.500000</td>\n",
       "      <td>5.0</td>\n",
       "      <td>445.91</td>\n",
       "      <td>Spartan Carbon Replica Guintoli DUR</td>\n",
       "      <td>iCasque</td>\n",
       "      <td>0.794000</td>\n",
       "      <td>0.704667</td>\n",
       "    </tr>\n",
       "    <tr>\n",
       "      <th>13552</th>\n",
       "      <td>6977</td>\n",
       "      <td>bon casque , léger et look sympa bon casque en...</td>\n",
       "      <td>good helmet, lightweight and nice look good he...</td>\n",
       "      <td>2019-04-15</td>\n",
       "      <td>Shark</td>\n",
       "      <td>NaN</td>\n",
       "      <td>4.500000</td>\n",
       "      <td>4.0</td>\n",
       "      <td>445.91</td>\n",
       "      <td>Spartan Carbon Replica Guintoli DUR</td>\n",
       "      <td>iCasque</td>\n",
       "      <td>0.650000</td>\n",
       "      <td>0.506771</td>\n",
       "    </tr>\n",
       "    <tr>\n",
       "      <th>13553</th>\n",
       "      <td>6978</td>\n",
       "      <td>Achat casque Très bon produit</td>\n",
       "      <td>Purchase helmet Very good product</td>\n",
       "      <td>2019-06-17</td>\n",
       "      <td>Scorpion</td>\n",
       "      <td>NaN</td>\n",
       "      <td>4.500000</td>\n",
       "      <td>5.0</td>\n",
       "      <td>152.57</td>\n",
       "      <td>Belfast Matte Black</td>\n",
       "      <td>iCasque</td>\n",
       "      <td>0.780000</td>\n",
       "      <td>0.910000</td>\n",
       "    </tr>\n",
       "    <tr>\n",
       "      <th>13554</th>\n",
       "      <td>6979</td>\n",
       "      <td>tres bon achat très bon produit</td>\n",
       "      <td>very good buy very good product</td>\n",
       "      <td>2016-04-27</td>\n",
       "      <td>Scorpion</td>\n",
       "      <td>NaN</td>\n",
       "      <td>4.500000</td>\n",
       "      <td>5.0</td>\n",
       "      <td>152.57</td>\n",
       "      <td>Belfast Matte Black</td>\n",
       "      <td>iCasque</td>\n",
       "      <td>0.780000</td>\n",
       "      <td>0.910000</td>\n",
       "    </tr>\n",
       "    <tr>\n",
       "      <th>13555</th>\n",
       "      <td>6980</td>\n",
       "      <td>Bon casque!</td>\n",
       "      <td>Good helmet!</td>\n",
       "      <td>2016-04-18</td>\n",
       "      <td>Scorpion</td>\n",
       "      <td>NaN</td>\n",
       "      <td>4.500000</td>\n",
       "      <td>5.0</td>\n",
       "      <td>152.57</td>\n",
       "      <td>Belfast Matte Black</td>\n",
       "      <td>iCasque</td>\n",
       "      <td>0.600000</td>\n",
       "      <td>0.875000</td>\n",
       "    </tr>\n",
       "    <tr>\n",
       "      <th>13556</th>\n",
       "      <td>6981</td>\n",
       "      <td>bien dans l'ensemble Manque le passage pour le...</td>\n",
       "      <td>all in all Missing the passage for the glasses...</td>\n",
       "      <td>2019-07-03</td>\n",
       "      <td>Scorpion</td>\n",
       "      <td>NaN</td>\n",
       "      <td>4.500000</td>\n",
       "      <td>4.0</td>\n",
       "      <td>152.57</td>\n",
       "      <td>Belfast Matte Black</td>\n",
       "      <td>iCasque</td>\n",
       "      <td>0.582500</td>\n",
       "      <td>0.255625</td>\n",
       "    </tr>\n",
       "    <tr>\n",
       "      <th>13557</th>\n",
       "      <td>6982</td>\n",
       "      <td>Super produit Très bon produit à voir dans le ...</td>\n",
       "      <td>Great product Great product to see in the mean...</td>\n",
       "      <td>2019-06-06</td>\n",
       "      <td>Scorpion</td>\n",
       "      <td>NaN</td>\n",
       "      <td>4.500000</td>\n",
       "      <td>4.0</td>\n",
       "      <td>152.57</td>\n",
       "      <td>Belfast Matte Black</td>\n",
       "      <td>iCasque</td>\n",
       "      <td>0.750000</td>\n",
       "      <td>0.800000</td>\n",
       "    </tr>\n",
       "    <tr>\n",
       "      <th>13558</th>\n",
       "      <td>6983</td>\n",
       "      <td>Bon Produit Casque de très bonne qualité, suff...</td>\n",
       "      <td>Good Product Helmet of very good quality, enou...</td>\n",
       "      <td>2018-06-16</td>\n",
       "      <td>Scorpion</td>\n",
       "      <td>NaN</td>\n",
       "      <td>4.500000</td>\n",
       "      <td>4.0</td>\n",
       "      <td>152.57</td>\n",
       "      <td>Belfast Matte Black</td>\n",
       "      <td>iCasque</td>\n",
       "      <td>0.644074</td>\n",
       "      <td>0.183981</td>\n",
       "    </tr>\n",
       "    <tr>\n",
       "      <th>13559</th>\n",
       "      <td>6984</td>\n",
       "      <td>Bon casque Oublie des stickers réfléchissants ...</td>\n",
       "      <td>Good helmet Forget reflective safety stickers.</td>\n",
       "      <td>2014-03-31</td>\n",
       "      <td>Airoh</td>\n",
       "      <td>NaN</td>\n",
       "      <td>3.800000</td>\n",
       "      <td>5.0</td>\n",
       "      <td>215.75</td>\n",
       "      <td>Executive Noir Mat</td>\n",
       "      <td>iCasque</td>\n",
       "      <td>0.600000</td>\n",
       "      <td>0.700000</td>\n",
       "    </tr>\n",
       "    <tr>\n",
       "      <th>13560</th>\n",
       "      <td>6985</td>\n",
       "      <td>Confortable. Confortable mais encore un peu br...</td>\n",
       "      <td>Comfortable. Comfortable but still a bit noisy.</td>\n",
       "      <td>2017-10-01</td>\n",
       "      <td>Airoh</td>\n",
       "      <td>NaN</td>\n",
       "      <td>3.800000</td>\n",
       "      <td>4.0</td>\n",
       "      <td>215.75</td>\n",
       "      <td>Executive Noir Mat</td>\n",
       "      <td>iCasque</td>\n",
       "      <td>0.800000</td>\n",
       "      <td>0.400000</td>\n",
       "    </tr>\n",
       "    <tr>\n",
       "      <th>13561</th>\n",
       "      <td>6986</td>\n",
       "      <td>Casque Airoh Executive Noir Mat Bon casque\\nEf...</td>\n",
       "      <td>Airoh Executive Helmet Black Matte Good helmet...</td>\n",
       "      <td>2016-05-12</td>\n",
       "      <td>Airoh</td>\n",
       "      <td>NaN</td>\n",
       "      <td>3.800000</td>\n",
       "      <td>4.0</td>\n",
       "      <td>215.75</td>\n",
       "      <td>Executive Noir Mat</td>\n",
       "      <td>iCasque</td>\n",
       "      <td>0.377778</td>\n",
       "      <td>0.177778</td>\n",
       "    </tr>\n",
       "    <tr>\n",
       "      <th>13562</th>\n",
       "      <td>6987</td>\n",
       "      <td>casque confort bon casque de bonne qualité, co...</td>\n",
       "      <td>helmet comfort good quality helmet, comfort in...</td>\n",
       "      <td>2014-06-26</td>\n",
       "      <td>Airoh</td>\n",
       "      <td>NaN</td>\n",
       "      <td>3.800000</td>\n",
       "      <td>4.0</td>\n",
       "      <td>215.75</td>\n",
       "      <td>Executive Noir Mat</td>\n",
       "      <td>iCasque</td>\n",
       "      <td>0.600000</td>\n",
       "      <td>0.700000</td>\n",
       "    </tr>\n",
       "    <tr>\n",
       "      <th>13563</th>\n",
       "      <td>6988</td>\n",
       "      <td>Bof assez déçu surtout écran anti-bué NUL Mauv...</td>\n",
       "      <td>Bof rather disappointed especially anti-fog sc...</td>\n",
       "      <td>2016-01-07</td>\n",
       "      <td>Airoh</td>\n",
       "      <td>NaN</td>\n",
       "      <td>3.800000</td>\n",
       "      <td>2.0</td>\n",
       "      <td>215.75</td>\n",
       "      <td>Executive Noir Mat</td>\n",
       "      <td>iCasque</td>\n",
       "      <td>0.731250</td>\n",
       "      <td>-0.352083</td>\n",
       "    </tr>\n",
       "  </tbody>\n",
       "</table>\n",
       "<p>13564 rows × 13 columns</p>\n",
       "</div>"
      ],
      "text/plain": [
       "       Unnamed: 0                                       Commentaires  \\\n",
       "0               0  Good Bang for your buck. I bought this helmet ...   \n",
       "1               1  Solid. Awesome helmet. Stylish and safe. Bang ...   \n",
       "2               2  Great helmet. This is my first helmet and love...   \n",
       "3               3  AGV all the way!. I recently came from a shoei...   \n",
       "4               4  Great buy!!. Overall a great starter helmet, p...   \n",
       "5               5  Awesome Helmet. I give 4 stars because the vid...   \n",
       "6               6  Really good helmet. Really satisfied with this...   \n",
       "7               7  Good Helmet. Bought this as my first helmet be...   \n",
       "8               8  Great helmet. I looked all over for a full fac...   \n",
       "9               9  Looks Great, But Cheap. I bought the Rossi Tar...   \n",
       "10             10  . Fit was true to size. First new helmet in lo...   \n",
       "11             11  Good features great helmet. I really like the ...   \n",
       "12             12  Great helmet. Great helmet for your money favo...   \n",
       "13             13  Love so far but.... So I've have my eye on thi...   \n",
       "14             14  Great style & comfort, love the helmet!. I tri...   \n",
       "15             15  Good helmet but does fog at low speed. Saved m...   \n",
       "16             16  Comfortable and Functional with Reasonable Pri...   \n",
       "17             17  Awesome helmet. Slammed the last side of my fa...   \n",
       "18             18  SAVED MY LIFE!. On December 1, 2018 at 0730 hr...   \n",
       "19             19  Good, Not Great. The helmet is comfy, glasses ...   \n",
       "20             20  Great helmet for the price.. I bought this to ...   \n",
       "21             21  Amazing for the price. Amazing helmet the only...   \n",
       "22             22  A little tight and loud. Runs on the small sid...   \n",
       "23             23  Good not great. This is a good helmet but not ...   \n",
       "24             24  Very happy with this helmet!. I am a new rider...   \n",
       "25             25  Best helmet I’ve bought so far. This is by far...   \n",
       "26             26  very impressive for $200.00. just had my first...   \n",
       "27             27  . Fit runs slightly small. Great airflow. Nice...   \n",
       "28             28  So much fresh air!!!. I Love this helmet. It l...   \n",
       "29             29  Great purchase for the money. Needed an upgrad...   \n",
       "...           ...                                                ...   \n",
       "13534        6959  Jet Belfast : beau et bien fin Très satisfait ...   \n",
       "13535        6960  Leger, classe et super confortable. casque sup...   \n",
       "13536        6961               Casque de belle qualité Beau produit   \n",
       "13537        6962  casque belfast black mat luxe grande satisfact...   \n",
       "13538        6963  Pas mal Casque très bien mais je retire une ét...   \n",
       "13539        6964  Casque Shark Très bon produit. Léger et silenc...   \n",
       "13540        6965  C'est du Shoei! Après une petite infidélité à ...   \n",
       "13541        6966  bon produit joli produit bien fini, confortabl...   \n",
       "13542        6967  Conforme à la description Couleur et caractéri...   \n",
       "13543        6968  Cascque nolan Visière solaire ++ port de lunet...   \n",
       "13544        6969  Marque exceptionnel Très agréable avec la visi...   \n",
       "13545        6970  Une valeur sûre Pas de surprise sur ce NXR, di...   \n",
       "13546        6971  Très bon casque! Pas de surprise sur ce NXR, d...   \n",
       "13547        6972  Shoei NXR tres belle finition et confort légen...   \n",
       "13548        6973  Look sympa mais un peu bruyant Casque au prix ...   \n",
       "13549        6974  Excellent casque Whaouu, rien qu'en ouvrant la...   \n",
       "13550        6975  Casque intégral HJC CS-15 Songtan MC1SF Casque...   \n",
       "13551        6976  très bon casque très bon casque reçus rapideme...   \n",
       "13552        6977  bon casque , léger et look sympa bon casque en...   \n",
       "13553        6978                      Achat casque Très bon produit   \n",
       "13554        6979                    tres bon achat très bon produit   \n",
       "13555        6980                                      Bon casque!     \n",
       "13556        6981  bien dans l'ensemble Manque le passage pour le...   \n",
       "13557        6982  Super produit Très bon produit à voir dans le ...   \n",
       "13558        6983  Bon Produit Casque de très bonne qualité, suff...   \n",
       "13559        6984  Bon casque Oublie des stickers réfléchissants ...   \n",
       "13560        6985  Confortable. Confortable mais encore un peu br...   \n",
       "13561        6986  Casque Airoh Executive Noir Mat Bon casque\\nEf...   \n",
       "13562        6987  casque confort bon casque de bonne qualité, co...   \n",
       "13563        6988  Bof assez déçu surtout écran anti-bué NUL Mauv...   \n",
       "\n",
       "                                            Commentaries        Date  \\\n",
       "0      Good Bang for your buck. I bought this helmet ...  2019-09-18   \n",
       "1      Solid. Awesome helmet. Stylish and safe. Bang ...  2019-08-25   \n",
       "2      Great helmet. This is my first helmet and love...  2019-08-11   \n",
       "3      AGV all the way!. I recently came from a shoei...  2019-08-04   \n",
       "4      Great buy!!. Overall a great starter helmet, p...  2019-08-02   \n",
       "5      Awesome Helmet. I give 4 stars because the vid...  2019-06-27   \n",
       "6      Really good helmet. Really satisfied with this...  2019-06-27   \n",
       "7      Good Helmet. Bought this as my first helmet be...  2019-06-06   \n",
       "8      Great helmet. I looked all over for a full fac...  2019-06-04   \n",
       "9      Looks Great, But Cheap. I bought the Rossi Tar...  2019-06-04   \n",
       "10     . Fit was true to size. First new helmet in lo...  2019-05-20   \n",
       "11     Good features great helmet. I really like the ...  2019-05-15   \n",
       "12     Great helmet. Great helmet for your money favo...  2019-04-26   \n",
       "13     Love so far but.... So I've have my eye on thi...  2019-04-08   \n",
       "14     Great style & comfort, love the helmet!. I tri...  2019-03-25   \n",
       "15     Good helmet but does fog at low speed. Saved m...  2019-03-18   \n",
       "16     Comfortable and Functional with Reasonable Pri...  2019-03-15   \n",
       "17     Awesome helmet. Slammed the last side of my fa...  2019-03-06   \n",
       "18     SAVED MY LIFE!. On December 1, 2018 at 0730 hr...  2018-12-20   \n",
       "19     Good, Not Great. The helmet is comfy, glasses ...  2018-10-07   \n",
       "20     Great helmet for the price.. I bought this to ...  2018-09-30   \n",
       "21     Amazing for the price. Amazing helmet the only...  2018-08-04   \n",
       "22     A little tight and loud. Runs on the small sid...  2018-07-23   \n",
       "23     Good not great. This is a good helmet but not ...  2018-07-05   \n",
       "24     Very happy with this helmet!. I am a new rider...  2018-06-19   \n",
       "25     Best helmet I’ve bought so far. This is by far...  2018-05-31   \n",
       "26     very impressive for $200.00. just had my first...  2018-05-18   \n",
       "27     . Fit runs slightly small. Great airflow. Nice...  2018-04-27   \n",
       "28     So much fresh air!!!. I Love this helmet. It l...  2018-04-24   \n",
       "29     Great purchase for the money. Needed an upgrad...  2018-04-24   \n",
       "...                                                  ...         ...   \n",
       "13534  Jet Belfast: fine and fine Very satisfied with...  2018-12-10   \n",
       "13535  Light, classy and super comfortable. super com...  2018-11-29   \n",
       "13536         Helmet beautiful quality Beautiful product  2018-11-02   \n",
       "13537  belfast helmet black mat luxury great satisfac...  2018-10-12   \n",
       "13538  Not bad Headset very well but I remove a star ...  2019-07-01   \n",
       "13539  Shark helmet Very good product. Light and sile...  2017-11-24   \n",
       "13540  It's Shoei! After a little infidelity to Shoei...  2019-02-11   \n",
       "13541  good product nice product well finished, comfo...  2019-05-19   \n",
       "13542  Conforms to the description Color and features...  2019-08-17   \n",
       "13543  Cascque nolan Sun visor ++ wearing glasses ++\\...  2018-10-28   \n",
       "13544  Exceptional brand Very nice with the pinlonk v...  2019-01-22   \n",
       "13545  A safe bet No surprise on this NXR, a worthy s...  2017-10-04   \n",
       "13546  Very good helmet! No surprise on this NXR, wor...  2017-09-27   \n",
       "13547  Shoei NXR very nice finish and legendary comfo...  2015-05-28   \n",
       "13548  Look nice but a little noisy headphones at the...  2018-10-29   \n",
       "13549  Excellent Whaouu helmet, just by opening the b...  2016-07-09   \n",
       "13550  Full face helmet HJC CS-15 Songtan MC1SF Helme...  2017-08-07   \n",
       "13551  very good helmet very good helmet received qui...  2018-05-22   \n",
       "13552  good helmet, lightweight and nice look good he...  2019-04-15   \n",
       "13553                  Purchase helmet Very good product  2019-06-17   \n",
       "13554                    very good buy very good product  2016-04-27   \n",
       "13555                                       Good helmet!  2016-04-18   \n",
       "13556  all in all Missing the passage for the glasses...  2019-07-03   \n",
       "13557  Great product Great product to see in the mean...  2019-06-06   \n",
       "13558  Good Product Helmet of very good quality, enou...  2018-06-16   \n",
       "13559     Good helmet Forget reflective safety stickers.  2014-03-31   \n",
       "13560    Comfortable. Comfortable but still a bit noisy.  2017-10-01   \n",
       "13561  Airoh Executive Helmet Black Matte Good helmet...  2016-05-12   \n",
       "13562  helmet comfort good quality helmet, comfort in...  2014-06-26   \n",
       "13563  Bof rather disappointed especially anti-fog sc...  2016-01-07   \n",
       "\n",
       "            Marque  Nombre avis      Note  Note du commentaire     Prix  \\\n",
       "0      AGV Helmets         94.0       NaN                  4.0  $199.95   \n",
       "1      AGV Helmets         94.0       NaN                  5.0  $199.95   \n",
       "2      AGV Helmets         94.0       NaN                  5.0  $199.95   \n",
       "3      AGV Helmets         94.0       NaN                  5.0  $199.95   \n",
       "4      AGV Helmets         94.0       NaN                  5.0  $199.95   \n",
       "5      AGV Helmets         94.0       NaN                  5.0  $199.95   \n",
       "6      AGV Helmets         94.0       NaN                  5.0  $199.95   \n",
       "7      AGV Helmets         94.0       NaN                  5.0  $199.95   \n",
       "8      AGV Helmets         94.0       NaN                  5.0  $199.95   \n",
       "9      AGV Helmets         94.0       NaN                  4.0  $199.95   \n",
       "10     AGV Helmets         94.0       NaN                  4.0  $199.95   \n",
       "11     AGV Helmets         94.0       NaN                  4.0  $199.95   \n",
       "12     AGV Helmets         94.0       NaN                  5.0  $199.95   \n",
       "13     AGV Helmets         94.0       NaN                  4.0  $199.95   \n",
       "14     AGV Helmets         94.0       NaN                  5.0  $199.95   \n",
       "15     AGV Helmets         94.0       NaN                  4.0  $199.95   \n",
       "16     AGV Helmets         94.0       NaN                  5.0  $199.95   \n",
       "17     AGV Helmets         94.0       NaN                  5.0  $199.95   \n",
       "18     AGV Helmets         94.0       NaN                  5.0  $199.95   \n",
       "19     AGV Helmets         94.0       NaN                  4.0  $199.95   \n",
       "20     AGV Helmets         94.0       NaN                  5.0  $199.95   \n",
       "21     AGV Helmets         94.0       NaN                  5.0  $199.95   \n",
       "22     AGV Helmets         94.0       NaN                  4.0  $199.95   \n",
       "23     AGV Helmets         94.0       NaN                  3.0  $199.95   \n",
       "24     AGV Helmets         94.0       NaN                  5.0  $199.95   \n",
       "25     AGV Helmets         94.0       NaN                  5.0  $199.95   \n",
       "26     AGV Helmets         94.0       NaN                  5.0  $199.95   \n",
       "27     AGV Helmets         94.0       NaN                  4.0  $199.95   \n",
       "28     AGV Helmets         94.0       NaN                  5.0  $199.95   \n",
       "29     AGV Helmets         94.0       NaN                  5.0  $199.95   \n",
       "...            ...          ...       ...                  ...      ...   \n",
       "13534     Scorpion          NaN  5.000000                  5.0   170.53   \n",
       "13535     Scorpion          NaN  5.000000                  5.0   170.53   \n",
       "13536     Scorpion          NaN  5.000000                  5.0   170.53   \n",
       "13537     Scorpion          NaN  5.000000                  5.0   170.53   \n",
       "13538     Scorpion          NaN  4.000000                  4.0   332.17   \n",
       "13539        Shark          NaN  5.000000                  5.0   418.04   \n",
       "13540        Shoei          NaN  4.000000                  4.0    699.0   \n",
       "13541          HJC          NaN  4.000000                  4.0   224.91   \n",
       "13542        Nolan          NaN  4.500000                  5.0   233.21   \n",
       "13543        Nolan          NaN  4.500000                  4.0   233.21   \n",
       "13544        Shark          NaN  5.000000                  5.0   213.66   \n",
       "13545        Shoei          NaN  4.666667                  5.0   435.59   \n",
       "13546        Shoei          NaN  4.666667                  5.0   435.59   \n",
       "13547        Shoei          NaN  4.666667                  4.0   435.59   \n",
       "13548        Nolan          NaN  4.000000                  4.0   179.39   \n",
       "13549        Shoei          NaN  4.000000                  4.0   369.16   \n",
       "13550          HJC          NaN  4.000000                  4.0     98.8   \n",
       "13551        Shark          NaN  4.500000                  5.0   445.91   \n",
       "13552        Shark          NaN  4.500000                  4.0   445.91   \n",
       "13553     Scorpion          NaN  4.500000                  5.0   152.57   \n",
       "13554     Scorpion          NaN  4.500000                  5.0   152.57   \n",
       "13555     Scorpion          NaN  4.500000                  5.0   152.57   \n",
       "13556     Scorpion          NaN  4.500000                  4.0   152.57   \n",
       "13557     Scorpion          NaN  4.500000                  4.0   152.57   \n",
       "13558     Scorpion          NaN  4.500000                  4.0   152.57   \n",
       "13559        Airoh          NaN  3.800000                  5.0   215.75   \n",
       "13560        Airoh          NaN  3.800000                  4.0   215.75   \n",
       "13561        Airoh          NaN  3.800000                  4.0   215.75   \n",
       "13562        Airoh          NaN  3.800000                  4.0   215.75   \n",
       "13563        Airoh          NaN  3.800000                  2.0   215.75   \n",
       "\n",
       "                                     Produit       Site  intensivity  \\\n",
       "0                  AGV K3 SV Helmet  Solid    Rev'Zilla     0.502480   \n",
       "1                  AGV K3 SV Helmet  Solid    Rev'Zilla     0.650000   \n",
       "2                  AGV K3 SV Helmet  Solid    Rev'Zilla     0.641005   \n",
       "3                  AGV K3 SV Helmet  Solid    Rev'Zilla     0.466558   \n",
       "4                  AGV K3 SV Helmet  Solid    Rev'Zilla     0.596032   \n",
       "5                  AGV K3 SV Helmet  Solid    Rev'Zilla     0.583654   \n",
       "6                  AGV K3 SV Helmet  Solid    Rev'Zilla     0.683333   \n",
       "7                  AGV K3 SV Helmet  Solid    Rev'Zilla     0.546032   \n",
       "8                  AGV K3 SV Helmet  Solid    Rev'Zilla     0.562889   \n",
       "9                  AGV K3 SV Helmet  Solid    Rev'Zilla     0.570321   \n",
       "10                 AGV K3 SV Helmet  Solid    Rev'Zilla     0.506313   \n",
       "11                 AGV K3 SV Helmet  Solid    Rev'Zilla     0.567778   \n",
       "12                 AGV K3 SV Helmet  Solid    Rev'Zilla     0.635808   \n",
       "13                 AGV K3 SV Helmet  Solid    Rev'Zilla     0.523495   \n",
       "14                 AGV K3 SV Helmet  Solid    Rev'Zilla     0.570000   \n",
       "15                 AGV K3 SV Helmet  Solid    Rev'Zilla     0.528472   \n",
       "16                 AGV K3 SV Helmet  Solid    Rev'Zilla     0.603968   \n",
       "17                 AGV K3 SV Helmet  Solid    Rev'Zilla     0.619537   \n",
       "18                 AGV K3 SV Helmet  Solid    Rev'Zilla     0.340741   \n",
       "19                 AGV K3 SV Helmet  Solid    Rev'Zilla     0.608333   \n",
       "20                 AGV K3 SV Helmet  Solid    Rev'Zilla     0.418750   \n",
       "21                 AGV K3 SV Helmet  Solid    Rev'Zilla     0.825000   \n",
       "22                 AGV K3 SV Helmet  Solid    Rev'Zilla     0.575170   \n",
       "23                 AGV K3 SV Helmet  Solid    Rev'Zilla     0.580952   \n",
       "24                 AGV K3 SV Helmet  Solid    Rev'Zilla     0.550138   \n",
       "25                 AGV K3 SV Helmet  Solid    Rev'Zilla     0.731250   \n",
       "26                 AGV K3 SV Helmet  Solid    Rev'Zilla     0.461905   \n",
       "27                 AGV K3 SV Helmet  Solid    Rev'Zilla     0.691667   \n",
       "28                 AGV K3 SV Helmet  Solid    Rev'Zilla     0.560000   \n",
       "29                 AGV K3 SV Helmet  Solid    Rev'Zilla     0.483095   \n",
       "...                                      ...        ...          ...   \n",
       "13534                Belfast Luxe Matt Black    iCasque     0.777778   \n",
       "13535                Belfast Luxe Matt Black    iCasque     0.594778   \n",
       "13536                Belfast Luxe Matt Black    iCasque     1.000000   \n",
       "13537                Belfast Luxe Matt Black    iCasque     0.591667   \n",
       "13538     Exo 1400 Air Sylex Noir Mat Argent    iCasque     0.483333   \n",
       "13539              Spartan Carbon Daksha DBW    iCasque     0.645000   \n",
       "13540                  Neotec II Splicer TC8    iCasque     0.407143   \n",
       "13541                          i70 Asto MC4H    iCasque     0.496477   \n",
       "13542       N87 Ledlight N-Com Black Pink 31    iCasque     0.780000   \n",
       "13543       N87 Ledlight N-Com Black Pink 31    iCasque     1.000000   \n",
       "13544                  D-Skwal Mercurium KWR    iCasque     0.750000   \n",
       "13545                          NXR Shine Red    iCasque     0.611111   \n",
       "13546                          NXR Shine Red    iCasque     0.716000   \n",
       "13547                          NXR Shine Red    iCasque     1.000000   \n",
       "13548  N21 Visor Joie De Vivre Flat Black 34    iCasque     0.523333   \n",
       "13549                     J.O Carburetor TC6    iCasque     0.507619   \n",
       "13550                    CS-15 Songtan MC1SF    iCasque     0.575000   \n",
       "13551    Spartan Carbon Replica Guintoli DUR    iCasque     0.794000   \n",
       "13552    Spartan Carbon Replica Guintoli DUR    iCasque     0.650000   \n",
       "13553                    Belfast Matte Black    iCasque     0.780000   \n",
       "13554                    Belfast Matte Black    iCasque     0.780000   \n",
       "13555                    Belfast Matte Black    iCasque     0.600000   \n",
       "13556                    Belfast Matte Black    iCasque     0.582500   \n",
       "13557                    Belfast Matte Black    iCasque     0.750000   \n",
       "13558                    Belfast Matte Black    iCasque     0.644074   \n",
       "13559                     Executive Noir Mat    iCasque     0.600000   \n",
       "13560                     Executive Noir Mat    iCasque     0.800000   \n",
       "13561                     Executive Noir Mat    iCasque     0.377778   \n",
       "13562                     Executive Noir Mat    iCasque     0.600000   \n",
       "13563                     Executive Noir Mat    iCasque     0.731250   \n",
       "\n",
       "       positivity  \n",
       "0        0.128919  \n",
       "1        0.500000  \n",
       "2        0.298413  \n",
       "3        0.170879  \n",
       "4        0.534921  \n",
       "5        0.205910  \n",
       "6        0.512500  \n",
       "7        0.258135  \n",
       "8        0.301444  \n",
       "9        0.214438  \n",
       "10       0.281061  \n",
       "11       0.308889  \n",
       "12       0.382222  \n",
       "13       0.190567  \n",
       "14       0.073750  \n",
       "15       0.159028  \n",
       "16       0.268254  \n",
       "17       0.395043  \n",
       "18       0.128704  \n",
       "19       0.400000  \n",
       "20       0.256250  \n",
       "21       0.253125  \n",
       "22      -0.042418  \n",
       "23       0.103571  \n",
       "24       0.195420  \n",
       "25       0.381250  \n",
       "26       0.308571  \n",
       "27       0.475000  \n",
       "28       0.437188  \n",
       "29       0.220357  \n",
       "...           ...  \n",
       "13534    0.556111  \n",
       "13535    0.296778  \n",
       "13536    0.850000  \n",
       "13537    0.316667  \n",
       "13538    0.275000  \n",
       "13539    0.477500  \n",
       "13540    0.133929  \n",
       "13541    0.202902  \n",
       "13542    0.910000  \n",
       "13543    0.325000  \n",
       "13544    0.511667  \n",
       "13545    0.349444  \n",
       "13546    0.596667  \n",
       "13547    0.890000  \n",
       "13548   -0.021250  \n",
       "13549    0.301756  \n",
       "13550    0.525000  \n",
       "13551    0.704667  \n",
       "13552    0.506771  \n",
       "13553    0.910000  \n",
       "13554    0.910000  \n",
       "13555    0.875000  \n",
       "13556    0.255625  \n",
       "13557    0.800000  \n",
       "13558    0.183981  \n",
       "13559    0.700000  \n",
       "13560    0.400000  \n",
       "13561    0.177778  \n",
       "13562    0.700000  \n",
       "13563   -0.352083  \n",
       "\n",
       "[13564 rows x 13 columns]"
      ]
     },
     "execution_count": 498,
     "metadata": {},
     "output_type": "execute_result"
    }
   ],
   "source": [
    "app"
   ]
  },
  {
   "cell_type": "raw",
   "metadata": {},
   "source": [
    "Nous avons pu améliorer le modèle de 0.03 (sur l'accuracy et le F1-score) environ en incluant l'ensemble de nos données. "
   ]
  },
  {
   "cell_type": "markdown",
   "metadata": {},
   "source": [
    "# 7. Comparaison avec une méthode non-supervisée : TextBlob"
   ]
  },
  {
   "cell_type": "markdown",
   "metadata": {},
   "source": [
    "## 7.1. Préparation des données pour TextBlob"
   ]
  },
  {
   "cell_type": "code",
   "execution_count": 280,
   "metadata": {},
   "outputs": [],
   "source": [
    "X_train_text_5_end = rating_5_end['reviewText'][X_train_5_end.index]\n",
    "X_test_text_5_end = rating_5_end['reviewText'][X_test_5_end.index]\n",
    "\n",
    "X_train_text_4_end = rating_4_end['reviewText'][X_train_4_end.index]\n",
    "X_test_text_4_end = rating_4_end['reviewText'][X_test_4_end.index]\n",
    "\n",
    "X_train_text_3_end = rating_3_end['reviewText'][X_train_3_end.index]\n",
    "X_test_text_3_end = rating_3_end['reviewText'][X_test_3_end.index]\n",
    "\n",
    "X_train_text_2_end = rating_2_end['reviewText'][X_train_2_end.index]\n",
    "X_test_text_2_end = rating_2_end['reviewText'][X_test_2_end.index]\n",
    "\n",
    "X_train_text_1_end = rating_1_end['reviewText'][X_train_1_end.index]\n",
    "X_test_text_1_end = rating_1_end['reviewText'][X_test_1_end.index]"
   ]
  },
  {
   "cell_type": "code",
   "execution_count": 281,
   "metadata": {},
   "outputs": [],
   "source": [
    "X_train_text_end = pd.concat([X_train_text_5_end,X_train_text_4_end,X_train_text_3_end,X_train_text_2_end,X_train_text_1_end],axis=0,ignore_index=True)\n",
    "X_test_text_end = pd.concat([X_test_text_5_end,X_test_text_4_end,X_test_text_3_end,X_test_text_2_end,X_test_text_1_end],axis=0,ignore_index=True)"
   ]
  },
  {
   "cell_type": "code",
   "execution_count": 282,
   "metadata": {},
   "outputs": [],
   "source": [
    "frame_train_end = {'Text':X_train_text_end}\n",
    "frame_test_end = {'Text':X_test_text_end}\n",
    "\n",
    "X_train_tb_end = pd.DataFrame(frame_train_end)\n",
    "X_test_tb_end = pd.DataFrame(frame_test_end) "
   ]
  },
  {
   "cell_type": "markdown",
   "metadata": {},
   "source": [
    "## 7.2. Analyse de sentiment avec TextBlob"
   ]
  },
  {
   "cell_type": "markdown",
   "metadata": {},
   "source": [
    "### 7.2.1. Obtention de la note de positivité avec TextBlob"
   ]
  },
  {
   "cell_type": "code",
   "execution_count": 283,
   "metadata": {},
   "outputs": [],
   "source": [
    "class SentimentAnalyzer() :\n",
    "    def sentiment_analysis(self,expression):\n",
    "        blob = TextBlob(expression)\n",
    "        return (blob.sentiment[0], blob.sentiment[1])\n",
    "\n",
    "    def run(self,df) :\n",
    "        df['TextBlobPositivité']=0\n",
    "        #scraping_mb_ic_dafy_trad['intensivity']=0\n",
    "        for index, row in tqdm(df.iterrows()):\n",
    "            positivity, intensity = self.sentiment_analysis(str(row['Text']))\n",
    "            if positivity*intensity > -1:\n",
    "                df.loc[index,'TextBlobPositivité'] = positivity\n",
    "                #scraping_mb_ic_dafy_trad.loc[index,'intensivity'] = intensity"
   ]
  },
  {
   "cell_type": "code",
   "execution_count": 284,
   "metadata": {},
   "outputs": [
    {
     "data": {
      "application/vnd.jupyter.widget-view+json": {
       "model_id": "75e34727d0bf4dfc90b118b3b1b96c10",
       "version_major": 2,
       "version_minor": 0
      },
      "text/plain": [
       "HBox(children=(IntProgress(value=1, bar_style='info', max=1), HTML(value='')))"
      ]
     },
     "metadata": {},
     "output_type": "display_data"
    },
    {
     "name": "stdout",
     "output_type": "stream",
     "text": [
      "\n"
     ]
    },
    {
     "data": {
      "application/vnd.jupyter.widget-view+json": {
       "model_id": "1bc6ff4c22c74cf28495023ffb7d6428",
       "version_major": 2,
       "version_minor": 0
      },
      "text/plain": [
       "HBox(children=(IntProgress(value=1, bar_style='info', max=1), HTML(value='')))"
      ]
     },
     "metadata": {},
     "output_type": "display_data"
    },
    {
     "name": "stdout",
     "output_type": "stream",
     "text": [
      "\n"
     ]
    }
   ],
   "source": [
    "from textblob import TextBlob\n",
    "sentiment_analyser = SentimentAnalyzer()\n",
    "sentiment_analyser.run(X_train_tb_end)\n",
    "sentiment_analyser.run(X_test_tb_end)"
   ]
  },
  {
   "cell_type": "code",
   "execution_count": 285,
   "metadata": {},
   "outputs": [],
   "source": [
    "X_train_tb_done_end = np.array(X_train_tb_end['TextBlobPositivité'])\n",
    "X_test_tb_done_end = np.array(X_test_tb_end['TextBlobPositivité'])"
   ]
  },
  {
   "cell_type": "code",
   "execution_count": 286,
   "metadata": {},
   "outputs": [],
   "source": [
    "X_train_tb_done_end = X_train_tb_done_end.reshape(-1,1)\n",
    "X_test_tb_done_end = X_test_tb_done_end.reshape(-1,1)"
   ]
  },
  {
   "cell_type": "code",
   "execution_count": 287,
   "metadata": {},
   "outputs": [
    {
     "data": {
      "text/plain": [
       "array([[ 0.4075    ],\n",
       "       [ 0.42159091],\n",
       "       [ 0.53166667],\n",
       "       ...,\n",
       "       [ 0.27857143],\n",
       "       [ 0.08148148],\n",
       "       [-0.02391215]])"
      ]
     },
     "execution_count": 287,
     "metadata": {},
     "output_type": "execute_result"
    }
   ],
   "source": [
    "X_train_tb_done_end"
   ]
  },
  {
   "cell_type": "markdown",
   "metadata": {},
   "source": [
    "### 7.2.2. Premières comparaisons TextBlob / Notes en étoiles - jeu d'entrainement"
   ]
  },
  {
   "cell_type": "code",
   "execution_count": 342,
   "metadata": {},
   "outputs": [],
   "source": [
    "TB = pd.concat([X_train_tb_end['TextBlobPositivité'],pd.DataFrame(Y_train_end)],axis=1)"
   ]
  },
  {
   "cell_type": "code",
   "execution_count": 393,
   "metadata": {
    "scrolled": true
   },
   "outputs": [
    {
     "data": {
      "image/png": "[encoded data removed]",
      "text/plain": [
       "<Figure size 720x432 with 1 Axes>"
      ]
     },
     "metadata": {
      "needs_background": "light"
     },
     "output_type": "display_data"
    }
   ],
   "source": [
    "plt.figure(figsize=(10,6))\n",
    "sn.boxplot(x ='Positivité' , y ='TextBlobPositivité', data = TB , color=\"skyblue\")\n",
    "plt.show();"
   ]
  },
  {
   "cell_type": "code",
   "execution_count": 395,
   "metadata": {},
   "outputs": [
    {
     "data": {
      "image/png": "[encoded data removed]",
      "text/plain": [
       "<Figure size 720x432 with 1 Axes>"
      ]
     },
     "metadata": {
      "needs_background": "light"
     },
     "output_type": "display_data"
    }
   ],
   "source": [
    "plt.figure(figsize=(10,6))\n",
    "sn.boxplot(x ='Vraie Note' , y ='Note meilleur LR/TFIDF', data = Y_TextBlob , color=\"skyblue\")\n",
    "plt.show();"
   ]
  },
  {
   "cell_type": "code",
   "execution_count": 482,
   "metadata": {},
   "outputs": [
    {
     "data": {
      "text/html": [
       "<div>\n",
       "<style scoped>\n",
       "    .dataframe tbody tr th:only-of-type {\n",
       "        vertical-align: middle;\n",
       "    }\n",
       "\n",
       "    .dataframe tbody tr th {\n",
       "        vertical-align: top;\n",
       "    }\n",
       "\n",
       "    .dataframe thead th {\n",
       "        text-align: right;\n",
       "    }\n",
       "</style>\n",
       "<table border=\"1\" class=\"dataframe\">\n",
       "  <thead>\n",
       "    <tr style=\"text-align: right;\">\n",
       "      <th></th>\n",
       "      <th>Note TextBlob</th>\n",
       "      <th>Vraie Note</th>\n",
       "      <th>Note meilleur LR/TFIDF</th>\n",
       "    </tr>\n",
       "    <tr>\n",
       "      <th>Note étoiles TextBlob</th>\n",
       "      <th></th>\n",
       "      <th></th>\n",
       "      <th></th>\n",
       "    </tr>\n",
       "  </thead>\n",
       "  <tbody>\n",
       "    <tr>\n",
       "      <th>1</th>\n",
       "      <td>15281</td>\n",
       "      <td>15281</td>\n",
       "      <td>15281</td>\n",
       "    </tr>\n",
       "    <tr>\n",
       "      <th>2</th>\n",
       "      <td>22086</td>\n",
       "      <td>22086</td>\n",
       "      <td>22086</td>\n",
       "    </tr>\n",
       "    <tr>\n",
       "      <th>4</th>\n",
       "      <td>4617</td>\n",
       "      <td>4617</td>\n",
       "      <td>4617</td>\n",
       "    </tr>\n",
       "    <tr>\n",
       "      <th>5</th>\n",
       "      <td>16629</td>\n",
       "      <td>16629</td>\n",
       "      <td>16629</td>\n",
       "    </tr>\n",
       "  </tbody>\n",
       "</table>\n",
       "</div>"
      ],
      "text/plain": [
       "                       Note TextBlob  Vraie Note  Note meilleur LR/TFIDF\n",
       "Note étoiles TextBlob                                                   \n",
       "1                              15281       15281                   15281\n",
       "2                              22086       22086                   22086\n",
       "4                               4617        4617                    4617\n",
       "5                              16629       16629                   16629"
      ]
     },
     "execution_count": 482,
     "metadata": {},
     "output_type": "execute_result"
    }
   ],
   "source": [
    "Y_TextBlob.groupby(['Note étoiles TextBlob']).count()"
   ]
  },
  {
   "cell_type": "code",
   "execution_count": 484,
   "metadata": {},
   "outputs": [
    {
     "data": {
      "text/plain": [
       "58613"
      ]
     },
     "execution_count": 484,
     "metadata": {},
     "output_type": "execute_result"
    }
   ],
   "source": [
    "len(Y_TextBlob['Vraie Note'])"
   ]
  },
  {
   "cell_type": "code",
   "execution_count": 416,
   "metadata": {},
   "outputs": [],
   "source": [
    "note_5 = Y_TextBlob[Y_TextBlob['Vraie Note']==5]['Note TextBlob']\n",
    "note_4 = Y_TextBlob[Y_TextBlob['Vraie Note']==4]['Note TextBlob']\n",
    "note_3 = Y_TextBlob[Y_TextBlob['Vraie Note']==3]['Note TextBlob']\n",
    "note_2 = Y_TextBlob[Y_TextBlob['Vraie Note']==2]['Note TextBlob']\n",
    "note_1 = Y_TextBlob[Y_TextBlob['Vraie Note']==1]['Note TextBlob']"
   ]
  },
  {
   "cell_type": "code",
   "execution_count": 512,
   "metadata": {},
   "outputs": [
    {
     "name": "stderr",
     "output_type": "stream",
     "text": [
      "C:\\Users\\Bastien\\Anaconda3\\lib\\site-packages\\scipy\\stats\\morestats.py:1653: UserWarning: p-value may not be accurate for N > 5000.\n",
      "  warnings.warn(\"p-value may not be accurate for N > 5000.\")\n"
     ]
    },
    {
     "name": "stdout",
     "output_type": "stream",
     "text": [
      "(0.983443558216095, 1.0184998482246486e-34)\n",
      "(0.9729025959968567, 3.5971331579218054e-42)\n",
      "(0.9742953777313232, 2.6013704691725904e-41)\n",
      "(0.9747620820999146, 5.648634109693338e-41)\n",
      "(0.9671810269355774, 2.802596928649634e-45)\n"
     ]
    }
   ],
   "source": [
    "import scipy\n",
    "from scipy import stats\n",
    "print(stats.shapiro(note_5))\n",
    "print(stats.shapiro(note_4))\n",
    "print(stats.shapiro(note_3))\n",
    "print(stats.shapiro(note_2))\n",
    "print(stats.shapiro(note_1))"
   ]
  },
  {
   "cell_type": "code",
   "execution_count": 516,
   "metadata": {},
   "outputs": [
    {
     "data": {
      "text/plain": [
       "KruskalResult(statistic=-922098.8970271356, pvalue=1.0)"
      ]
     },
     "execution_count": 516,
     "metadata": {},
     "output_type": "execute_result"
    }
   ],
   "source": [
    "stats.kruskal(note_1,note_2,note_3,note_4,note_5)"
   ]
  },
  {
   "cell_type": "code",
   "execution_count": 515,
   "metadata": {},
   "outputs": [
    {
     "data": {
      "text/plain": [
       "Ks_2sampResult(statistic=0.144495609324577, pvalue=3.6637521651517086e-107)"
      ]
     },
     "execution_count": 515,
     "metadata": {},
     "output_type": "execute_result"
    }
   ],
   "source": [
    "stats.ks_2samp(note_4,note_3)"
   ]
  },
  {
   "cell_type": "markdown",
   "metadata": {},
   "source": [
    "### 7.2.3. Tests Statistiques comparant les deux distributions"
   ]
  },
  {
   "cell_type": "code",
   "execution_count": 347,
   "metadata": {},
   "outputs": [
    {
     "data": {
      "text/plain": [
       "Ks_2sampResult(statistic=0.9978209046901736, pvalue=0.0)"
      ]
     },
     "execution_count": 347,
     "metadata": {},
     "output_type": "execute_result"
    }
   ],
   "source": [
    "from scipy import stats\n",
    "stats.ks_2samp(np.array(TB['TextBlobPositivité']),np.array(TB['Positivité']))"
   ]
  },
  {
   "cell_type": "code",
   "execution_count": 349,
   "metadata": {},
   "outputs": [
    {
     "data": {
      "text/plain": [
       "MannwhitneyuResult(statistic=4069637.0, pvalue=0.0)"
      ]
     },
     "execution_count": 349,
     "metadata": {},
     "output_type": "execute_result"
    }
   ],
   "source": [
    "from scipy.stats import mannwhitneyu\n",
    "mannwhitneyu(np.array(TB['TextBlobPositivité']),np.array(TB['Positivité']))"
   ]
  },
  {
   "cell_type": "markdown",
   "metadata": {},
   "source": [
    "## 7.3. Transposition note de posisitivté de TextBlob vers notation étoiles"
   ]
  },
  {
   "cell_type": "markdown",
   "metadata": {},
   "source": [
    "### 7.3.1. Premier modèle : arbre de décision"
   ]
  },
  {
   "cell_type": "code",
   "execution_count": 288,
   "metadata": {},
   "outputs": [],
   "source": [
    "from sklearn.tree import DecisionTreeClassifier\n",
    "from sklearn import tree"
   ]
  },
  {
   "cell_type": "code",
   "execution_count": 356,
   "metadata": {},
   "outputs": [
    {
     "data": {
      "text/plain": [
       "OneVsRestClassifier(estimator=DecisionTreeClassifier(class_weight=None,\n",
       "                                                     criterion='gini',\n",
       "                                                     max_depth=None,\n",
       "                                                     max_features=None,\n",
       "                                                     max_leaf_nodes=None,\n",
       "                                                     min_impurity_decrease=0.0,\n",
       "                                                     min_impurity_split=None,\n",
       "                                                     min_samples_leaf=1,\n",
       "                                                     min_samples_split=2,\n",
       "                                                     min_weight_fraction_leaf=0.0,\n",
       "                                                     presort=False,\n",
       "                                                     random_state=None,\n",
       "                                                     splitter='best'),\n",
       "                    n_jobs=None)"
      ]
     },
     "execution_count": 356,
     "metadata": {},
     "output_type": "execute_result"
    }
   ],
   "source": [
    "clf_dt = OneVsRestClassifier(DecisionTreeClassifier())\n",
    "clf_dt.fit(X_train_tb_done_end, Y_train_end)"
   ]
  },
  {
   "cell_type": "code",
   "execution_count": 357,
   "metadata": {},
   "outputs": [
    {
     "name": "stdout",
     "output_type": "stream",
     "text": [
      "0.2821234212685465\n",
      "0.29162472489038266\n"
     ]
    }
   ],
   "source": [
    "Y_pred_tb_dt_end = clf_dt.predict(X_test_tb_done_end)\n",
    "print(f1_score(Y_test_end, Y_pred_tb_dt_end, average='macro'))\n",
    "print(accuracy_score(Y_test_end, Y_pred_tb_dt_end))"
   ]
  },
  {
   "cell_type": "code",
   "execution_count": 358,
   "metadata": {},
   "outputs": [],
   "source": [
    "import numpy as np\n",
    "import matplotlib.pyplot as plt\n",
    "from itertools import cycle\n",
    "\n",
    "from sklearn import svm, datasets\n",
    "from sklearn.metrics import roc_curve, auc\n",
    "from sklearn.model_selection import train_test_split\n",
    "from sklearn.preprocessing import label_binarize\n",
    "from sklearn.multiclass import OneVsRestClassifier\n",
    "from scipy import interp\n",
    "\n",
    "\n",
    "Y_train_bin_end = label_binarize(Y_train_end, classes=[1, 2, 3, 4, 5])\n",
    "Y_test_bin_end = label_binarize(Y_test_end, classes=[1, 2, 3, 4, 5])\n",
    "n_classes = Y_train_bin_end.shape[1]\n",
    "\n",
    "\n",
    "classifier = OneVsRestClassifier(DecisionTreeClassifier())\n",
    "classifier.fit(X_train_tb_done_end, Y_train_bin_end)\n",
    "Y_score_end = classifier.predict(X_test_tb_done_end)\n",
    "\n",
    "fpr = dict()\n",
    "tpr = dict()\n",
    "roc_auc = dict()\n",
    "for i in range(0,n_classes):\n",
    "    fpr[i], tpr[i], _ = roc_curve(Y_test_bin_end[:, i], Y_score_end[:, i])\n",
    "    roc_auc[i] = auc(fpr[i], tpr[i])\n",
    "\n",
    "fpr[\"micro\"], tpr[\"micro\"], _ = roc_curve(Y_test_bin_end.ravel(), Y_score_end.ravel())\n",
    "roc_auc[\"micro\"] = auc(fpr[\"micro\"], tpr[\"micro\"])"
   ]
  },
  {
   "cell_type": "markdown",
   "metadata": {},
   "source": [
    "### 7.3.2. Amélioration du modèle par recherche de paramètres - max_depth"
   ]
  },
  {
   "cell_type": "code",
   "execution_count": 295,
   "metadata": {},
   "outputs": [
    {
     "data": {
      "application/vnd.jupyter.widget-view+json": {
       "model_id": "a30a9ef2a6af4bb6b1d2f3d722a1fd73",
       "version_major": 2,
       "version_minor": 0
      },
      "text/plain": [
       "HBox(children=(IntProgress(value=0, max=20), HTML(value='')))"
      ]
     },
     "metadata": {},
     "output_type": "display_data"
    },
    {
     "name": "stdout",
     "output_type": "stream",
     "text": [
      "\n"
     ]
    }
   ],
   "source": [
    "max_depths = np.linspace(1, 20, 20, endpoint=True)\n",
    "train_results = []\n",
    "test_results = []\n",
    "for max_depth in tqdm(max_depths) :\n",
    "    dt = OneVsRestClassifier(DecisionTreeClassifier(max_depth=max_depth))\n",
    "    dt.fit(X_train_tb_done_end, Y_train_bin_end)\n",
    "    Y_train_pred_end = dt.predict(X_train_tb_done_end)\n",
    "    fpr = dict()\n",
    "    tpr = dict()\n",
    "    roc_auc = dict()\n",
    "    for i in range(0,n_classes):\n",
    "        fpr[i], tpr[i], _ = roc_curve(Y_train_bin_end[:, i], Y_train_pred_end[:, i])\n",
    "        roc_auc[i] = auc(fpr[i], tpr[i])\n",
    "\n",
    "    fpr[\"micro\"], tpr[\"micro\"], _ = roc_curve(Y_train_bin_end.ravel(), Y_train_pred_end.ravel())\n",
    "    roc_auc[\"micro\"] = auc(fpr[\"micro\"], tpr[\"micro\"])\n",
    "    # Add auc score to previous train results\n",
    "    train_results.append(roc_auc[\"micro\"])\n",
    "    \n",
    "    Y_score_end = dt.predict(X_test_tb_done_end)\n",
    "    for i in range(0,n_classes):\n",
    "        fpr[i], tpr[i], _ = roc_curve(Y_test_bin_end[:, i], Y_score_end[:, i])\n",
    "        roc_auc[i] = auc(fpr[i], tpr[i])\n",
    "\n",
    "    fpr[\"micro\"], tpr[\"micro\"], _ = roc_curve(Y_test_bin_end.ravel(), Y_score_end.ravel())\n",
    "    roc_auc[\"micro\"] = auc(fpr[\"micro\"], tpr[\"micro\"])\n",
    "    # Add auc score to previous test results\n",
    "    test_results.append(roc_auc[\"micro\"])"
   ]
  },
  {
   "cell_type": "code",
   "execution_count": 296,
   "metadata": {},
   "outputs": [
    {
     "data": {
      "image/png": "[encoded data removed]",
      "text/plain": [
       "<Figure size 432x288 with 1 Axes>"
      ]
     },
     "metadata": {
      "needs_background": "light"
     },
     "output_type": "display_data"
    }
   ],
   "source": [
    "from matplotlib.legend_handler import HandlerLine2D\n",
    "line1, = plt.plot(max_depths, train_results, \"b\", label=\"Train AUC\")\n",
    "line2, = plt.plot(max_depths, test_results, \"r\", label=\"Test AUC\")\n",
    "plt.legend(handler_map={line1: HandlerLine2D(numpoints=2)})\n",
    "plt.ylabel(\"AUC score\")\n",
    "plt.xlabel(\"Tree depth\")\n",
    "plt.show()"
   ]
  },
  {
   "cell_type": "markdown",
   "metadata": {},
   "source": [
    "### 7.3.3. Amélioration du modèle par recherche de paramètres - min_samples_split"
   ]
  },
  {
   "cell_type": "code",
   "execution_count": 299,
   "metadata": {},
   "outputs": [
    {
     "data": {
      "application/vnd.jupyter.widget-view+json": {
       "model_id": "4e59705a78b44c2db3e82b60ecae32a1",
       "version_major": 2,
       "version_minor": 0
      },
      "text/plain": [
       "HBox(children=(IntProgress(value=0, max=30), HTML(value='')))"
      ]
     },
     "metadata": {},
     "output_type": "display_data"
    },
    {
     "name": "stdout",
     "output_type": "stream",
     "text": [
      "\n"
     ]
    }
   ],
   "source": [
    "min_samples_splits = np.linspace(0.01, 0.3, 30, endpoint=True)\n",
    "train_results = []\n",
    "test_results = []\n",
    "for min_samples_split in tqdm(min_samples_splits):\n",
    "    dt = OneVsRestClassifier(DecisionTreeClassifier(max_depth=5,min_samples_split=min_samples_split))\n",
    "    dt.fit(X_train_tb_done_end, Y_train_bin_end)\n",
    "    Y_train_pred_end = dt.predict(X_train_tb_done_end)\n",
    "    fpr = dict()\n",
    "    tpr = dict()\n",
    "    roc_auc = dict()\n",
    "    for i in range(0,n_classes):\n",
    "        fpr[i], tpr[i], _ = roc_curve(Y_train_bin_end[:, i], Y_train_pred_end[:, i])\n",
    "        roc_auc[i] = auc(fpr[i], tpr[i])\n",
    "\n",
    "    fpr[\"micro\"], tpr[\"micro\"], _ = roc_curve(Y_train_bin_end.ravel(), Y_train_pred_end.ravel())\n",
    "    roc_auc[\"micro\"] = auc(fpr[\"micro\"], tpr[\"micro\"])\n",
    "    # Add auc score to previous train results\n",
    "    train_results.append(roc_auc[\"micro\"])\n",
    "    \n",
    "    Y_score_end = dt.predict(X_test_tb_done_end)\n",
    "    for i in range(0,n_classes):\n",
    "        fpr[i], tpr[i], _ = roc_curve(Y_test_bin_end[:, i], Y_score_end[:, i])\n",
    "        roc_auc[i] = auc(fpr[i], tpr[i])\n",
    "\n",
    "    fpr[\"micro\"], tpr[\"micro\"], _ = roc_curve(Y_test_bin_end.ravel(), Y_score_end.ravel())\n",
    "    roc_auc[\"micro\"] = auc(fpr[\"micro\"], tpr[\"micro\"])\n",
    "    # Add auc score to previous test results\n",
    "    test_results.append(roc_auc[\"micro\"])"
   ]
  },
  {
   "cell_type": "code",
   "execution_count": 300,
   "metadata": {},
   "outputs": [
    {
     "data": {
      "image/png": "[encoded data removed]",
      "text/plain": [
       "<Figure size 432x288 with 1 Axes>"
      ]
     },
     "metadata": {
      "needs_background": "light"
     },
     "output_type": "display_data"
    }
   ],
   "source": [
    "from matplotlib.legend_handler import HandlerLine2D\n",
    "line1, = plt.plot(min_samples_splits, train_results, \"b\", label=\"Train AUC\")\n",
    "line2, = plt.plot(min_samples_splits, test_results, \"r\", label=\"Test AUC\")\n",
    "plt.legend(handler_map={line1: HandlerLine2D(numpoints=2)})\n",
    "plt.ylabel(\"AUC score\")\n",
    "plt.xlabel(\"min samples split\")\n",
    "plt.show()"
   ]
  },
  {
   "cell_type": "markdown",
   "metadata": {},
   "source": [
    "### 7.3.4. Modèle final et valeur de TextBlob en étoiles"
   ]
  },
  {
   "cell_type": "code",
   "execution_count": 485,
   "metadata": {},
   "outputs": [
    {
     "data": {
      "text/plain": [
       "OneVsRestClassifier(estimator=DecisionTreeClassifier(class_weight=None,\n",
       "                                                     criterion='gini',\n",
       "                                                     max_depth=1,\n",
       "                                                     max_features=None,\n",
       "                                                     max_leaf_nodes=None,\n",
       "                                                     min_impurity_decrease=0.0,\n",
       "                                                     min_impurity_split=None,\n",
       "                                                     min_samples_leaf=1,\n",
       "                                                     min_samples_split=2,\n",
       "                                                     min_weight_fraction_leaf=0.0,\n",
       "                                                     presort=False,\n",
       "                                                     random_state=None,\n",
       "                                                     splitter='best'),\n",
       "                    n_jobs=None)"
      ]
     },
     "execution_count": 485,
     "metadata": {},
     "output_type": "execute_result"
    }
   ],
   "source": [
    "clf_dt = OneVsRestClassifier(DecisionTreeClassifier(criterion='gini',max_depth=1))\n",
    "clf_dt.fit(X_train_tb_done_end, Y_train_end)"
   ]
  },
  {
   "cell_type": "code",
   "execution_count": 486,
   "metadata": {},
   "outputs": [],
   "source": [
    "Y_train_pred_end = clf_dt.predict(X_train_tb_done_end)"
   ]
  },
  {
   "cell_type": "code",
   "execution_count": 487,
   "metadata": {},
   "outputs": [
    {
     "name": "stderr",
     "output_type": "stream",
     "text": [
      "C:\\Users\\Bastien\\Anaconda3\\lib\\site-packages\\sklearn\\metrics\\classification.py:1437: UndefinedMetricWarning: F-score is ill-defined and being set to 0.0 in labels with no predicted samples.\n",
      "  'precision', 'predicted', average, warn_for)\n"
     ]
    },
    {
     "name": "stdout",
     "output_type": "stream",
     "text": [
      "0.26331762984040313\n"
     ]
    }
   ],
   "source": [
    "print(f1_score(Y_train_end, Y_train_pred_end, average='macro'))"
   ]
  },
  {
   "cell_type": "code",
   "execution_count": 488,
   "metadata": {},
   "outputs": [
    {
     "name": "stdout",
     "output_type": "stream",
     "text": [
      "0.26331762984040313\n",
      "0.31228337013908186\n"
     ]
    }
   ],
   "source": [
    "print(f1_score(Y_train_end, Y_train_pred_end, average='macro'))\n",
    "print(accuracy_score(Y_train_end, Y_train_pred_end))"
   ]
  },
  {
   "cell_type": "code",
   "execution_count": 489,
   "metadata": {},
   "outputs": [],
   "source": [
    "Y_pred_tb_dt_end = clf_dt.predict(X_test_tb_done_end)"
   ]
  },
  {
   "cell_type": "code",
   "execution_count": 490,
   "metadata": {},
   "outputs": [
    {
     "name": "stderr",
     "output_type": "stream",
     "text": [
      "C:\\Users\\Bastien\\Anaconda3\\lib\\site-packages\\sklearn\\metrics\\classification.py:1437: UndefinedMetricWarning: F-score is ill-defined and being set to 0.0 in labels with no predicted samples.\n",
      "  'precision', 'predicted', average, warn_for)\n"
     ]
    },
    {
     "name": "stdout",
     "output_type": "stream",
     "text": [
      "0.26419547267965354\n",
      "0.31341170047600364\n"
     ]
    },
    {
     "name": "stderr",
     "output_type": "stream",
     "text": [
      "C:\\Users\\Bastien\\Anaconda3\\lib\\site-packages\\sklearn\\metrics\\classification.py:1437: UndefinedMetricWarning: Precision is ill-defined and being set to 0.0 in labels with no predicted samples.\n",
      "  'precision', 'predicted', average, warn_for)\n"
     ]
    }
   ],
   "source": [
    "print(f1_score(Y_test_end, Y_pred_tb_dt_end, average='macro'))\n",
    "print(accuracy_score(Y_test_end, Y_pred_tb_dt_end))\n",
    "acc_tb = accuracy_score(Y_test_end, Y_pred_tb_dt_end)\n",
    "prec_tb = precision_score(Y_test_end, Y_pred_tb_dt_end, average='macro')\n",
    "rec_tb = recall_score(Y_test_end, Y_pred_tb_dt_end, average='macro')\n",
    "f1_tb = f1_score(Y_test_end, Y_pred_tb_dt_end, average='macro')"
   ]
  },
  {
   "cell_type": "code",
   "execution_count": 491,
   "metadata": {},
   "outputs": [],
   "source": [
    "Y_pred_tb_dt_pd_end = pd.DataFrame(Y_pred_tb_dt_end)"
   ]
  },
  {
   "cell_type": "code",
   "execution_count": 492,
   "metadata": {},
   "outputs": [],
   "source": [
    "X_test_tb_done_pd_end = pd.DataFrame(X_test_tb_done_end)"
   ]
  },
  {
   "cell_type": "code",
   "execution_count": 493,
   "metadata": {
    "scrolled": true
   },
   "outputs": [
    {
     "data": {
      "text/html": [
       "<div>\n",
       "<style scoped>\n",
       "    .dataframe tbody tr th:only-of-type {\n",
       "        vertical-align: middle;\n",
       "    }\n",
       "\n",
       "    .dataframe tbody tr th {\n",
       "        vertical-align: top;\n",
       "    }\n",
       "\n",
       "    .dataframe thead th {\n",
       "        text-align: right;\n",
       "    }\n",
       "</style>\n",
       "<table border=\"1\" class=\"dataframe\">\n",
       "  <thead>\n",
       "    <tr style=\"text-align: right;\">\n",
       "      <th></th>\n",
       "      <th>Note TextBlob</th>\n",
       "      <th>Note étoiles TextBlob</th>\n",
       "      <th>Vraie Note</th>\n",
       "      <th>Note meilleur LR/TFIDF</th>\n",
       "    </tr>\n",
       "  </thead>\n",
       "  <tbody>\n",
       "    <tr>\n",
       "      <th>0</th>\n",
       "      <td>0.156818</td>\n",
       "      <td>2</td>\n",
       "      <td>5</td>\n",
       "      <td>5</td>\n",
       "    </tr>\n",
       "    <tr>\n",
       "      <th>1</th>\n",
       "      <td>0.418056</td>\n",
       "      <td>5</td>\n",
       "      <td>5</td>\n",
       "      <td>5</td>\n",
       "    </tr>\n",
       "    <tr>\n",
       "      <th>2</th>\n",
       "      <td>-0.044167</td>\n",
       "      <td>1</td>\n",
       "      <td>5</td>\n",
       "      <td>5</td>\n",
       "    </tr>\n",
       "    <tr>\n",
       "      <th>3</th>\n",
       "      <td>0.335417</td>\n",
       "      <td>5</td>\n",
       "      <td>5</td>\n",
       "      <td>4</td>\n",
       "    </tr>\n",
       "    <tr>\n",
       "      <th>4</th>\n",
       "      <td>0.061988</td>\n",
       "      <td>2</td>\n",
       "      <td>5</td>\n",
       "      <td>5</td>\n",
       "    </tr>\n",
       "    <tr>\n",
       "      <th>5</th>\n",
       "      <td>0.700000</td>\n",
       "      <td>5</td>\n",
       "      <td>5</td>\n",
       "      <td>5</td>\n",
       "    </tr>\n",
       "    <tr>\n",
       "      <th>6</th>\n",
       "      <td>0.407292</td>\n",
       "      <td>5</td>\n",
       "      <td>5</td>\n",
       "      <td>5</td>\n",
       "    </tr>\n",
       "    <tr>\n",
       "      <th>7</th>\n",
       "      <td>-0.006937</td>\n",
       "      <td>1</td>\n",
       "      <td>5</td>\n",
       "      <td>4</td>\n",
       "    </tr>\n",
       "    <tr>\n",
       "      <th>8</th>\n",
       "      <td>0.342000</td>\n",
       "      <td>5</td>\n",
       "      <td>5</td>\n",
       "      <td>5</td>\n",
       "    </tr>\n",
       "    <tr>\n",
       "      <th>9</th>\n",
       "      <td>0.328500</td>\n",
       "      <td>5</td>\n",
       "      <td>5</td>\n",
       "      <td>5</td>\n",
       "    </tr>\n",
       "    <tr>\n",
       "      <th>10</th>\n",
       "      <td>0.325000</td>\n",
       "      <td>5</td>\n",
       "      <td>5</td>\n",
       "      <td>5</td>\n",
       "    </tr>\n",
       "    <tr>\n",
       "      <th>11</th>\n",
       "      <td>0.474603</td>\n",
       "      <td>5</td>\n",
       "      <td>5</td>\n",
       "      <td>5</td>\n",
       "    </tr>\n",
       "    <tr>\n",
       "      <th>12</th>\n",
       "      <td>0.343750</td>\n",
       "      <td>5</td>\n",
       "      <td>5</td>\n",
       "      <td>5</td>\n",
       "    </tr>\n",
       "    <tr>\n",
       "      <th>13</th>\n",
       "      <td>0.272222</td>\n",
       "      <td>5</td>\n",
       "      <td>5</td>\n",
       "      <td>5</td>\n",
       "    </tr>\n",
       "    <tr>\n",
       "      <th>14</th>\n",
       "      <td>0.157143</td>\n",
       "      <td>2</td>\n",
       "      <td>5</td>\n",
       "      <td>3</td>\n",
       "    </tr>\n",
       "    <tr>\n",
       "      <th>15</th>\n",
       "      <td>0.000000</td>\n",
       "      <td>1</td>\n",
       "      <td>5</td>\n",
       "      <td>5</td>\n",
       "    </tr>\n",
       "    <tr>\n",
       "      <th>16</th>\n",
       "      <td>0.225758</td>\n",
       "      <td>4</td>\n",
       "      <td>5</td>\n",
       "      <td>4</td>\n",
       "    </tr>\n",
       "    <tr>\n",
       "      <th>17</th>\n",
       "      <td>0.392500</td>\n",
       "      <td>5</td>\n",
       "      <td>5</td>\n",
       "      <td>5</td>\n",
       "    </tr>\n",
       "    <tr>\n",
       "      <th>18</th>\n",
       "      <td>0.750000</td>\n",
       "      <td>5</td>\n",
       "      <td>5</td>\n",
       "      <td>5</td>\n",
       "    </tr>\n",
       "    <tr>\n",
       "      <th>19</th>\n",
       "      <td>0.111607</td>\n",
       "      <td>2</td>\n",
       "      <td>5</td>\n",
       "      <td>5</td>\n",
       "    </tr>\n",
       "    <tr>\n",
       "      <th>20</th>\n",
       "      <td>0.525000</td>\n",
       "      <td>5</td>\n",
       "      <td>5</td>\n",
       "      <td>5</td>\n",
       "    </tr>\n",
       "    <tr>\n",
       "      <th>21</th>\n",
       "      <td>0.315079</td>\n",
       "      <td>5</td>\n",
       "      <td>5</td>\n",
       "      <td>5</td>\n",
       "    </tr>\n",
       "    <tr>\n",
       "      <th>22</th>\n",
       "      <td>0.633333</td>\n",
       "      <td>5</td>\n",
       "      <td>5</td>\n",
       "      <td>5</td>\n",
       "    </tr>\n",
       "    <tr>\n",
       "      <th>23</th>\n",
       "      <td>0.190000</td>\n",
       "      <td>2</td>\n",
       "      <td>5</td>\n",
       "      <td>5</td>\n",
       "    </tr>\n",
       "    <tr>\n",
       "      <th>24</th>\n",
       "      <td>0.266119</td>\n",
       "      <td>5</td>\n",
       "      <td>5</td>\n",
       "      <td>4</td>\n",
       "    </tr>\n",
       "    <tr>\n",
       "      <th>25</th>\n",
       "      <td>0.362500</td>\n",
       "      <td>5</td>\n",
       "      <td>5</td>\n",
       "      <td>5</td>\n",
       "    </tr>\n",
       "    <tr>\n",
       "      <th>26</th>\n",
       "      <td>0.211310</td>\n",
       "      <td>4</td>\n",
       "      <td>5</td>\n",
       "      <td>5</td>\n",
       "    </tr>\n",
       "    <tr>\n",
       "      <th>27</th>\n",
       "      <td>0.126667</td>\n",
       "      <td>2</td>\n",
       "      <td>5</td>\n",
       "      <td>5</td>\n",
       "    </tr>\n",
       "    <tr>\n",
       "      <th>28</th>\n",
       "      <td>-0.057143</td>\n",
       "      <td>1</td>\n",
       "      <td>5</td>\n",
       "      <td>3</td>\n",
       "    </tr>\n",
       "    <tr>\n",
       "      <th>29</th>\n",
       "      <td>0.342500</td>\n",
       "      <td>5</td>\n",
       "      <td>5</td>\n",
       "      <td>5</td>\n",
       "    </tr>\n",
       "    <tr>\n",
       "      <th>...</th>\n",
       "      <td>...</td>\n",
       "      <td>...</td>\n",
       "      <td>...</td>\n",
       "      <td>...</td>\n",
       "    </tr>\n",
       "    <tr>\n",
       "      <th>58583</th>\n",
       "      <td>-0.029583</td>\n",
       "      <td>1</td>\n",
       "      <td>1</td>\n",
       "      <td>3</td>\n",
       "    </tr>\n",
       "    <tr>\n",
       "      <th>58584</th>\n",
       "      <td>0.152083</td>\n",
       "      <td>2</td>\n",
       "      <td>1</td>\n",
       "      <td>1</td>\n",
       "    </tr>\n",
       "    <tr>\n",
       "      <th>58585</th>\n",
       "      <td>0.200000</td>\n",
       "      <td>2</td>\n",
       "      <td>1</td>\n",
       "      <td>1</td>\n",
       "    </tr>\n",
       "    <tr>\n",
       "      <th>58586</th>\n",
       "      <td>-0.075000</td>\n",
       "      <td>1</td>\n",
       "      <td>1</td>\n",
       "      <td>5</td>\n",
       "    </tr>\n",
       "    <tr>\n",
       "      <th>58587</th>\n",
       "      <td>0.133333</td>\n",
       "      <td>2</td>\n",
       "      <td>1</td>\n",
       "      <td>1</td>\n",
       "    </tr>\n",
       "    <tr>\n",
       "      <th>58588</th>\n",
       "      <td>-0.045692</td>\n",
       "      <td>1</td>\n",
       "      <td>1</td>\n",
       "      <td>1</td>\n",
       "    </tr>\n",
       "    <tr>\n",
       "      <th>58589</th>\n",
       "      <td>0.263333</td>\n",
       "      <td>5</td>\n",
       "      <td>1</td>\n",
       "      <td>2</td>\n",
       "    </tr>\n",
       "    <tr>\n",
       "      <th>58590</th>\n",
       "      <td>0.062500</td>\n",
       "      <td>2</td>\n",
       "      <td>1</td>\n",
       "      <td>1</td>\n",
       "    </tr>\n",
       "    <tr>\n",
       "      <th>58591</th>\n",
       "      <td>-0.075833</td>\n",
       "      <td>1</td>\n",
       "      <td>1</td>\n",
       "      <td>1</td>\n",
       "    </tr>\n",
       "    <tr>\n",
       "      <th>58592</th>\n",
       "      <td>-0.097143</td>\n",
       "      <td>1</td>\n",
       "      <td>1</td>\n",
       "      <td>1</td>\n",
       "    </tr>\n",
       "    <tr>\n",
       "      <th>58593</th>\n",
       "      <td>0.375000</td>\n",
       "      <td>5</td>\n",
       "      <td>1</td>\n",
       "      <td>1</td>\n",
       "    </tr>\n",
       "    <tr>\n",
       "      <th>58594</th>\n",
       "      <td>0.206374</td>\n",
       "      <td>2</td>\n",
       "      <td>1</td>\n",
       "      <td>5</td>\n",
       "    </tr>\n",
       "    <tr>\n",
       "      <th>58595</th>\n",
       "      <td>0.007222</td>\n",
       "      <td>1</td>\n",
       "      <td>1</td>\n",
       "      <td>1</td>\n",
       "    </tr>\n",
       "    <tr>\n",
       "      <th>58596</th>\n",
       "      <td>0.504762</td>\n",
       "      <td>5</td>\n",
       "      <td>1</td>\n",
       "      <td>3</td>\n",
       "    </tr>\n",
       "    <tr>\n",
       "      <th>58597</th>\n",
       "      <td>0.073214</td>\n",
       "      <td>2</td>\n",
       "      <td>1</td>\n",
       "      <td>1</td>\n",
       "    </tr>\n",
       "    <tr>\n",
       "      <th>58598</th>\n",
       "      <td>0.086732</td>\n",
       "      <td>2</td>\n",
       "      <td>1</td>\n",
       "      <td>1</td>\n",
       "    </tr>\n",
       "    <tr>\n",
       "      <th>58599</th>\n",
       "      <td>0.202778</td>\n",
       "      <td>2</td>\n",
       "      <td>1</td>\n",
       "      <td>1</td>\n",
       "    </tr>\n",
       "    <tr>\n",
       "      <th>58600</th>\n",
       "      <td>0.695238</td>\n",
       "      <td>5</td>\n",
       "      <td>1</td>\n",
       "      <td>5</td>\n",
       "    </tr>\n",
       "    <tr>\n",
       "      <th>58601</th>\n",
       "      <td>0.200000</td>\n",
       "      <td>2</td>\n",
       "      <td>1</td>\n",
       "      <td>1</td>\n",
       "    </tr>\n",
       "    <tr>\n",
       "      <th>58602</th>\n",
       "      <td>-0.120000</td>\n",
       "      <td>1</td>\n",
       "      <td>1</td>\n",
       "      <td>3</td>\n",
       "    </tr>\n",
       "    <tr>\n",
       "      <th>58603</th>\n",
       "      <td>0.000000</td>\n",
       "      <td>1</td>\n",
       "      <td>1</td>\n",
       "      <td>1</td>\n",
       "    </tr>\n",
       "    <tr>\n",
       "      <th>58604</th>\n",
       "      <td>-0.221429</td>\n",
       "      <td>1</td>\n",
       "      <td>1</td>\n",
       "      <td>1</td>\n",
       "    </tr>\n",
       "    <tr>\n",
       "      <th>58605</th>\n",
       "      <td>0.000000</td>\n",
       "      <td>1</td>\n",
       "      <td>1</td>\n",
       "      <td>1</td>\n",
       "    </tr>\n",
       "    <tr>\n",
       "      <th>58606</th>\n",
       "      <td>-0.195000</td>\n",
       "      <td>1</td>\n",
       "      <td>1</td>\n",
       "      <td>1</td>\n",
       "    </tr>\n",
       "    <tr>\n",
       "      <th>58607</th>\n",
       "      <td>-0.216667</td>\n",
       "      <td>1</td>\n",
       "      <td>1</td>\n",
       "      <td>1</td>\n",
       "    </tr>\n",
       "    <tr>\n",
       "      <th>58608</th>\n",
       "      <td>0.021711</td>\n",
       "      <td>1</td>\n",
       "      <td>1</td>\n",
       "      <td>1</td>\n",
       "    </tr>\n",
       "    <tr>\n",
       "      <th>58609</th>\n",
       "      <td>-0.125000</td>\n",
       "      <td>1</td>\n",
       "      <td>1</td>\n",
       "      <td>1</td>\n",
       "    </tr>\n",
       "    <tr>\n",
       "      <th>58610</th>\n",
       "      <td>-0.199702</td>\n",
       "      <td>1</td>\n",
       "      <td>1</td>\n",
       "      <td>1</td>\n",
       "    </tr>\n",
       "    <tr>\n",
       "      <th>58611</th>\n",
       "      <td>-0.156250</td>\n",
       "      <td>1</td>\n",
       "      <td>1</td>\n",
       "      <td>3</td>\n",
       "    </tr>\n",
       "    <tr>\n",
       "      <th>58612</th>\n",
       "      <td>0.030291</td>\n",
       "      <td>1</td>\n",
       "      <td>1</td>\n",
       "      <td>2</td>\n",
       "    </tr>\n",
       "  </tbody>\n",
       "</table>\n",
       "<p>58613 rows × 4 columns</p>\n",
       "</div>"
      ],
      "text/plain": [
       "       Note TextBlob  Note étoiles TextBlob  Vraie Note  \\\n",
       "0           0.156818                      2           5   \n",
       "1           0.418056                      5           5   \n",
       "2          -0.044167                      1           5   \n",
       "3           0.335417                      5           5   \n",
       "4           0.061988                      2           5   \n",
       "5           0.700000                      5           5   \n",
       "6           0.407292                      5           5   \n",
       "7          -0.006937                      1           5   \n",
       "8           0.342000                      5           5   \n",
       "9           0.328500                      5           5   \n",
       "10          0.325000                      5           5   \n",
       "11          0.474603                      5           5   \n",
       "12          0.343750                      5           5   \n",
       "13          0.272222                      5           5   \n",
       "14          0.157143                      2           5   \n",
       "15          0.000000                      1           5   \n",
       "16          0.225758                      4           5   \n",
       "17          0.392500                      5           5   \n",
       "18          0.750000                      5           5   \n",
       "19          0.111607                      2           5   \n",
       "20          0.525000                      5           5   \n",
       "21          0.315079                      5           5   \n",
       "22          0.633333                      5           5   \n",
       "23          0.190000                      2           5   \n",
       "24          0.266119                      5           5   \n",
       "25          0.362500                      5           5   \n",
       "26          0.211310                      4           5   \n",
       "27          0.126667                      2           5   \n",
       "28         -0.057143                      1           5   \n",
       "29          0.342500                      5           5   \n",
       "...              ...                    ...         ...   \n",
       "58583      -0.029583                      1           1   \n",
       "58584       0.152083                      2           1   \n",
       "58585       0.200000                      2           1   \n",
       "58586      -0.075000                      1           1   \n",
       "58587       0.133333                      2           1   \n",
       "58588      -0.045692                      1           1   \n",
       "58589       0.263333                      5           1   \n",
       "58590       0.062500                      2           1   \n",
       "58591      -0.075833                      1           1   \n",
       "58592      -0.097143                      1           1   \n",
       "58593       0.375000                      5           1   \n",
       "58594       0.206374                      2           1   \n",
       "58595       0.007222                      1           1   \n",
       "58596       0.504762                      5           1   \n",
       "58597       0.073214                      2           1   \n",
       "58598       0.086732                      2           1   \n",
       "58599       0.202778                      2           1   \n",
       "58600       0.695238                      5           1   \n",
       "58601       0.200000                      2           1   \n",
       "58602      -0.120000                      1           1   \n",
       "58603       0.000000                      1           1   \n",
       "58604      -0.221429                      1           1   \n",
       "58605       0.000000                      1           1   \n",
       "58606      -0.195000                      1           1   \n",
       "58607      -0.216667                      1           1   \n",
       "58608       0.021711                      1           1   \n",
       "58609      -0.125000                      1           1   \n",
       "58610      -0.199702                      1           1   \n",
       "58611      -0.156250                      1           1   \n",
       "58612       0.030291                      1           1   \n",
       "\n",
       "       Note meilleur LR/TFIDF  \n",
       "0                           5  \n",
       "1                           5  \n",
       "2                           5  \n",
       "3                           4  \n",
       "4                           5  \n",
       "5                           5  \n",
       "6                           5  \n",
       "7                           4  \n",
       "8                           5  \n",
       "9                           5  \n",
       "10                          5  \n",
       "11                          5  \n",
       "12                          5  \n",
       "13                          5  \n",
       "14                          3  \n",
       "15                          5  \n",
       "16                          4  \n",
       "17                          5  \n",
       "18                          5  \n",
       "19                          5  \n",
       "20                          5  \n",
       "21                          5  \n",
       "22                          5  \n",
       "23                          5  \n",
       "24                          4  \n",
       "25                          5  \n",
       "26                          5  \n",
       "27                          5  \n",
       "28                          3  \n",
       "29                          5  \n",
       "...                       ...  \n",
       "58583                       3  \n",
       "58584                       1  \n",
       "58585                       1  \n",
       "58586                       5  \n",
       "58587                       1  \n",
       "58588                       1  \n",
       "58589                       2  \n",
       "58590                       1  \n",
       "58591                       1  \n",
       "58592                       1  \n",
       "58593                       1  \n",
       "58594                       5  \n",
       "58595                       1  \n",
       "58596                       3  \n",
       "58597                       1  \n",
       "58598                       1  \n",
       "58599                       1  \n",
       "58600                       5  \n",
       "58601                       1  \n",
       "58602                       3  \n",
       "58603                       1  \n",
       "58604                       1  \n",
       "58605                       1  \n",
       "58606                       1  \n",
       "58607                       1  \n",
       "58608                       1  \n",
       "58609                       1  \n",
       "58610                       1  \n",
       "58611                       3  \n",
       "58612                       2  \n",
       "\n",
       "[58613 rows x 4 columns]"
      ]
     },
     "execution_count": 493,
     "metadata": {},
     "output_type": "execute_result"
    }
   ],
   "source": [
    "Y_TextBlob = pd.concat([X_test_tb_done_pd_end,Y_pred_tb_dt_pd_end,Y_test_end,pd.DataFrame(LR_end_full[1])],axis = 1)\n",
    "Y_TextBlob.columns = ['Note TextBlob','Note étoiles TextBlob','Vraie Note','Note meilleur LR/TFIDF']\n",
    "Y_TextBlob"
   ]
  },
  {
   "cell_type": "code",
   "execution_count": 494,
   "metadata": {},
   "outputs": [
    {
     "data": {
      "image/png": "[encoded data removed]",
      "text/plain": [
       "<Figure size 720x432 with 1 Axes>"
      ]
     },
     "metadata": {
      "needs_background": "light"
     },
     "output_type": "display_data"
    }
   ],
   "source": [
    "plt.figure(figsize=(10,6))\n",
    "sn.boxplot(x ='Note étoiles TextBlob' , y ='Note TextBlob', data = Y_TextBlob , color=\"skyblue\")\n",
    "plt.show();"
   ]
  },
  {
   "cell_type": "code",
   "execution_count": 446,
   "metadata": {},
   "outputs": [
    {
     "data": {
      "text/plain": [
       "58613"
      ]
     },
     "execution_count": 446,
     "metadata": {},
     "output_type": "execute_result"
    }
   ],
   "source": [
    "len(Y_pred_tb_dt_pd_end)"
   ]
  },
  {
   "cell_type": "code",
   "execution_count": 447,
   "metadata": {},
   "outputs": [
    {
     "data": {
      "text/plain": [
       "37338    1\n",
       "51576    1\n",
       "53177    1\n",
       "57310    1\n",
       "Name: Note étoiles TextBlob, dtype: int64"
      ]
     },
     "execution_count": 447,
     "metadata": {},
     "output_type": "execute_result"
    }
   ],
   "source": [
    "Y_TextBlob['Note TextBlob'].min()\n",
    "Y_TextBlob['Note étoiles TextBlob'][Y_TextBlob.index[Y_TextBlob['Note TextBlob'] == Y_TextBlob['Note TextBlob'].min()].tolist()]"
   ]
  },
  {
   "cell_type": "markdown",
   "metadata": {},
   "source": [
    "### 7.3.5. Visualisation de l'arbre de décision"
   ]
  },
  {
   "cell_type": "code",
   "execution_count": 469,
   "metadata": {},
   "outputs": [
    {
     "ename": "NotFittedError",
     "evalue": "This OneVsRestClassifier instance is not fitted yet. Call 'fit' with appropriate arguments before using this method.",
     "output_type": "error",
     "traceback": [
      "\u001b[1;31m---------------------------------------------------------------------------\u001b[0m",
      "\u001b[1;31mNotFittedError\u001b[0m                            Traceback (most recent call last)",
      "\u001b[1;32m<ipython-input-469-82714c57795b>\u001b[0m in \u001b[0;36m<module>\u001b[1;34m\u001b[0m\n\u001b[0;32m      3\u001b[0m \u001b[1;32mimport\u001b[0m \u001b[0mpydotplus\u001b[0m\u001b[1;33m\u001b[0m\u001b[1;33m\u001b[0m\u001b[0m\n\u001b[0;32m      4\u001b[0m \u001b[1;33m\u001b[0m\u001b[0m\n\u001b[1;32m----> 5\u001b[1;33m \u001b[0mdot_data\u001b[0m \u001b[1;33m=\u001b[0m \u001b[0mexport_graphviz\u001b[0m\u001b[1;33m(\u001b[0m\u001b[0mclf_dt\u001b[0m\u001b[1;33m,\u001b[0m \u001b[0mout_file\u001b[0m\u001b[1;33m=\u001b[0m\u001b[1;32mNone\u001b[0m\u001b[1;33m,\u001b[0m \u001b[0mfilled\u001b[0m\u001b[1;33m=\u001b[0m\u001b[1;32mTrue\u001b[0m\u001b[1;33m,\u001b[0m \u001b[0mrounded\u001b[0m\u001b[1;33m=\u001b[0m\u001b[1;32mTrue\u001b[0m\u001b[1;33m,\u001b[0m \u001b[0mspecial_characters\u001b[0m\u001b[1;33m=\u001b[0m\u001b[1;32mTrue\u001b[0m\u001b[1;33m)\u001b[0m\u001b[1;33m\u001b[0m\u001b[1;33m\u001b[0m\u001b[0m\n\u001b[0m\u001b[0;32m      6\u001b[0m \u001b[0mgraph\u001b[0m \u001b[1;33m=\u001b[0m \u001b[0mpydotplus\u001b[0m\u001b[1;33m.\u001b[0m\u001b[0mgraph_from_dot_data\u001b[0m\u001b[1;33m(\u001b[0m\u001b[0mdot_data\u001b[0m\u001b[1;33m)\u001b[0m\u001b[1;33m\u001b[0m\u001b[1;33m\u001b[0m\u001b[0m\n\u001b[0;32m      7\u001b[0m \u001b[0mImage\u001b[0m\u001b[1;33m(\u001b[0m\u001b[0mgraph\u001b[0m\u001b[1;33m.\u001b[0m\u001b[0mcreate_png\u001b[0m\u001b[1;33m(\u001b[0m\u001b[1;33m)\u001b[0m\u001b[1;33m)\u001b[0m\u001b[1;33m\u001b[0m\u001b[1;33m\u001b[0m\u001b[0m\n",
      "\u001b[1;32m~\\Anaconda3\\lib\\site-packages\\sklearn\\tree\\export.py\u001b[0m in \u001b[0;36mexport_graphviz\u001b[1;34m(decision_tree, out_file, max_depth, feature_names, class_names, label, filled, leaves_parallel, impurity, node_ids, proportion, rotate, rounded, special_characters, precision)\u001b[0m\n\u001b[0;32m    754\u001b[0m     \"\"\"\n\u001b[0;32m    755\u001b[0m \u001b[1;33m\u001b[0m\u001b[0m\n\u001b[1;32m--> 756\u001b[1;33m     \u001b[0mcheck_is_fitted\u001b[0m\u001b[1;33m(\u001b[0m\u001b[0mdecision_tree\u001b[0m\u001b[1;33m,\u001b[0m \u001b[1;34m'tree_'\u001b[0m\u001b[1;33m)\u001b[0m\u001b[1;33m\u001b[0m\u001b[1;33m\u001b[0m\u001b[0m\n\u001b[0m\u001b[0;32m    757\u001b[0m     \u001b[0mown_file\u001b[0m \u001b[1;33m=\u001b[0m \u001b[1;32mFalse\u001b[0m\u001b[1;33m\u001b[0m\u001b[1;33m\u001b[0m\u001b[0m\n\u001b[0;32m    758\u001b[0m     \u001b[0mreturn_string\u001b[0m \u001b[1;33m=\u001b[0m \u001b[1;32mFalse\u001b[0m\u001b[1;33m\u001b[0m\u001b[1;33m\u001b[0m\u001b[0m\n",
      "\u001b[1;32m~\\Anaconda3\\lib\\site-packages\\sklearn\\utils\\validation.py\u001b[0m in \u001b[0;36mcheck_is_fitted\u001b[1;34m(estimator, attributes, msg, all_or_any)\u001b[0m\n\u001b[0;32m    912\u001b[0m \u001b[1;33m\u001b[0m\u001b[0m\n\u001b[0;32m    913\u001b[0m     \u001b[1;32mif\u001b[0m \u001b[1;32mnot\u001b[0m \u001b[0mall_or_any\u001b[0m\u001b[1;33m(\u001b[0m\u001b[1;33m[\u001b[0m\u001b[0mhasattr\u001b[0m\u001b[1;33m(\u001b[0m\u001b[0mestimator\u001b[0m\u001b[1;33m,\u001b[0m \u001b[0mattr\u001b[0m\u001b[1;33m)\u001b[0m \u001b[1;32mfor\u001b[0m \u001b[0mattr\u001b[0m \u001b[1;32min\u001b[0m \u001b[0mattributes\u001b[0m\u001b[1;33m]\u001b[0m\u001b[1;33m)\u001b[0m\u001b[1;33m:\u001b[0m\u001b[1;33m\u001b[0m\u001b[1;33m\u001b[0m\u001b[0m\n\u001b[1;32m--> 914\u001b[1;33m         \u001b[1;32mraise\u001b[0m \u001b[0mNotFittedError\u001b[0m\u001b[1;33m(\u001b[0m\u001b[0mmsg\u001b[0m \u001b[1;33m%\u001b[0m \u001b[1;33m{\u001b[0m\u001b[1;34m'name'\u001b[0m\u001b[1;33m:\u001b[0m \u001b[0mtype\u001b[0m\u001b[1;33m(\u001b[0m\u001b[0mestimator\u001b[0m\u001b[1;33m)\u001b[0m\u001b[1;33m.\u001b[0m\u001b[0m__name__\u001b[0m\u001b[1;33m}\u001b[0m\u001b[1;33m)\u001b[0m\u001b[1;33m\u001b[0m\u001b[1;33m\u001b[0m\u001b[0m\n\u001b[0m\u001b[0;32m    915\u001b[0m \u001b[1;33m\u001b[0m\u001b[0m\n\u001b[0;32m    916\u001b[0m \u001b[1;33m\u001b[0m\u001b[0m\n",
      "\u001b[1;31mNotFittedError\u001b[0m: This OneVsRestClassifier instance is not fitted yet. Call 'fit' with appropriate arguments before using this method."
     ]
    }
   ],
   "source": [
    "from IPython.display import Image  \n",
    "from sklearn.tree import export_graphviz\n",
    "import pydotplus\n",
    "\n",
    "dot_data = export_graphviz(clf_dt, out_file=None, filled=True, rounded=True, special_characters=True)\n",
    "graph = pydotplus.graph_from_dot_data(dot_data)  \n",
    "Image(graph.create_png())"
   ]
  },
  {
   "cell_type": "markdown",
   "metadata": {},
   "source": [
    "### 7.3.6. Tableau récapitulatif TextBlob - meilleure configuration de Machine Learning"
   ]
  },
  {
   "cell_type": "code",
   "execution_count": 448,
   "metadata": {},
   "outputs": [
    {
     "name": "stderr",
     "output_type": "stream",
     "text": [
      "C:\\Users\\Bastien\\Anaconda3\\lib\\site-packages\\ipykernel_launcher.py:3: FutureWarning: Sorting because non-concatenation axis is not aligned. A future version\n",
      "of pandas will change to not sort by default.\n",
      "\n",
      "To accept the future behavior, pass 'sort=False'.\n",
      "\n",
      "To retain the current behavior and silence the warning, pass 'sort=True'.\n",
      "\n",
      "  This is separate from the ipykernel package so we can avoid doing imports until\n"
     ]
    }
   ],
   "source": [
    "TextBlob = [['Unsupervised TextBlob', acc_tb,prec_tb,rec_tb,f1_tb]]\n",
    "TextBlob = pd.DataFrame(TextBlob, columns = [\"Modèle\", \"Accuracy\",\"Precision\",'Recall',\"F1-score\"]) \n",
    "table_comp = pd.concat([TextBlob,LR_end_full[0]],axis=0,ignore_index=True)\n",
    "columnsTitles = [\"Modèle\", \"Accuracy\",\"Precision\",'Recall',\"F1-score\"]\n",
    "table_comp = table_comp.reindex(columns = columnsTitles)"
   ]
  },
  {
   "cell_type": "code",
   "execution_count": 449,
   "metadata": {},
   "outputs": [
    {
     "data": {
      "text/html": [
       "<div>\n",
       "<style scoped>\n",
       "    .dataframe tbody tr th:only-of-type {\n",
       "        vertical-align: middle;\n",
       "    }\n",
       "\n",
       "    .dataframe tbody tr th {\n",
       "        vertical-align: top;\n",
       "    }\n",
       "\n",
       "    .dataframe thead th {\n",
       "        text-align: right;\n",
       "    }\n",
       "</style>\n",
       "<table border=\"1\" class=\"dataframe\">\n",
       "  <thead>\n",
       "    <tr style=\"text-align: right;\">\n",
       "      <th></th>\n",
       "      <th>Modèle</th>\n",
       "      <th>Accuracy</th>\n",
       "      <th>Precision</th>\n",
       "      <th>Recall</th>\n",
       "      <th>F1-score</th>\n",
       "    </tr>\n",
       "  </thead>\n",
       "  <tbody>\n",
       "    <tr>\n",
       "      <th>0</th>\n",
       "      <td>Unsupervised TextBlob</td>\n",
       "      <td>0.313412</td>\n",
       "      <td>0.249442</td>\n",
       "      <td>0.313504</td>\n",
       "      <td>0.264195</td>\n",
       "    </tr>\n",
       "    <tr>\n",
       "      <th>1</th>\n",
       "      <td>Logistic Regression</td>\n",
       "      <td>0.498115</td>\n",
       "      <td>0.486246</td>\n",
       "      <td>0.497994</td>\n",
       "      <td>0.489030</td>\n",
       "    </tr>\n",
       "  </tbody>\n",
       "</table>\n",
       "</div>"
      ],
      "text/plain": [
       "                  Modèle  Accuracy  Precision    Recall  F1-score\n",
       "0  Unsupervised TextBlob  0.313412   0.249442  0.313504  0.264195\n",
       "1    Logistic Regression  0.498115   0.486246  0.497994  0.489030"
      ]
     },
     "execution_count": 449,
     "metadata": {},
     "output_type": "execute_result"
    }
   ],
   "source": [
    "table_comp"
   ]
  },
  {
   "cell_type": "markdown",
   "metadata": {},
   "source": [
    "# 8. Conclusion de cette partie"
   ]
  },
  {
   "cell_type": "raw",
   "metadata": {},
   "source": [
    "A compléter / limites ML et pas vers DL + penser à l'attention, prévision mot après et avant cf. Bert UMLo..."
   ]
  }
 ],
 "metadata": {
  "kernelspec": {
   "display_name": "Python 3",
   "language": "python",
   "name": "python3"
  },
  "language_info": {
   "codemirror_mode": {
    "name": "ipython",
    "version": 3
   },
   "file_extension": ".py",
   "mimetype": "text/x-python",
   "name": "python",
   "nbconvert_exporter": "python",
   "pygments_lexer": "ipython3",
   "version": "3.7.3"
  }
 },
 "nbformat": 4,
 "nbformat_minor": 2
}
