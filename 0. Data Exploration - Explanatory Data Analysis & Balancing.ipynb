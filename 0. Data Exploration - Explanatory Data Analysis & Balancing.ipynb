{
 "cells": [
  {
   "cell_type": "code",
   "execution_count": 2,
   "metadata": {},
   "outputs": [],
   "source": [
    "import os\n",
    "\n",
    "import matplotlib.pyplot as plt\n",
    "import json\n",
    "import numpy as np\n",
    "import pandas as pd\n",
    "import seaborn as sns\n",
    "from wordcloud import WordCloud\n",
    "\n",
    "import nltk\n",
    "from nltk.corpus import stopwords\n",
    "from nltk import word_tokenize\n",
    "from tqdm._tqdm_notebook import tqdm_notebook as tqdm\n",
    "tqdm.pandas()\n",
    "\n",
    "import warnings\n",
    "warnings.filterwarnings(\"ignore\")"
   ]
  },
  {
   "cell_type": "code",
   "execution_count": 3,
   "metadata": {},
   "outputs": [],
   "source": [
    "%%capture\n",
    "from tqdm import tqdm_notebook as tqdm\n",
    "tqdm().pandas()"
   ]
  },
  {
   "cell_type": "markdown",
   "metadata": {},
   "source": [
    "# 1. Importation des données et construction d'une seule base"
   ]
  },
  {
   "cell_type": "code",
   "execution_count": 4,
   "metadata": {},
   "outputs": [],
   "source": [
    "auto = pd.read_json(r'C:\\Users\\Bastien\\Desktop\\Data - Rapport\\0. Base de données\\data_amazon_json\\Automotive_5.json',lines=True)\n",
    "cell = pd.read_json(r'C:\\Users\\Bastien\\Desktop\\Data - Rapport\\0. Base de données\\data_amazon_json\\Cell_Phones_and_Accessories_5.json',lines=True)\n",
    "clothes = pd.read_json(r'C:\\Users\\Bastien\\Desktop\\Data - Rapport\\0. Base de données\\data_amazon_json\\Clothing_Shoes_and_Jewelry_5.json',lines=True)\n",
    "sports = pd.read_json(r'C:\\Users\\Bastien\\Desktop\\Data - Rapport\\0. Base de données\\data_amazon_json\\Sports_and_Outdoors_5.json',lines=True)\n",
    "tools = pd.read_json(r'C:\\Users\\Bastien\\Desktop\\Data - Rapport\\0. Base de données\\data_amazon_json\\Tools_and_Home_Improvement_5.json',lines=True)"
   ]
  },
  {
   "cell_type": "code",
   "execution_count": 5,
   "metadata": {},
   "outputs": [],
   "source": [
    "auto = auto.loc[:,['overall', 'reviewText']]\n",
    "cell = cell.loc[:,['overall', 'reviewText']]\n",
    "clothes = clothes.loc[:,['overall', 'reviewText']]\n",
    "sports = sports.loc[:,['overall', 'reviewText']]\n",
    "tools = tools.loc[:,['overall', 'reviewText']]"
   ]
  },
  {
   "cell_type": "code",
   "execution_count": 6,
   "metadata": {},
   "outputs": [],
   "source": [
    "auto['Category'] = 'Automotive'\n",
    "cell['Category'] = 'Cell Phones and Accessories'\n",
    "clothes['Category'] = 'Clothing SHoes and Jewelry'\n",
    "sports['Category'] = 'Sports and Outdoor'\n",
    "tools['Category'] = 'Tools and Home Improvements'"
   ]
  },
  {
   "cell_type": "code",
   "execution_count": 7,
   "metadata": {},
   "outputs": [],
   "source": [
    "reviews = pd.concat([auto,cell,clothes,sports,tools],axis=0)"
   ]
  },
  {
   "cell_type": "code",
   "execution_count": 8,
   "metadata": {},
   "outputs": [],
   "source": [
    "reviews.reset_index(drop = True, inplace = True)"
   ]
  },
  {
   "cell_type": "code",
   "execution_count": 9,
   "metadata": {},
   "outputs": [],
   "source": [
    "reviews['Positivité'] = reviews['overall']"
   ]
  },
  {
   "cell_type": "code",
   "execution_count": 10,
   "metadata": {},
   "outputs": [],
   "source": [
    "del reviews['overall']"
   ]
  },
  {
   "cell_type": "markdown",
   "metadata": {},
   "source": [
    "# 2. Explanatory Data Analysis"
   ]
  },
  {
   "cell_type": "markdown",
   "metadata": {},
   "source": [
    "## 2.1. General information"
   ]
  },
  {
   "cell_type": "code",
   "execution_count": 11,
   "metadata": {},
   "outputs": [
    {
     "name": "stdout",
     "output_type": "stream",
     "text": [
      "<class 'pandas.core.frame.DataFrame'>\n",
      "RangeIndex: 924402 entries, 0 to 924401\n",
      "Data columns (total 3 columns):\n",
      "reviewText    924402 non-null object\n",
      "Category      924402 non-null object\n",
      "Positivité    924402 non-null int64\n",
      "dtypes: int64(1), object(2)\n",
      "memory usage: 21.2+ MB\n"
     ]
    }
   ],
   "source": [
    "reviews.info()"
   ]
  },
  {
   "cell_type": "markdown",
   "metadata": {},
   "source": [
    "## 2.2. Distribution of positivity"
   ]
  },
  {
   "cell_type": "code",
   "execution_count": 17,
   "metadata": {},
   "outputs": [
    {
     "data": {
      "image/png": "[encoded data removed]",
      "text/plain": [
       "<Figure size 720x504 with 1 Axes>"
      ]
     },
     "metadata": {
      "needs_background": "light"
     },
     "output_type": "display_data"
    }
   ],
   "source": [
    "ax, fig = plt.subplots(figsize=(10, 7))\n",
    "classes = reviews['Positivité'].value_counts()\n",
    "classes.plot(kind= 'bar', color= [\"blue\", \"blue\",'blue','blue','blue'])\n",
    "plt.title('Bar chart')\n",
    "plt.show()"
   ]
  },
  {
   "cell_type": "code",
   "execution_count": 13,
   "metadata": {},
   "outputs": [
    {
     "data": {
      "text/plain": [
       "5    559306\n",
       "4    195462\n",
       "3     88134\n",
       "2     42299\n",
       "1     39201\n",
       "Name: Positivité, dtype: int64"
      ]
     },
     "execution_count": 13,
     "metadata": {},
     "output_type": "execute_result"
    }
   ],
   "source": [
    "reviews['Positivité'].value_counts()"
   ]
  },
  {
   "cell_type": "code",
   "execution_count": 14,
   "metadata": {},
   "outputs": [
    {
     "data": {
      "text/html": [
       "<div>\n",
       "<style scoped>\n",
       "    .dataframe tbody tr th:only-of-type {\n",
       "        vertical-align: middle;\n",
       "    }\n",
       "\n",
       "    .dataframe tbody tr th {\n",
       "        vertical-align: top;\n",
       "    }\n",
       "\n",
       "    .dataframe thead th {\n",
       "        text-align: right;\n",
       "    }\n",
       "</style>\n",
       "<table border=\"1\" class=\"dataframe\">\n",
       "  <thead>\n",
       "    <tr style=\"text-align: right;\">\n",
       "      <th></th>\n",
       "      <th>Type</th>\n",
       "      <th>5 Rated Reviews</th>\n",
       "      <th>4 Rated Reviews</th>\n",
       "      <th>3 Rated Reviews</th>\n",
       "      <th>2 Rated Reviews</th>\n",
       "      <th>1 Rated Reviews</th>\n",
       "    </tr>\n",
       "  </thead>\n",
       "  <tbody>\n",
       "    <tr>\n",
       "      <th>0</th>\n",
       "      <td>Sum</td>\n",
       "      <td>559306.000000</td>\n",
       "      <td>195462.000000</td>\n",
       "      <td>88134.000000</td>\n",
       "      <td>42299.000000</td>\n",
       "      <td>39201.000000</td>\n",
       "    </tr>\n",
       "    <tr>\n",
       "      <th>1</th>\n",
       "      <td>Percent</td>\n",
       "      <td>60.504629</td>\n",
       "      <td>21.144697</td>\n",
       "      <td>9.534164</td>\n",
       "      <td>4.575823</td>\n",
       "      <td>4.240687</td>\n",
       "    </tr>\n",
       "  </tbody>\n",
       "</table>\n",
       "</div>"
      ],
      "text/plain": [
       "      Type  5 Rated Reviews  4 Rated Reviews  3 Rated Reviews  \\\n",
       "0      Sum    559306.000000    195462.000000     88134.000000   \n",
       "1  Percent        60.504629        21.144697         9.534164   \n",
       "\n",
       "   2 Rated Reviews  1 Rated Reviews  \n",
       "0     42299.000000     39201.000000  \n",
       "1         4.575823         4.240687  "
      ]
     },
     "execution_count": 14,
     "metadata": {},
     "output_type": "execute_result"
    }
   ],
   "source": [
    "somme_5 = sum(reviews['Positivité'] == 5)\n",
    "somme_4 = sum(reviews['Positivité'] == 4)\n",
    "somme_3 = sum(reviews['Positivité'] == 3)\n",
    "somme_2 = sum(reviews['Positivité'] == 2)\n",
    "somme_1 = sum(reviews['Positivité'] == 1)\n",
    "\n",
    "percent_5 = (sum(reviews['Positivité'] == 5) / len(reviews['Positivité'])) * 100\n",
    "percent_4 = (sum(reviews['Positivité'] == 4) / len(reviews['Positivité'])) * 100\n",
    "percent_3 = (sum(reviews['Positivité'] == 3) / len(reviews['Positivité'])) * 100\n",
    "percent_2 = (sum(reviews['Positivité'] == 2) / len(reviews['Positivité'])) * 100\n",
    "percent_1 = (sum(reviews['Positivité'] == 1) / len(reviews['Positivité'])) * 100\n",
    "\n",
    "\n",
    "table = [[\"Sum\",somme_5,somme_4,somme_3,somme_2,somme_1],\n",
    "         [\"Percent\",percent_5,percent_4,percent_3,percent_2,percent_1]]\n",
    "table = pd.DataFrame(table, columns = [\"Type\",\"5 Rated Reviews\",\"4 Rated Reviews\",\"3 Rated Reviews\",\"2 Rated Reviews\",\"1 Rated Reviews\"]) \n",
    "table"
   ]
  },
  {
   "cell_type": "markdown",
   "metadata": {},
   "source": [
    "## 2.2. Distribution of category"
   ]
  },
  {
   "cell_type": "code",
   "execution_count": 16,
   "metadata": {},
   "outputs": [
    {
     "data": {
      "image/png": "[encoded data removed]",
      "text/plain": [
       "<Figure size 720x504 with 1 Axes>"
      ]
     },
     "metadata": {
      "needs_background": "light"
     },
     "output_type": "display_data"
    }
   ],
   "source": [
    "ax, fig = plt.subplots(figsize=(10, 7))\n",
    "classes = reviews['Category'].value_counts()\n",
    "classes.plot(kind= 'bar', color= [\"blue\", \"blue\",'blue','blue','blue'])\n",
    "plt.title('Bar chart')\n",
    "plt.show()"
   ]
  },
  {
   "cell_type": "code",
   "execution_count": 18,
   "metadata": {},
   "outputs": [
    {
     "data": {
      "text/html": [
       "<div>\n",
       "<style scoped>\n",
       "    .dataframe tbody tr th:only-of-type {\n",
       "        vertical-align: middle;\n",
       "    }\n",
       "\n",
       "    .dataframe tbody tr th {\n",
       "        vertical-align: top;\n",
       "    }\n",
       "\n",
       "    .dataframe thead th {\n",
       "        text-align: right;\n",
       "    }\n",
       "</style>\n",
       "<table border=\"1\" class=\"dataframe\">\n",
       "  <thead>\n",
       "    <tr style=\"text-align: right;\">\n",
       "      <th></th>\n",
       "      <th>Type</th>\n",
       "      <th>Automotive</th>\n",
       "      <th>Cell Phones and Accessories</th>\n",
       "      <th>Clothing SHoes and Jewelry</th>\n",
       "      <th>Sports and Outdoor</th>\n",
       "      <th>Tools and Home Improvements</th>\n",
       "    </tr>\n",
       "  </thead>\n",
       "  <tbody>\n",
       "    <tr>\n",
       "      <th>0</th>\n",
       "      <td>Sum</td>\n",
       "      <td>20473.000000</td>\n",
       "      <td>194439.000000</td>\n",
       "      <td>278677.000000</td>\n",
       "      <td>296337.000000</td>\n",
       "      <td>134476.000000</td>\n",
       "    </tr>\n",
       "    <tr>\n",
       "      <th>1</th>\n",
       "      <td>Percent</td>\n",
       "      <td>2.214729</td>\n",
       "      <td>21.034031</td>\n",
       "      <td>30.146733</td>\n",
       "      <td>32.057157</td>\n",
       "      <td>14.547351</td>\n",
       "    </tr>\n",
       "  </tbody>\n",
       "</table>\n",
       "</div>"
      ],
      "text/plain": [
       "      Type    Automotive  Cell Phones and Accessories  \\\n",
       "0      Sum  20473.000000                194439.000000   \n",
       "1  Percent      2.214729                    21.034031   \n",
       "\n",
       "   Clothing SHoes and Jewelry  Sports and Outdoor  Tools and Home Improvements  \n",
       "0               278677.000000       296337.000000                134476.000000  \n",
       "1                   30.146733           32.057157                    14.547351  "
      ]
     },
     "execution_count": 18,
     "metadata": {},
     "output_type": "execute_result"
    }
   ],
   "source": [
    "somme_auto = sum(reviews['Category'] == 'Automotive')\n",
    "somme_cell = sum(reviews['Category'] == 'Cell Phones and Accessories')\n",
    "somme_clothes = sum(reviews['Category'] == 'Clothing SHoes and Jewelry')\n",
    "somme_sports = sum(reviews['Category'] == 'Sports and Outdoor')\n",
    "somme_tools = sum(reviews['Category'] == 'Tools and Home Improvements')\n",
    "\n",
    "total = len(reviews['Category'])\n",
    "\n",
    "percent_auto = (somme_auto/ total) * 100\n",
    "percent_cell = (somme_cell/ total) * 100\n",
    "percent_clothes = (somme_clothes/ total) * 100\n",
    "percent_sports = (somme_sports/ total) * 100\n",
    "percent_tools = (somme_tools/ total) * 100\n",
    "\n",
    "\n",
    "table = [[\"Sum\",somme_auto,somme_cell,somme_clothes,somme_sports,somme_tools],\n",
    "         [\"Percent\",percent_auto,percent_cell,percent_clothes,percent_sports,percent_tools]]\n",
    "table = pd.DataFrame(table, columns = [\"Type\",'Automotive',\"Cell Phones and Accessories\",'Clothing SHoes and Jewelry',\n",
    "                                       'Sports and Outdoor','Tools and Home Improvements']) \n",
    "table"
   ]
  },
  {
   "cell_type": "markdown",
   "metadata": {},
   "source": [
    "## 2.3. Summarizing table and graph"
   ]
  },
  {
   "cell_type": "code",
   "execution_count": 22,
   "metadata": {},
   "outputs": [
    {
     "data": {
      "text/plain": [
       "Category                     Positivité\n",
       "Automotive                   1              0.058632\n",
       "                             2              0.065556\n",
       "                             3              0.154695\n",
       "                             4              0.429142\n",
       "                             5              1.506704\n",
       "Cell Phones and Accessories  1              1.436496\n",
       "                             2              1.196882\n",
       "                             3              2.319229\n",
       "                             4              4.326365\n",
       "                             5             11.755059\n",
       "Clothing SHoes and Jewelry   1              1.210729\n",
       "                             2              1.672757\n",
       "                             3              3.291317\n",
       "                             4              6.312946\n",
       "                             5             17.658984\n",
       "Sports and Outdoor           1              0.978470\n",
       "                             2              1.103849\n",
       "                             3              2.603954\n",
       "                             4              7.010911\n",
       "                             5             20.359973\n",
       "Tools and Home Improvements  1              0.556360\n",
       "                             2              0.536779\n",
       "                             3              1.164969\n",
       "                             4              3.065333\n",
       "                             5              9.223909\n",
       "Name: reviewText, dtype: float64"
      ]
     },
     "execution_count": 22,
     "metadata": {},
     "output_type": "execute_result"
    }
   ],
   "source": [
    "data = reviews.groupby(['Category','Positivité']).count()['reviewText']\n",
    "data = data.groupby(level=0).apply(lambda x: 100 * x / len(reviews['reviewText']))\n",
    "data"
   ]
  },
  {
   "cell_type": "code",
   "execution_count": 23,
   "metadata": {},
   "outputs": [
    {
     "data": {
      "text/plain": [
       "Text(0.5, 1.0, 'Bar chart')"
      ]
     },
     "execution_count": 23,
     "metadata": {},
     "output_type": "execute_result"
    },
    {
     "data": {
      "image/png": "[encoded data removed]",
      "text/plain": [
       "<Figure size 720x504 with 1 Axes>"
      ]
     },
     "metadata": {
      "needs_background": "light"
     },
     "output_type": "display_data"
    }
   ],
   "source": [
    "data.unstack().plot.barh(figsize=(10, 7))\n",
    "plt.title('Bar chart')"
   ]
  },
  {
   "cell_type": "markdown",
   "metadata": {},
   "source": [
    "# 3. Balancing Data Set "
   ]
  },
  {
   "cell_type": "markdown",
   "metadata": {},
   "source": [
    "## 3.1. Balancing according to the target (positivity)"
   ]
  },
  {
   "cell_type": "code",
   "execution_count": 24,
   "metadata": {},
   "outputs": [],
   "source": [
    "import random\n",
    "def shuffle(df):\n",
    "    index = list(df.index)\n",
    "    random.shuffle(index)\n",
    "    df = df.loc[index]\n",
    "    df.reset_index()\n",
    "    return df"
   ]
  },
  {
   "cell_type": "code",
   "execution_count": 25,
   "metadata": {},
   "outputs": [],
   "source": [
    "def balance(df) :\n",
    "    df_final = pd.DataFrame()  \n",
    "    for pos in df['Positivité'].unique():\n",
    "        reviews_pos = df[df['Positivité']==pos]                    \n",
    "        reviews_pos_shuffled = shuffle(reviews_pos)\n",
    "        reviews_pos_shuffled = reviews_pos_shuffled[0:min(df['Positivité'].value_counts())]\n",
    "        df_final = df_final.append(reviews_pos_shuffled,ignore_index=True)\n",
    "    df_final.reset_index(drop = True, inplace = True)     \n",
    "    return df_final"
   ]
  },
  {
   "cell_type": "code",
   "execution_count": 26,
   "metadata": {
    "scrolled": true
   },
   "outputs": [],
   "source": [
    "reviews_balanced = balance(reviews)"
   ]
  },
  {
   "cell_type": "code",
   "execution_count": 27,
   "metadata": {},
   "outputs": [
    {
     "data": {
      "text/plain": [
       "reviewText    196005\n",
       "Category      196005\n",
       "Positivité    196005\n",
       "dtype: int64"
      ]
     },
     "execution_count": 27,
     "metadata": {},
     "output_type": "execute_result"
    }
   ],
   "source": [
    "reviews_balanced.count()"
   ]
  },
  {
   "cell_type": "markdown",
   "metadata": {},
   "source": [
    "## 3.2. EDA"
   ]
  },
  {
   "cell_type": "markdown",
   "metadata": {},
   "source": [
    "### 3.2.1. Positivity"
   ]
  },
  {
   "cell_type": "code",
   "execution_count": 28,
   "metadata": {},
   "outputs": [
    {
     "data": {
      "image/png": "[encoded data removed]",
      "text/plain": [
       "<Figure size 720x504 with 1 Axes>"
      ]
     },
     "metadata": {
      "needs_background": "light"
     },
     "output_type": "display_data"
    }
   ],
   "source": [
    "ax, fig = plt.subplots(figsize=(10, 7))\n",
    "classes = reviews_balanced['Positivité'].value_counts()\n",
    "classes.plot(kind= 'bar', color= [\"blue\", \"blue\",'blue','blue','blue'])\n",
    "plt.title('Bar chart')\n",
    "plt.show()"
   ]
  },
  {
   "cell_type": "code",
   "execution_count": 29,
   "metadata": {},
   "outputs": [
    {
     "data": {
      "text/plain": [
       "5    39201\n",
       "4    39201\n",
       "3    39201\n",
       "2    39201\n",
       "1    39201\n",
       "Name: Positivité, dtype: int64"
      ]
     },
     "execution_count": 29,
     "metadata": {},
     "output_type": "execute_result"
    }
   ],
   "source": [
    "reviews_balanced['Positivité'].value_counts()"
   ]
  },
  {
   "cell_type": "code",
   "execution_count": 30,
   "metadata": {},
   "outputs": [
    {
     "data": {
      "text/html": [
       "<div>\n",
       "<style scoped>\n",
       "    .dataframe tbody tr th:only-of-type {\n",
       "        vertical-align: middle;\n",
       "    }\n",
       "\n",
       "    .dataframe tbody tr th {\n",
       "        vertical-align: top;\n",
       "    }\n",
       "\n",
       "    .dataframe thead th {\n",
       "        text-align: right;\n",
       "    }\n",
       "</style>\n",
       "<table border=\"1\" class=\"dataframe\">\n",
       "  <thead>\n",
       "    <tr style=\"text-align: right;\">\n",
       "      <th></th>\n",
       "      <th>Type</th>\n",
       "      <th>5 Rated Reviews</th>\n",
       "      <th>4 Rated Reviews</th>\n",
       "      <th>3 Rated Reviews</th>\n",
       "      <th>2 Rated Reviews</th>\n",
       "      <th>1 Rated Reviews</th>\n",
       "    </tr>\n",
       "  </thead>\n",
       "  <tbody>\n",
       "    <tr>\n",
       "      <th>0</th>\n",
       "      <td>Sum</td>\n",
       "      <td>39201.0</td>\n",
       "      <td>39201.0</td>\n",
       "      <td>39201.0</td>\n",
       "      <td>39201.0</td>\n",
       "      <td>39201.0</td>\n",
       "    </tr>\n",
       "    <tr>\n",
       "      <th>1</th>\n",
       "      <td>Percent</td>\n",
       "      <td>20.0</td>\n",
       "      <td>20.0</td>\n",
       "      <td>20.0</td>\n",
       "      <td>20.0</td>\n",
       "      <td>20.0</td>\n",
       "    </tr>\n",
       "  </tbody>\n",
       "</table>\n",
       "</div>"
      ],
      "text/plain": [
       "      Type  5 Rated Reviews  4 Rated Reviews  3 Rated Reviews  \\\n",
       "0      Sum          39201.0          39201.0          39201.0   \n",
       "1  Percent             20.0             20.0             20.0   \n",
       "\n",
       "   2 Rated Reviews  1 Rated Reviews  \n",
       "0          39201.0          39201.0  \n",
       "1             20.0             20.0  "
      ]
     },
     "execution_count": 30,
     "metadata": {},
     "output_type": "execute_result"
    }
   ],
   "source": [
    "somme_5 = sum(reviews_balanced['Positivité'] == 5)\n",
    "somme_4 = sum(reviews_balanced['Positivité'] == 4)\n",
    "somme_3 = sum(reviews_balanced['Positivité'] == 3)\n",
    "somme_2 = sum(reviews_balanced['Positivité'] == 2)\n",
    "somme_1 = sum(reviews_balanced['Positivité'] == 1)\n",
    "\n",
    "percent_5 = (sum(reviews_balanced['Positivité'] == 5) / len(reviews_balanced['Positivité'])) * 100\n",
    "percent_4 = (sum(reviews_balanced['Positivité'] == 4) / len(reviews_balanced['Positivité'])) * 100\n",
    "percent_3 = (sum(reviews_balanced['Positivité'] == 3) / len(reviews_balanced['Positivité'])) * 100\n",
    "percent_2 = (sum(reviews_balanced['Positivité'] == 2) / len(reviews_balanced['Positivité'])) * 100\n",
    "percent_1 = (sum(reviews_balanced['Positivité'] == 1) / len(reviews_balanced['Positivité'])) * 100\n",
    "\n",
    "\n",
    "table = [[\"Sum\",somme_5,somme_4,somme_3,somme_2,somme_1],\n",
    "         [\"Percent\",percent_5,percent_4,percent_3,percent_2,percent_1]]\n",
    "table = pd.DataFrame(table, columns = [\"Type\",\"5 Rated Reviews\",\"4 Rated Reviews\",\"3 Rated Reviews\",\"2 Rated Reviews\",\"1 Rated Reviews\"]) \n",
    "table"
   ]
  },
  {
   "cell_type": "markdown",
   "metadata": {},
   "source": [
    "### 3.2.1. Category"
   ]
  },
  {
   "cell_type": "code",
   "execution_count": 31,
   "metadata": {},
   "outputs": [
    {
     "data": {
      "image/png": "[encoded data removed]",
      "text/plain": [
       "<Figure size 720x504 with 1 Axes>"
      ]
     },
     "metadata": {
      "needs_background": "light"
     },
     "output_type": "display_data"
    }
   ],
   "source": [
    "ax, fig = plt.subplots(figsize=(10, 7))\n",
    "classes = reviews_balanced['Category'].value_counts()\n",
    "classes.plot(kind= 'bar', color= [\"blue\", \"blue\",'blue','blue','blue'])\n",
    "plt.title('Bar chart')\n",
    "plt.show()"
   ]
  },
  {
   "cell_type": "code",
   "execution_count": 32,
   "metadata": {},
   "outputs": [
    {
     "data": {
      "text/html": [
       "<div>\n",
       "<style scoped>\n",
       "    .dataframe tbody tr th:only-of-type {\n",
       "        vertical-align: middle;\n",
       "    }\n",
       "\n",
       "    .dataframe tbody tr th {\n",
       "        vertical-align: top;\n",
       "    }\n",
       "\n",
       "    .dataframe thead th {\n",
       "        text-align: right;\n",
       "    }\n",
       "</style>\n",
       "<table border=\"1\" class=\"dataframe\">\n",
       "  <thead>\n",
       "    <tr style=\"text-align: right;\">\n",
       "      <th></th>\n",
       "      <th>Type</th>\n",
       "      <th>Automotive</th>\n",
       "      <th>Cell Phones and Accessories</th>\n",
       "      <th>Clothing SHoes and Jewelry</th>\n",
       "      <th>Sports and Outdoor</th>\n",
       "      <th>Tools and Home Improvements</th>\n",
       "    </tr>\n",
       "  </thead>\n",
       "  <tbody>\n",
       "    <tr>\n",
       "      <th>0</th>\n",
       "      <td>Sum</td>\n",
       "      <td>3570.000000</td>\n",
       "      <td>48673.00000</td>\n",
       "      <td>62062.000000</td>\n",
       "      <td>55534.000000</td>\n",
       "      <td>26166.000000</td>\n",
       "    </tr>\n",
       "    <tr>\n",
       "      <th>1</th>\n",
       "      <td>Percent</td>\n",
       "      <td>1.821382</td>\n",
       "      <td>24.83253</td>\n",
       "      <td>31.663478</td>\n",
       "      <td>28.332951</td>\n",
       "      <td>13.349659</td>\n",
       "    </tr>\n",
       "  </tbody>\n",
       "</table>\n",
       "</div>"
      ],
      "text/plain": [
       "      Type   Automotive  Cell Phones and Accessories  \\\n",
       "0      Sum  3570.000000                  48673.00000   \n",
       "1  Percent     1.821382                     24.83253   \n",
       "\n",
       "   Clothing SHoes and Jewelry  Sports and Outdoor  Tools and Home Improvements  \n",
       "0                62062.000000        55534.000000                 26166.000000  \n",
       "1                   31.663478           28.332951                    13.349659  "
      ]
     },
     "execution_count": 32,
     "metadata": {},
     "output_type": "execute_result"
    }
   ],
   "source": [
    "somme_auto = sum(reviews_balanced['Category'] == 'Automotive')\n",
    "somme_cell = sum(reviews_balanced['Category'] == 'Cell Phones and Accessories')\n",
    "somme_clothes = sum(reviews_balanced['Category'] == 'Clothing SHoes and Jewelry')\n",
    "somme_sports = sum(reviews_balanced['Category'] == 'Sports and Outdoor')\n",
    "somme_tools = sum(reviews_balanced['Category'] == 'Tools and Home Improvements')\n",
    "\n",
    "total = len(reviews_balanced['Category'])\n",
    "\n",
    "percent_auto = (somme_auto/ total) * 100\n",
    "percent_cell = (somme_cell/ total) * 100\n",
    "percent_clothes = (somme_clothes/ total) * 100\n",
    "percent_sports = (somme_sports/ total) * 100\n",
    "percent_tools = (somme_tools/ total) * 100\n",
    "\n",
    "\n",
    "table = [[\"Sum\",somme_auto,somme_cell,somme_clothes,somme_sports,somme_tools],\n",
    "         [\"Percent\",percent_auto,percent_cell,percent_clothes,percent_sports,percent_tools]]\n",
    "table = pd.DataFrame(table, columns = [\"Type\",'Automotive',\"Cell Phones and Accessories\",'Clothing SHoes and Jewelry',\n",
    "                                       'Sports and Outdoor','Tools and Home Improvements']) \n",
    "table"
   ]
  },
  {
   "cell_type": "markdown",
   "metadata": {},
   "source": [
    "### 3.2.3. Summary"
   ]
  },
  {
   "cell_type": "code",
   "execution_count": 33,
   "metadata": {},
   "outputs": [
    {
     "data": {
      "text/plain": [
       "Category                     Positivité\n",
       "Automotive                   1             0.276524\n",
       "                             2             0.286217\n",
       "                             3             0.326012\n",
       "                             4             0.394888\n",
       "                             5             0.537741\n",
       "Cell Phones and Accessories  1             6.774827\n",
       "                             2             5.232009\n",
       "                             3             4.863651\n",
       "                             4             4.087141\n",
       "                             5             3.874901\n",
       "Clothing SHoes and Jewelry   1             5.710058\n",
       "                             2             7.306446\n",
       "                             3             6.886559\n",
       "                             4             5.977399\n",
       "                             5             5.783016\n",
       "Sports and Outdoor           1             4.614678\n",
       "                             2             4.828958\n",
       "                             3             5.508023\n",
       "                             4             6.639627\n",
       "                             5             6.741665\n",
       "Tools and Home Improvements  1             2.623913\n",
       "                             2             2.346369\n",
       "                             3             2.415755\n",
       "                             4             2.900946\n",
       "                             5             3.062677\n",
       "Name: reviewText, dtype: float64"
      ]
     },
     "execution_count": 33,
     "metadata": {},
     "output_type": "execute_result"
    }
   ],
   "source": [
    "data = reviews_balanced.groupby(['Category','Positivité']).count()['reviewText']\n",
    "data = data.groupby(level=0).apply(lambda x: 100 * x / len(reviews_balanced['reviewText']))\n",
    "data"
   ]
  },
  {
   "cell_type": "code",
   "execution_count": 34,
   "metadata": {},
   "outputs": [
    {
     "data": {
      "text/plain": [
       "Text(0.5, 1.0, 'Bar chart')"
      ]
     },
     "execution_count": 34,
     "metadata": {},
     "output_type": "execute_result"
    },
    {
     "data": {
      "image/png": "[encoded data removed]",
      "text/plain": [
       "<Figure size 720x504 with 1 Axes>"
      ]
     },
     "metadata": {
      "needs_background": "light"
     },
     "output_type": "display_data"
    }
   ],
   "source": [
    "data.unstack().plot.barh(figsize=(10, 7))\n",
    "plt.title('Bar chart')"
   ]
  },
  {
   "cell_type": "markdown",
   "metadata": {},
   "source": [
    "# 4. Explanatory Data Analysis"
   ]
  },
  {
   "cell_type": "markdown",
   "metadata": {},
   "source": [
    "## 4.1. Distribution de la longueur des commentaires en fonction de la positivité"
   ]
  },
  {
   "cell_type": "markdown",
   "metadata": {},
   "source": [
    "### 4.1.1. Statistiques descriptives classiques longueur des commentaires (en nombre de mots)"
   ]
  },
  {
   "cell_type": "code",
   "execution_count": 35,
   "metadata": {},
   "outputs": [],
   "source": [
    "longueur = reviews_balanced['reviewText'].apply(lambda x: len(str(x).split(' ')))"
   ]
  },
  {
   "cell_type": "code",
   "execution_count": 36,
   "metadata": {},
   "outputs": [
    {
     "data": {
      "text/plain": [
       "count    196005.000000\n",
       "mean         89.220683\n",
       "std         111.978698\n",
       "min           1.000000\n",
       "25%          31.000000\n",
       "50%          54.000000\n",
       "75%         103.000000\n",
       "max        5974.000000\n",
       "Name: reviewText, dtype: float64"
      ]
     },
     "execution_count": 36,
     "metadata": {},
     "output_type": "execute_result"
    }
   ],
   "source": [
    "longueur.describe()"
   ]
  },
  {
   "cell_type": "markdown",
   "metadata": {},
   "source": [
    "### 4.1.2. Statistiques descriptives classiques longueur des commentaires par positivité (en nombre de mots)"
   ]
  },
  {
   "cell_type": "code",
   "execution_count": 37,
   "metadata": {},
   "outputs": [
    {
     "data": {
      "application/vnd.jupyter.widget-view+json": {
       "model_id": "db6c8090a3c8492f8dfecdca1bbc4d8d",
       "version_major": 2,
       "version_minor": 0
      },
      "text/plain": [
       "HBox(children=(IntProgress(value=0, max=39201), HTML(value='')))"
      ]
     },
     "metadata": {},
     "output_type": "display_data"
    },
    {
     "name": "stdout",
     "output_type": "stream",
     "text": [
      "\n"
     ]
    },
    {
     "data": {
      "application/vnd.jupyter.widget-view+json": {
       "model_id": "9232006c3d42405db58ea4801555fadf",
       "version_major": 2,
       "version_minor": 0
      },
      "text/plain": [
       "HBox(children=(IntProgress(value=0, max=39201), HTML(value='')))"
      ]
     },
     "metadata": {},
     "output_type": "display_data"
    },
    {
     "name": "stdout",
     "output_type": "stream",
     "text": [
      "\n"
     ]
    },
    {
     "data": {
      "application/vnd.jupyter.widget-view+json": {
       "model_id": "ac747a67047c46039af0c56d13cad890",
       "version_major": 2,
       "version_minor": 0
      },
      "text/plain": [
       "HBox(children=(IntProgress(value=0, max=39201), HTML(value='')))"
      ]
     },
     "metadata": {},
     "output_type": "display_data"
    },
    {
     "name": "stdout",
     "output_type": "stream",
     "text": [
      "\n"
     ]
    },
    {
     "data": {
      "application/vnd.jupyter.widget-view+json": {
       "model_id": "76284bb06e89401dbffdafc3ba80f794",
       "version_major": 2,
       "version_minor": 0
      },
      "text/plain": [
       "HBox(children=(IntProgress(value=0, max=39201), HTML(value='')))"
      ]
     },
     "metadata": {},
     "output_type": "display_data"
    },
    {
     "name": "stdout",
     "output_type": "stream",
     "text": [
      "\n"
     ]
    },
    {
     "data": {
      "application/vnd.jupyter.widget-view+json": {
       "model_id": "5e039d7327b442c598d34ec66b7bec2b",
       "version_major": 2,
       "version_minor": 0
      },
      "text/plain": [
       "HBox(children=(IntProgress(value=0, max=39201), HTML(value='')))"
      ]
     },
     "metadata": {},
     "output_type": "display_data"
    },
    {
     "name": "stdout",
     "output_type": "stream",
     "text": [
      "\n"
     ]
    }
   ],
   "source": [
    "len_5 = reviews_balanced[reviews_balanced['Positivité']==5]['reviewText'].progress_apply(lambda x: len(str(x).split(' ')))\n",
    "len_4 = reviews_balanced[reviews_balanced['Positivité']==4]['reviewText'].progress_apply(lambda x: len(str(x).split(' ')))\n",
    "len_3 = reviews_balanced[reviews_balanced['Positivité']==3]['reviewText'].progress_apply(lambda x: len(str(x).split(' ')))\n",
    "len_2 = reviews_balanced[reviews_balanced['Positivité']==2]['reviewText'].progress_apply(lambda x: len(str(x).split(' ')))\n",
    "len_1 = reviews_balanced[reviews_balanced['Positivité']==1]['reviewText'].progress_apply(lambda x: len(str(x).split(' ')))"
   ]
  },
  {
   "cell_type": "code",
   "execution_count": 38,
   "metadata": {},
   "outputs": [
    {
     "data": {
      "text/plain": [
       "count    39201.000000\n",
       "mean        77.836101\n",
       "std        104.689515\n",
       "min          1.000000\n",
       "25%         28.000000\n",
       "50%         46.000000\n",
       "75%         87.000000\n",
       "max       5974.000000\n",
       "Name: reviewText, dtype: float64"
      ]
     },
     "execution_count": 38,
     "metadata": {},
     "output_type": "execute_result"
    }
   ],
   "source": [
    "len_5.describe()"
   ]
  },
  {
   "cell_type": "code",
   "execution_count": 39,
   "metadata": {},
   "outputs": [
    {
     "data": {
      "text/plain": [
       "count    39201.000000\n",
       "mean        97.627305\n",
       "std        123.204730\n",
       "min          1.000000\n",
       "25%         33.000000\n",
       "50%         58.000000\n",
       "75%        113.000000\n",
       "max       3517.000000\n",
       "Name: reviewText, dtype: float64"
      ]
     },
     "execution_count": 39,
     "metadata": {},
     "output_type": "execute_result"
    }
   ],
   "source": [
    "len_4.describe()"
   ]
  },
  {
   "cell_type": "code",
   "execution_count": 40,
   "metadata": {},
   "outputs": [
    {
     "data": {
      "text/plain": [
       "count    39201.000000\n",
       "mean        92.052881\n",
       "std        116.139056\n",
       "min          1.000000\n",
       "25%         32.000000\n",
       "50%         56.000000\n",
       "75%        105.000000\n",
       "max       3926.000000\n",
       "Name: reviewText, dtype: float64"
      ]
     },
     "execution_count": 40,
     "metadata": {},
     "output_type": "execute_result"
    }
   ],
   "source": [
    "len_3.describe()"
   ]
  },
  {
   "cell_type": "code",
   "execution_count": 41,
   "metadata": {},
   "outputs": [
    {
     "data": {
      "text/plain": [
       "count    39201.000000\n",
       "mean        93.387158\n",
       "std        110.667158\n",
       "min          1.000000\n",
       "25%         34.000000\n",
       "50%         59.000000\n",
       "75%        110.000000\n",
       "max       2796.000000\n",
       "Name: reviewText, dtype: float64"
      ]
     },
     "execution_count": 41,
     "metadata": {},
     "output_type": "execute_result"
    }
   ],
   "source": [
    "len_2.describe()"
   ]
  },
  {
   "cell_type": "code",
   "execution_count": 42,
   "metadata": {},
   "outputs": [
    {
     "data": {
      "text/plain": [
       "count    39201.000000\n",
       "mean        85.199969\n",
       "std        102.862966\n",
       "min          1.000000\n",
       "25%         31.000000\n",
       "50%         54.000000\n",
       "75%        100.000000\n",
       "max       3548.000000\n",
       "Name: reviewText, dtype: float64"
      ]
     },
     "execution_count": 42,
     "metadata": {},
     "output_type": "execute_result"
    }
   ],
   "source": [
    "len_1.describe()"
   ]
  },
  {
   "cell_type": "code",
   "execution_count": 43,
   "metadata": {},
   "outputs": [
    {
     "data": {
      "text/plain": [
       "(-100, 750)"
      ]
     },
     "execution_count": 43,
     "metadata": {},
     "output_type": "execute_result"
    },
    {
     "data": {
      "image/png": "[encoded data removed]",
      "text/plain": [
       "<Figure size 864x576 with 1 Axes>"
      ]
     },
     "metadata": {},
     "output_type": "display_data"
    }
   ],
   "source": [
    "sns.set(rc={'figure.figsize':(12,8)})\n",
    "fig = sns.distplot(len_5, hist=True, label=\"5-Rated\")\n",
    "fig = sns.distplot(len_4, hist=True, label=\"4-Rated\")\n",
    "fig = sns.distplot(len_3, hist=True, label=\"3-Rated\")\n",
    "fig = sns.distplot(len_2, hist=True, label=\"2-Rated\")\n",
    "fig = sns.distplot(len_1, hist=True, label=\"1-Rated\");\n",
    "\n",
    "fig.figure.suptitle(\"Distribution of each category's lenght (number of words)\", fontsize = 24)\n",
    "\n",
    "plt.ylabel('Distribution [%]', fontsize=16)\n",
    "plt.xlabel(\"Reviews' number of words\", fontsize=18)\n",
    "plt.xlim(-100, 750)"
   ]
  },
  {
   "cell_type": "markdown",
   "metadata": {},
   "source": [
    "## Enregistrement du document"
   ]
  },
  {
   "cell_type": "code",
   "execution_count": 45,
   "metadata": {},
   "outputs": [],
   "source": [
    "reviews_balanced.to_csv(r'C:\\Users\\Bastien\\Desktop\\Data - Rapport\\0. Base de données\\1. Saved versions\\amazon_reviews_balanced.csv',sep=',')"
   ]
  }
 ],
 "metadata": {
  "kernelspec": {
   "display_name": "Python 3",
   "language": "python",
   "name": "python3"
  },
  "language_info": {
   "codemirror_mode": {
    "name": "ipython",
    "version": 3
   },
   "file_extension": ".py",
   "mimetype": "text/x-python",
   "name": "python",
   "nbconvert_exporter": "python",
   "pygments_lexer": "ipython3",
   "version": "3.7.3"
  }
 },
 "nbformat": 4,
 "nbformat_minor": 2
}
